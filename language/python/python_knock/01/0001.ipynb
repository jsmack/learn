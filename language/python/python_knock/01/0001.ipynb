{
 "nbformat": 4,
 "nbformat_minor": 2,
 "metadata": {
  "language_info": {
   "name": "python",
   "codemirror_mode": {
    "name": "ipython",
    "version": 3
   },
   "version": "3.6.0-final"
  },
  "orig_nbformat": 2,
  "file_extension": ".py",
  "mimetype": "text/x-python",
  "name": "python",
  "npconvert_exporter": "python",
  "pygments_lexer": "ipython3",
  "version": 3,
  "kernelspec": {
   "name": "python36064bitanaconda3431pyenv0f133c8de78f494f85ca502951b5398d",
   "display_name": "Python 3.6.0 64-bit ('anaconda3-4.3.1': pyenv)"
  }
 },
 "cells": [
  {
   "cell_type": "code",
   "execution_count": 1,
   "metadata": {},
   "outputs": [],
   "source": [
    "import pandas as pd"
   ]
  },
  {
   "cell_type": "code",
   "execution_count": 5,
   "metadata": {},
   "outputs": [
    {
     "data": {
      "text/html": "<div>\n<table border=\"1\" class=\"dataframe\">\n  <thead>\n    <tr style=\"text-align: right;\">\n      <th></th>\n      <th>customer_id</th>\n      <th>customer_name</th>\n      <th>registration_date</th>\n      <th>customer_name_kana</th>\n      <th>email</th>\n      <th>gender</th>\n      <th>age</th>\n      <th>birth</th>\n      <th>pref</th>\n    </tr>\n  </thead>\n  <tbody>\n    <tr>\n      <th>0</th>\n      <td>IK152942</td>\n      <td>平田 裕次郎</td>\n      <td>2019-01-01 00:25:33</td>\n      <td>ひらた ゆうじろう</td>\n      <td>hirata_yuujirou@example.com</td>\n      <td>M</td>\n      <td>29</td>\n      <td>1990/6/10</td>\n      <td>石川県</td>\n    </tr>\n    <tr>\n      <th>1</th>\n      <td>TS808488</td>\n      <td>田村 詩織</td>\n      <td>2019-01-01 01:13:45</td>\n      <td>たむら しおり</td>\n      <td>tamura_shiori@example.com</td>\n      <td>F</td>\n      <td>33</td>\n      <td>1986/5/20</td>\n      <td>東京都</td>\n    </tr>\n    <tr>\n      <th>2</th>\n      <td>AS834628</td>\n      <td>久野 由樹</td>\n      <td>2019-01-01 02:00:14</td>\n      <td>ひさの ゆき</td>\n      <td>hisano_yuki@example.com</td>\n      <td>F</td>\n      <td>63</td>\n      <td>1956/1/2</td>\n      <td>茨城県</td>\n    </tr>\n    <tr>\n      <th>3</th>\n      <td>AS345469</td>\n      <td>鶴岡 薫</td>\n      <td>2019-01-01 04:48:22</td>\n      <td>つるおか かおる</td>\n      <td>tsuruoka_kaoru@example.com</td>\n      <td>M</td>\n      <td>74</td>\n      <td>1945/3/25</td>\n      <td>東京都</td>\n    </tr>\n    <tr>\n      <th>4</th>\n      <td>GD892565</td>\n      <td>大内 高史</td>\n      <td>2019-01-01 04:54:51</td>\n      <td>おおうち たかし</td>\n      <td>oouchi_takashi@example.com</td>\n      <td>M</td>\n      <td>54</td>\n      <td>1965/8/5</td>\n      <td>千葉県</td>\n    </tr>\n  </tbody>\n</table>\n</div>",
      "text/plain": "  customer_id customer_name    registration_date customer_name_kana  \\\n0    IK152942        平田 裕次郎  2019-01-01 00:25:33          ひらた ゆうじろう   \n1    TS808488         田村 詩織  2019-01-01 01:13:45            たむら しおり   \n2    AS834628         久野 由樹  2019-01-01 02:00:14             ひさの ゆき   \n3    AS345469          鶴岡 薫  2019-01-01 04:48:22           つるおか かおる   \n4    GD892565         大内 高史  2019-01-01 04:54:51           おおうち たかし   \n\n                         email gender  age      birth pref  \n0  hirata_yuujirou@example.com      M   29  1990/6/10  石川県  \n1    tamura_shiori@example.com      F   33  1986/5/20  東京都  \n2      hisano_yuki@example.com      F   63   1956/1/2  茨城県  \n3   tsuruoka_kaoru@example.com      M   74  1945/3/25  東京都  \n4   oouchi_takashi@example.com      M   54   1965/8/5  千葉県  "
     },
     "execution_count": 5,
     "metadata": {},
     "output_type": "execute_result"
    }
   ],
   "source": [
    "customer_master = pd.read_csv('./csv/customer_master.csv')\n",
    "customer_master.head()"
   ]
  },
  {
   "cell_type": "code",
   "execution_count": 6,
   "metadata": {},
   "outputs": [
    {
     "data": {
      "text/html": "<div>\n<table border=\"1\" class=\"dataframe\">\n  <thead>\n    <tr style=\"text-align: right;\">\n      <th></th>\n      <th>item_id</th>\n      <th>item_name</th>\n      <th>item_price</th>\n    </tr>\n  </thead>\n  <tbody>\n    <tr>\n      <th>0</th>\n      <td>S001</td>\n      <td>PC-A</td>\n      <td>50000</td>\n    </tr>\n    <tr>\n      <th>1</th>\n      <td>S002</td>\n      <td>PC-B</td>\n      <td>85000</td>\n    </tr>\n    <tr>\n      <th>2</th>\n      <td>S003</td>\n      <td>PC-C</td>\n      <td>120000</td>\n    </tr>\n    <tr>\n      <th>3</th>\n      <td>S004</td>\n      <td>PC-D</td>\n      <td>180000</td>\n    </tr>\n    <tr>\n      <th>4</th>\n      <td>S005</td>\n      <td>PC-E</td>\n      <td>210000</td>\n    </tr>\n  </tbody>\n</table>\n</div>",
      "text/plain": "  item_id item_name  item_price\n0    S001      PC-A       50000\n1    S002      PC-B       85000\n2    S003      PC-C      120000\n3    S004      PC-D      180000\n4    S005      PC-E      210000"
     },
     "execution_count": 6,
     "metadata": {},
     "output_type": "execute_result"
    }
   ],
   "source": [
    "item_master = pd.read_csv('./csv/item_master.csv')\n",
    "item_master.head()"
   ]
  },
  {
   "cell_type": "code",
   "execution_count": 8,
   "metadata": {},
   "outputs": [
    {
     "data": {
      "text/html": "<div>\n<table border=\"1\" class=\"dataframe\">\n  <thead>\n    <tr style=\"text-align: right;\">\n      <th></th>\n      <th>transaction_id</th>\n      <th>price</th>\n      <th>payment_date</th>\n      <th>customer_id</th>\n    </tr>\n  </thead>\n  <tbody>\n    <tr>\n      <th>0</th>\n      <td>T0000000113</td>\n      <td>210000</td>\n      <td>2019-02-01 01:36:57</td>\n      <td>PL563502</td>\n    </tr>\n    <tr>\n      <th>1</th>\n      <td>T0000000114</td>\n      <td>50000</td>\n      <td>2019-02-01 01:37:23</td>\n      <td>HD678019</td>\n    </tr>\n    <tr>\n      <th>2</th>\n      <td>T0000000115</td>\n      <td>120000</td>\n      <td>2019-02-01 02:34:19</td>\n      <td>HD298120</td>\n    </tr>\n    <tr>\n      <th>3</th>\n      <td>T0000000116</td>\n      <td>210000</td>\n      <td>2019-02-01 02:47:23</td>\n      <td>IK452215</td>\n    </tr>\n    <tr>\n      <th>4</th>\n      <td>T0000000117</td>\n      <td>170000</td>\n      <td>2019-02-01 04:33:46</td>\n      <td>PL542865</td>\n    </tr>\n  </tbody>\n</table>\n</div>",
      "text/plain": "  transaction_id   price         payment_date customer_id\n0    T0000000113  210000  2019-02-01 01:36:57    PL563502\n1    T0000000114   50000  2019-02-01 01:37:23    HD678019\n2    T0000000115  120000  2019-02-01 02:34:19    HD298120\n3    T0000000116  210000  2019-02-01 02:47:23    IK452215\n4    T0000000117  170000  2019-02-01 04:33:46    PL542865"
     },
     "execution_count": 8,
     "metadata": {},
     "output_type": "execute_result"
    }
   ],
   "source": [
    "transaction_1 = pd.read_csv('./csv/transaction_1.csv')\n",
    "transaction_1.head()"
   ]
  },
  {
   "cell_type": "code",
   "execution_count": 10,
   "metadata": {},
   "outputs": [
    {
     "data": {
      "text/html": "<div>\n<table border=\"1\" class=\"dataframe\">\n  <thead>\n    <tr style=\"text-align: right;\">\n      <th></th>\n      <th>detail_id</th>\n      <th>transaction_id</th>\n      <th>item_id</th>\n      <th>quantity</th>\n    </tr>\n  </thead>\n  <tbody>\n    <tr>\n      <th>0</th>\n      <td>0</td>\n      <td>T0000000113</td>\n      <td>S005</td>\n      <td>1</td>\n    </tr>\n    <tr>\n      <th>1</th>\n      <td>1</td>\n      <td>T0000000114</td>\n      <td>S001</td>\n      <td>1</td>\n    </tr>\n    <tr>\n      <th>2</th>\n      <td>2</td>\n      <td>T0000000115</td>\n      <td>S003</td>\n      <td>1</td>\n    </tr>\n    <tr>\n      <th>3</th>\n      <td>3</td>\n      <td>T0000000116</td>\n      <td>S005</td>\n      <td>1</td>\n    </tr>\n    <tr>\n      <th>4</th>\n      <td>4</td>\n      <td>T0000000117</td>\n      <td>S002</td>\n      <td>2</td>\n    </tr>\n  </tbody>\n</table>\n</div>",
      "text/plain": "   detail_id transaction_id item_id  quantity\n0          0    T0000000113    S005         1\n1          1    T0000000114    S001         1\n2          2    T0000000115    S003         1\n3          3    T0000000116    S005         1\n4          4    T0000000117    S002         2"
     },
     "execution_count": 10,
     "metadata": {},
     "output_type": "execute_result"
    }
   ],
   "source": [
    "transaction_detail_1 = pd.read_csv('./csv/transaction_detail_1.csv')\n",
    "transaction_detail_1.head()"
   ]
  },
  {
   "cell_type": "code",
   "execution_count": 11,
   "metadata": {},
   "outputs": [
    {
     "name": "stdout",
     "output_type": "stream",
     "text": "5000\n1786\n6786\n6786\n"
    },
    {
     "data": {
      "text/html": "<div>\n<table border=\"1\" class=\"dataframe\">\n  <thead>\n    <tr style=\"text-align: right;\">\n      <th></th>\n      <th>detail_id</th>\n      <th>transaction_id</th>\n      <th>item_id</th>\n      <th>quantity</th>\n    </tr>\n  </thead>\n  <tbody>\n    <tr>\n      <th>0</th>\n      <td>0</td>\n      <td>T0000000113</td>\n      <td>S005</td>\n      <td>1</td>\n    </tr>\n    <tr>\n      <th>1</th>\n      <td>1</td>\n      <td>T0000000114</td>\n      <td>S001</td>\n      <td>1</td>\n    </tr>\n    <tr>\n      <th>2</th>\n      <td>2</td>\n      <td>T0000000115</td>\n      <td>S003</td>\n      <td>1</td>\n    </tr>\n    <tr>\n      <th>3</th>\n      <td>3</td>\n      <td>T0000000116</td>\n      <td>S005</td>\n      <td>1</td>\n    </tr>\n    <tr>\n      <th>4</th>\n      <td>4</td>\n      <td>T0000000117</td>\n      <td>S002</td>\n      <td>2</td>\n    </tr>\n  </tbody>\n</table>\n</div>",
      "text/plain": "   detail_id transaction_id item_id  quantity\n0          0    T0000000113    S005         1\n1          1    T0000000114    S001         1\n2          2    T0000000115    S003         1\n3          3    T0000000116    S005         1\n4          4    T0000000117    S002         2"
     },
     "execution_count": 11,
     "metadata": {},
     "output_type": "execute_result"
    }
   ],
   "source": []
  },
  {
   "cell_type": "code",
   "execution_count": null,
   "metadata": {},
   "outputs": [],
   "source": []
  }
 ]
}