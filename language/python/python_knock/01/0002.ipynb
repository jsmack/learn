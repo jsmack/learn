{
 "nbformat": 4,
 "nbformat_minor": 2,
 "metadata": {
  "language_info": {
   "name": "python",
   "codemirror_mode": {
    "name": "ipython",
    "version": 3
   },
   "version": "3.6.0-final"
  },
  "orig_nbformat": 2,
  "file_extension": ".py",
  "mimetype": "text/x-python",
  "name": "python",
  "npconvert_exporter": "python",
  "pygments_lexer": "ipython3",
  "version": 3,
  "kernelspec": {
   "name": "python36064bitanaconda3431pyenv0f133c8de78f494f85ca502951b5398d",
   "display_name": "Python 3.6.0 64-bit ('anaconda3-4.3.1': pyenv)"
  }
 },
 "cells": [
  {
   "cell_type": "code",
   "execution_count": 3,
   "metadata": {},
   "outputs": [],
   "source": [
    "import pandas as pd"
   ]
  },
  {
   "cell_type": "code",
   "execution_count": 7,
   "metadata": {},
   "outputs": [
    {
     "data": {
      "text/html": "<div>\n<table border=\"1\" class=\"dataframe\">\n  <thead>\n    <tr style=\"text-align: right;\">\n      <th></th>\n      <th>transaction_id</th>\n      <th>price</th>\n      <th>payment_date</th>\n      <th>customer_id</th>\n    </tr>\n  </thead>\n  <tbody>\n    <tr>\n      <th>0</th>\n      <td>T0000000113</td>\n      <td>210000</td>\n      <td>2019-02-01 01:36:57</td>\n      <td>PL563502</td>\n    </tr>\n    <tr>\n      <th>1</th>\n      <td>T0000000114</td>\n      <td>50000</td>\n      <td>2019-02-01 01:37:23</td>\n      <td>HD678019</td>\n    </tr>\n    <tr>\n      <th>2</th>\n      <td>T0000000115</td>\n      <td>120000</td>\n      <td>2019-02-01 02:34:19</td>\n      <td>HD298120</td>\n    </tr>\n    <tr>\n      <th>3</th>\n      <td>T0000000116</td>\n      <td>210000</td>\n      <td>2019-02-01 02:47:23</td>\n      <td>IK452215</td>\n    </tr>\n    <tr>\n      <th>4</th>\n      <td>T0000000117</td>\n      <td>170000</td>\n      <td>2019-02-01 04:33:46</td>\n      <td>PL542865</td>\n    </tr>\n  </tbody>\n</table>\n</div>",
      "text/plain": "  transaction_id   price         payment_date customer_id\n0    T0000000113  210000  2019-02-01 01:36:57    PL563502\n1    T0000000114   50000  2019-02-01 01:37:23    HD678019\n2    T0000000115  120000  2019-02-01 02:34:19    HD298120\n3    T0000000116  210000  2019-02-01 02:47:23    IK452215\n4    T0000000117  170000  2019-02-01 04:33:46    PL542865"
     },
     "execution_count": 7,
     "metadata": {},
     "output_type": "execute_result"
    }
   ],
   "source": [
    "transaction_1 = pd.read_csv('./csv/transaction_1.csv')\n",
    "transaction_1.head()"
   ]
  },
  {
   "cell_type": "code",
   "execution_count": 8,
   "metadata": {},
   "outputs": [
    {
     "data": {
      "text/html": "<div>\n<table border=\"1\" class=\"dataframe\">\n  <thead>\n    <tr style=\"text-align: right;\">\n      <th></th>\n      <th>transaction_id</th>\n      <th>price</th>\n      <th>payment_date</th>\n      <th>customer_id</th>\n    </tr>\n  </thead>\n  <tbody>\n    <tr>\n      <th>0</th>\n      <td>T0000005113</td>\n      <td>295000</td>\n      <td>2019-06-15 07:20:27</td>\n      <td>TS169261</td>\n    </tr>\n    <tr>\n      <th>1</th>\n      <td>T0000005114</td>\n      <td>50000</td>\n      <td>2019-06-15 07:35:47</td>\n      <td>HI599892</td>\n    </tr>\n    <tr>\n      <th>2</th>\n      <td>T0000005115</td>\n      <td>85000</td>\n      <td>2019-06-15 07:56:36</td>\n      <td>HI421757</td>\n    </tr>\n    <tr>\n      <th>3</th>\n      <td>T0000005116</td>\n      <td>50000</td>\n      <td>2019-06-15 08:40:55</td>\n      <td>OA386378</td>\n    </tr>\n    <tr>\n      <th>4</th>\n      <td>T0000005117</td>\n      <td>120000</td>\n      <td>2019-06-15 08:44:23</td>\n      <td>TS506913</td>\n    </tr>\n  </tbody>\n</table>\n</div>",
      "text/plain": "  transaction_id   price         payment_date customer_id\n0    T0000005113  295000  2019-06-15 07:20:27    TS169261\n1    T0000005114   50000  2019-06-15 07:35:47    HI599892\n2    T0000005115   85000  2019-06-15 07:56:36    HI421757\n3    T0000005116   50000  2019-06-15 08:40:55    OA386378\n4    T0000005117  120000  2019-06-15 08:44:23    TS506913"
     },
     "execution_count": 8,
     "metadata": {},
     "output_type": "execute_result"
    }
   ],
   "source": [
    "transaction_2 = pd.read_csv('./csv/transaction_2.csv')\n",
    "transaction_2.head()"
   ]
  },
  {
   "cell_type": "code",
   "execution_count": 9,
   "metadata": {},
   "outputs": [
    {
     "data": {
      "text/html": "<div>\n<table border=\"1\" class=\"dataframe\">\n  <thead>\n    <tr style=\"text-align: right;\">\n      <th></th>\n      <th>transaction_id</th>\n      <th>price</th>\n      <th>payment_date</th>\n      <th>customer_id</th>\n    </tr>\n  </thead>\n  <tbody>\n    <tr>\n      <th>0</th>\n      <td>T0000000113</td>\n      <td>210000</td>\n      <td>2019-02-01 01:36:57</td>\n      <td>PL563502</td>\n    </tr>\n    <tr>\n      <th>1</th>\n      <td>T0000000114</td>\n      <td>50000</td>\n      <td>2019-02-01 01:37:23</td>\n      <td>HD678019</td>\n    </tr>\n    <tr>\n      <th>2</th>\n      <td>T0000000115</td>\n      <td>120000</td>\n      <td>2019-02-01 02:34:19</td>\n      <td>HD298120</td>\n    </tr>\n    <tr>\n      <th>3</th>\n      <td>T0000000116</td>\n      <td>210000</td>\n      <td>2019-02-01 02:47:23</td>\n      <td>IK452215</td>\n    </tr>\n    <tr>\n      <th>4</th>\n      <td>T0000000117</td>\n      <td>170000</td>\n      <td>2019-02-01 04:33:46</td>\n      <td>PL542865</td>\n    </tr>\n  </tbody>\n</table>\n</div>",
      "text/plain": "  transaction_id   price         payment_date customer_id\n0    T0000000113  210000  2019-02-01 01:36:57    PL563502\n1    T0000000114   50000  2019-02-01 01:37:23    HD678019\n2    T0000000115  120000  2019-02-01 02:34:19    HD298120\n3    T0000000116  210000  2019-02-01 02:47:23    IK452215\n4    T0000000117  170000  2019-02-01 04:33:46    PL542865"
     },
     "execution_count": 9,
     "metadata": {},
     "output_type": "execute_result"
    }
   ],
   "source": [
    "transaction = pd.concat([transaction_1, transaction_2], ignore_index=True)\n",
    "transaction.head()"
   ]
  },
  {
   "cell_type": "code",
   "execution_count": 11,
   "metadata": {},
   "outputs": [
    {
     "name": "stdout",
     "output_type": "stream",
     "text": "5000\n1786\n6786\n6786\n"
    }
   ],
   "source": [
    "print(len(transaction_1))\n",
    "print(len(transaction_2))\n",
    "print(len(transaction))\n",
    "print(len(transaction_1) + len(transaction_2))"
   ]
  },
  {
   "cell_type": "code",
   "execution_count": 12,
   "metadata": {},
   "outputs": [
    {
     "data": {
      "text/html": "<div>\n<table border=\"1\" class=\"dataframe\">\n  <thead>\n    <tr style=\"text-align: right;\">\n      <th></th>\n      <th>detail_id</th>\n      <th>transaction_id</th>\n      <th>item_id</th>\n      <th>quantity</th>\n    </tr>\n  </thead>\n  <tbody>\n    <tr>\n      <th>0</th>\n      <td>0</td>\n      <td>T0000000113</td>\n      <td>S005</td>\n      <td>1</td>\n    </tr>\n    <tr>\n      <th>1</th>\n      <td>1</td>\n      <td>T0000000114</td>\n      <td>S001</td>\n      <td>1</td>\n    </tr>\n    <tr>\n      <th>2</th>\n      <td>2</td>\n      <td>T0000000115</td>\n      <td>S003</td>\n      <td>1</td>\n    </tr>\n    <tr>\n      <th>3</th>\n      <td>3</td>\n      <td>T0000000116</td>\n      <td>S005</td>\n      <td>1</td>\n    </tr>\n    <tr>\n      <th>4</th>\n      <td>4</td>\n      <td>T0000000117</td>\n      <td>S002</td>\n      <td>2</td>\n    </tr>\n  </tbody>\n</table>\n</div>",
      "text/plain": "   detail_id transaction_id item_id  quantity\n0          0    T0000000113    S005         1\n1          1    T0000000114    S001         1\n2          2    T0000000115    S003         1\n3          3    T0000000116    S005         1\n4          4    T0000000117    S002         2"
     },
     "execution_count": 12,
     "metadata": {},
     "output_type": "execute_result"
    }
   ],
   "source": [
    "transaction_detail_1 = pd.read_csv('./csv/transaction_detail_1.csv')\n",
    "transaction_detail_2 = pd.read_csv('./csv/transaction_detail_2.csv')\n",
    "transaction_detail = pd.concat([transaction_detail_1, transaction_detail_2], ignore_index=True)\n",
    "transaction_detail.head()"
   ]
  },
  {
   "cell_type": "code",
   "execution_count": null,
   "metadata": {},
   "outputs": [],
   "source": []
  }
 ]
}