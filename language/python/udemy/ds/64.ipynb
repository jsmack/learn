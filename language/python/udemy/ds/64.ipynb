{
 "cells": [
  {
   "cell_type": "code",
    "execution_count": 1,
   "metadata": {},
   "outputs": [
    {
     "name": "stdout",
     "output_type": "stream",
     "text": [
      "cat\n"
     ]
    }
   ],
   "source": [
    "a = 'cat'\n",
    "print(a)"
   ]
  },
  {
   "cell_type": "code",
   "execution_count": 7,
   "metadata": {},
   "outputs": [],
   "source": [
    "def f():\n",
    "    # print(a)\n",
    "    a = 'dog'\n",
    "    print(a)"
   ]
  },
  {
   "cell_type": "code",
   "execution_count": 8,
   "metadata": {},
   "outputs": [
    {
     "name": "stdout",
     "output_type": "stream",
     "text": [
      "dog\n"
     ]
    }
   ],
   "source": [
    "f()"
   ]
  },
  {
   "cell_type": "code",
   "execution_count": 14,
   "metadata": {},
   "outputs": [],
   "source": [
    "def x():\n",
    "    \"\"\" tesst x\"\"\"\n",
    "    print(x.__name__)\n",
    "    print(x.__doc__)"
   ]
  },
  {
   "cell_type": "code",
   "execution_count": 15,
   "metadata": {},
   "outputs": [
    {
     "name": "stdout",
     "output_type": "stream",
     "text": [
      "{'__name__': '__main__', '__doc__': 'Automatically created module for IPython interactive environment', '__package__': None, '__loader__': None, '__spec__': None, '__builtin__': <module 'builtins' (built-in)>, '__builtins__': <module 'builtins' (built-in)>, '_ih': ['', \"a = 'cat'\\nprint(a)\", 'def f():\\n    print(a9)', 'def f():\\n    print(a)', 'f()', \"def f():\\n    print(a)\\n    a = 'dog'\\n    print(a)\", 'f()', \"def f():\\n    # print(a)\\n    a = 'dog'\\n    print(a)\", 'f()', 'def x():\\n    global a', 'print(globals())', 'print(__name__)', 'def x():\\n    \"\"\" tesst x\"\"\"\\n    print(f.__name__)\\n    print(f.__doc__)', 'x()', 'def x():\\n    \"\"\" tesst x\"\"\"\\n    print(x.__name__)\\n    print(x.__doc__)', 'print(globals())'], '_oh': {}, '_dh': ['/work'], 'In': ['', \"a = 'cat'\\nprint(a)\", 'def f():\\n    print(a9)', 'def f():\\n    print(a)', 'f()', \"def f():\\n    print(a)\\n    a = 'dog'\\n    print(a)\", 'f()', \"def f():\\n    # print(a)\\n    a = 'dog'\\n    print(a)\", 'f()', 'def x():\\n    global a', 'print(globals())', 'print(__name__)', 'def x():\\n    \"\"\" tesst x\"\"\"\\n    print(f.__name__)\\n    print(f.__doc__)', 'x()', 'def x():\\n    \"\"\" tesst x\"\"\"\\n    print(x.__name__)\\n    print(x.__doc__)', 'print(globals())'], 'Out': {}, 'get_ipython': <bound method InteractiveShell.get_ipython of <ipykernel.zmqshell.ZMQInteractiveShell object at 0x7fa054d69650>>, 'exit': <IPython.core.autocall.ZMQExitAutocall object at 0x7fa051ad35d0>, 'quit': <IPython.core.autocall.ZMQExitAutocall object at 0x7fa051ad35d0>, '_': '', '__': '', '___': '', '_i': 'def x():\\n    \"\"\" tesst x\"\"\"\\n    print(x.__name__)\\n    print(x.__doc__)', '_ii': 'x()', '_iii': 'def x():\\n    \"\"\" tesst x\"\"\"\\n    print(f.__name__)\\n    print(f.__doc__)', '_i1': \"a = 'cat'\\nprint(a)\", 'a': 'cat', '_i2': 'def f():\\n    print(a9)', 'f': <function f at 0x7fa051171e60>, '_i3': 'def f():\\n    print(a)', '_i4': 'f()', '_i5': \"def f():\\n    print(a)\\n    a = 'dog'\\n    print(a)\", '_i6': 'f()', '_i7': \"def f():\\n    # print(a)\\n    a = 'dog'\\n    print(a)\", '_i8': 'f()', '_i9': 'def x():\\n    global a', 'x': <function x at 0x7fa0511fd200>, '_i10': 'print(globals())', '_i11': 'print(__name__)', '_i12': 'def x():\\n    \"\"\" tesst x\"\"\"\\n    print(f.__name__)\\n    print(f.__doc__)', '_i13': 'x()', '_i14': 'def x():\\n    \"\"\" tesst x\"\"\"\\n    print(x.__name__)\\n    print(x.__doc__)', '_i15': 'print(globals())'}\n"
     ]
    }
   ],
   "source": [
    "print(globals())"
   ]
  },
  {
   "cell_type": "code",
   "execution_count": 16,
   "metadata": {},
   "outputs": [
    {
     "name": "stdout",
     "output_type": "stream",
     "text": [
      "x\n",
      " tesst x\n"
     ]
    }
   ],
   "source": [
    "x()"
   ]
  },
  {
   "execution_count": null,
   "metadata": {},
   "outputs": [],
   "source": []
  }
 ],
 "metadata": {
  "kernelspec": {
   "display_name": "Python 3",
   "language": "python",
   "name": "python3"
  },
  "language_info": {
   "codemirror_mode": {
    "name": "ipython",
    "version": 3
   },
   "file_extension": ".py",
   "mimetype": "text/x-python",
   "name": "python",
   "nbconvert_exporter": "python",
   "pygments_lexer": "ipython3",
   "version": "3.7.4"
  }
 },
 "nbformat": 4,
 "nbformat_minor": 4
}
