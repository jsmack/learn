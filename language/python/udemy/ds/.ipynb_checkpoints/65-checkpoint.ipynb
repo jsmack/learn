{
 "cells": [
  {
   "cell_type": "code",
   "execution_count": 1,
   "metadata": {},
   "outputs": [],
   "source": [
    "l = [1,2,3]"
   ]
  },
  {
   "cell_type": "code",
   "execution_count": 2,
   "metadata": {},
   "outputs": [],
   "source": [
    "i = 5"
   ]
  },
  {
   "cell_type": "code",
   "execution_count": 3,
   "metadata": {},
   "outputs": [
    {
     "ename": "IndexError",
     "evalue": "list index out of range",
     "output_type": "error",
     "traceback": [
      "\u001b[0;31m---------------------------------------------------------------------------\u001b[0m",
      "\u001b[0;31mIndexError\u001b[0m                                Traceback (most recent call last)",
      "\u001b[0;32m<ipython-input-3-021c72463b38>\u001b[0m in \u001b[0;36m<module>\u001b[0;34m\u001b[0m\n\u001b[0;32m----> 1\u001b[0;31m \u001b[0ml\u001b[0m\u001b[0;34m[\u001b[0m\u001b[0mi\u001b[0m\u001b[0;34m]\u001b[0m\u001b[0;34m\u001b[0m\u001b[0;34m\u001b[0m\u001b[0m\n\u001b[0m",
      "\u001b[0;31mIndexError\u001b[0m: list index out of range"
     ]
    }
   ],
   "source": [
    "l[i]"
   ]
  },
  {
   "cell_type": "code",
   "execution_count": 5,
   "metadata": {},
   "outputs": [
    {
     "name": "stdout",
     "output_type": "stream",
     "text": [
      "index error :list index out of range\n"
     ]
    }
   ],
   "source": [
    "try:\n",
    "    l[i]\n",
    "except IndexError as e:\n",
    "    print(\"index error :{}\".format(e))\n",
    "except:\n",
    "    print(\"error\")"
   ]
  },
  {
   "cell_type": "code",
   "execution_count": 6,
   "metadata": {},
   "outputs": [],
   "source": [
    "del l"
   ]
  },
  {
   "cell_type": "code",
   "execution_count": 8,
   "metadata": {},
   "outputs": [
    {
     "name": "stdout",
     "output_type": "stream",
     "text": [
      "error :name 'l' is not defined\n"
     ]
    }
   ],
   "source": [
    "try:\n",
    "    l[i]\n",
    "except IndexError as e:\n",
    "    print(\"index error :{}\".format(e))\n",
    "except Exception as e:\n",
    "    print(\"error :{}\".format(e))"
   ]
  },
  {
   "cell_type": "code",
   "execution_count": 9,
   "metadata": {},
   "outputs": [
    {
     "name": "stdout",
     "output_type": "stream",
     "text": [
      "error :name 'l' is not defined\n",
      "clean up\n"
     ]
    }
   ],
   "source": [
    "try:\n",
    "    l[i]\n",
    "except IndexError as e:\n",
    "    print(\"index error :{}\".format(e))\n",
    "except Exception as e:\n",
    "    print(\"error :{}\".format(e))\n",
    "finally:\n",
    "    print(\"clean up\")"
   ]
  },
  {
   "cell_type": "code",
   "execution_count": 11,
   "metadata": {},
   "outputs": [],
   "source": [
    "l = [1,2,3]"
   ]
  },
  {
   "cell_type": "code",
   "execution_count": 12,
   "metadata": {},
   "outputs": [
    {
     "name": "stdout",
     "output_type": "stream",
     "text": [
      "else\n",
      "clean up\n"
     ]
    }
   ],
   "source": [
    "try:\n",
    "    l[0]\n",
    "except IndexError as e:\n",
    "    print(\"index error :{}\".format(e))\n",
    "except Exception as e:\n",
    "    print(\"error :{}\".format(e))\n",
    "else:\n",
    "    print(\"else\")\n",
    "finally:\n",
    "    print(\"clean up\")"
   ]
  },
  {
   "cell_type": "code",
   "execution_count": 13,
   "metadata": {},
   "outputs": [
    {
     "name": "stdout",
     "output_type": "stream",
     "text": [
      "index error :list index out of range\n",
      "clean up\n"
     ]
    }
   ],
   "source": [
    "try:\n",
    "    l[5]\n",
    "except IndexError as e:\n",
    "    print(\"index error :{}\".format(e))\n",
    "except Exception as e:\n",
    "    print(\"error :{}\".format(e))\n",
    "else:\n",
    "    print(\"else\")\n",
    "finally:\n",
    "    print(\"clean up\")"
   ]
  },
  {
   "cell_type": "code",
   "execution_count": null,
   "metadata": {},
   "outputs": [],
   "source": []
  }
 ],
 "metadata": {
  "kernelspec": {
   "display_name": "Python 3",
   "language": "python",
   "name": "python3"
  },
  "language_info": {
   "codemirror_mode": {
    "name": "ipython",
    "version": 3
   },
   "file_extension": ".py",
   "mimetype": "text/x-python",
   "name": "python",
   "nbconvert_exporter": "python",
   "pygments_lexer": "ipython3",
   "version": "3.7.4"
  }
 },
 "nbformat": 4,
 "nbformat_minor": 4
}
