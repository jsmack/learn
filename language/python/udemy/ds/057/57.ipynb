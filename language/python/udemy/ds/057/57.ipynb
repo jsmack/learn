{
 "cells": [
  {
   "cell_type": "code",
   "execution_count": 32,
   "metadata": {},
   "outputs": [],
   "source": [
    "def p_info(func):\n",
    "    def wrapper(*args, **kwargs):\n",
    "        print('s')\n",
    "        result = func(*args, **kwargs)\n",
    "        print('e')\n",
    "#        return result\n",
    "    return wrapper\n",
    "\n",
    "def p_more(func):\n",
    "    def wrapper(*args, **kwargs):\n",
    "        print('func:', func.__name__)\n",
    "        print('args:', args)\n",
    "        print('kwargs:', kwargs)\n",
    "        result = func(*args, **kwargs)\n",
    "        print('result:', result)\n",
    "#        return result\n",
    "    return wrapper\n",
    "\n",
    "@p_info\n",
    "@p_more\n",
    "def add_num(a,b):\n",
    "    return a + b"
   ]
  },
  {
   "cell_type": "code",
   "execution_count": 33,
   "metadata": {},
   "outputs": [
    {
     "name": "stdout",
     "output_type": "stream",
     "text": [
      "s\n",
      "func: add_num\n",
      "args: (10, 20)\n",
      "kwargs: {}\n",
      "result: 30\n",
      "e\n",
      "None\n"
     ]
    }
   ],
   "source": [
    "r=add_num(10,20)\n",
    "print(r)"
   ]
  },
  {
   "cell_type": "code",
   "execution_count": 7,
   "metadata": {},
   "outputs": [
    {
     "name": "stdout",
     "output_type": "stream",
     "text": [
      "30\n"
     ]
    }
   ],
   "source": [
    "print(r)"
   ]
  },
  {
   "cell_type": "code",
   "execution_count": 20,
   "metadata": {},
   "outputs": [],
   "source": [
    "@p_info\n",
    "def sub_num(a,b):\n",
    "    return a - b"
   ]
  },
  {
   "cell_type": "code",
   "execution_count": 21,
   "metadata": {},
   "outputs": [
    {
     "name": "stdout",
     "output_type": "stream",
     "text": [
      "s\n",
      "e\n"
     ]
    },
    {
     "data": {
      "text/plain": [
       "-10"
      ]
     },
     "execution_count": 21,
     "metadata": {},
     "output_type": "execute_result"
    }
   ],
   "source": [
    "sub_num(10,20)"
   ]
  },
  {
   "cell_type": "code",
   "execution_count": null,
   "metadata": {},
   "outputs": [],
   "source": []
  },
  {
   "cell_type": "code",
   "execution_count": null,
   "metadata": {},
   "outputs": [],
   "source": []
  }
 ],
 "metadata": {
  "kernelspec": {
   "display_name": "Python 3",
   "language": "python",
   "name": "python3"
  },
  "language_info": {
   "codemirror_mode": {
    "name": "ipython",
    "version": 3
   },
   "file_extension": ".py",
   "mimetype": "text/x-python",
   "name": "python",
   "nbconvert_exporter": "python",
   "pygments_lexer": "ipython3",
   "version": "3.7.4"
  }
 },
 "nbformat": 4,
 "nbformat_minor": 4
}
