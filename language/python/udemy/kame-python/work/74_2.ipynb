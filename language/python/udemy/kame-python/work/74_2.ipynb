{
 "cells": [
  {
   "cell_type": "code",
   "execution_count": 82,
   "metadata": {},
   "outputs": [],
   "source": [
    "%load_ext autoreload\n",
    "%autoreload 2\n",
    "\n",
    "import nibabel as nib\n",
    "import pandas as pd\n",
    "import matplotlib.pyplot as plt\n",
    "from glob import glob\n",
    "import numpy as np"
   ]
  },
  {
   "cell_type": "code",
   "execution_count": 11,
   "metadata": {},
   "outputs": [],
   "source": [
    "p = glob('public_covid_data/rp_im/*')"
   ]
  },
  {
   "cell_type": "code",
   "execution_count": 15,
   "metadata": {},
   "outputs": [
    {
     "data": {
      "text/plain": [
       "['public_covid_data/rp_im/1.nii.gz',\n",
       " 'public_covid_data/rp_im/2.nii.gz',\n",
       " 'public_covid_data/rp_im/3.nii.gz',\n",
       " 'public_covid_data/rp_im/4.nii.gz',\n",
       " 'public_covid_data/rp_im/5.nii.gz',\n",
       " 'public_covid_data/rp_im/6.nii.gz',\n",
       " 'public_covid_data/rp_im/7.nii.gz',\n",
       " 'public_covid_data/rp_im/8.nii.gz',\n",
       " 'public_covid_data/rp_im/9.nii.gz']"
      ]
     },
     "execution_count": 15,
     "metadata": {},
     "output_type": "execute_result"
    }
   ],
   "source": [
    "p"
   ]
  },
  {
   "cell_type": "code",
   "execution_count": 20,
   "metadata": {},
   "outputs": [
    {
     "data": {
      "text/plain": [
       "{'FilePath': ['public_covid_data/rp_im/1.nii.gz',\n",
       "  'public_covid_data/rp_im/2.nii.gz',\n",
       "  'public_covid_data/rp_im/3.nii.gz',\n",
       "  'public_covid_data/rp_im/4.nii.gz',\n",
       "  'public_covid_data/rp_im/5.nii.gz',\n",
       "  'public_covid_data/rp_im/6.nii.gz',\n",
       "  'public_covid_data/rp_im/7.nii.gz',\n",
       "  'public_covid_data/rp_im/8.nii.gz',\n",
       "  'public_covid_data/rp_im/9.nii.gz'],\n",
       " 'FileName': ['1.nii.gz',\n",
       "  '2.nii.gz',\n",
       "  '3.nii.gz',\n",
       "  '4.nii.gz',\n",
       "  '5.nii.gz',\n",
       "  '6.nii.gz',\n",
       "  '7.nii.gz',\n",
       "  '8.nii.gz',\n",
       "  '9.nii.gz']}"
      ]
     },
     "execution_count": 20,
     "metadata": {},
     "output_type": "execute_result"
    }
   ],
   "source": [
    "({'FilePath': p, 'FileName': [x.split('/')[-1] for x in p]})"
   ]
  },
  {
   "cell_type": "code",
   "execution_count": 21,
   "metadata": {},
   "outputs": [
    {
     "data": {
      "text/html": [
       "<div>\n",
       "<style scoped>\n",
       "    .dataframe tbody tr th:only-of-type {\n",
       "        vertical-align: middle;\n",
       "    }\n",
       "\n",
       "    .dataframe tbody tr th {\n",
       "        vertical-align: top;\n",
       "    }\n",
       "\n",
       "    .dataframe thead th {\n",
       "        text-align: right;\n",
       "    }\n",
       "</style>\n",
       "<table border=\"1\" class=\"dataframe\">\n",
       "  <thead>\n",
       "    <tr style=\"text-align: right;\">\n",
       "      <th></th>\n",
       "      <th>FilePath</th>\n",
       "      <th>FileName</th>\n",
       "    </tr>\n",
       "  </thead>\n",
       "  <tbody>\n",
       "    <tr>\n",
       "      <th>0</th>\n",
       "      <td>public_covid_data/rp_im/1.nii.gz</td>\n",
       "      <td>1.nii.gz</td>\n",
       "    </tr>\n",
       "    <tr>\n",
       "      <th>1</th>\n",
       "      <td>public_covid_data/rp_im/2.nii.gz</td>\n",
       "      <td>2.nii.gz</td>\n",
       "    </tr>\n",
       "    <tr>\n",
       "      <th>2</th>\n",
       "      <td>public_covid_data/rp_im/3.nii.gz</td>\n",
       "      <td>3.nii.gz</td>\n",
       "    </tr>\n",
       "    <tr>\n",
       "      <th>3</th>\n",
       "      <td>public_covid_data/rp_im/4.nii.gz</td>\n",
       "      <td>4.nii.gz</td>\n",
       "    </tr>\n",
       "    <tr>\n",
       "      <th>4</th>\n",
       "      <td>public_covid_data/rp_im/5.nii.gz</td>\n",
       "      <td>5.nii.gz</td>\n",
       "    </tr>\n",
       "    <tr>\n",
       "      <th>5</th>\n",
       "      <td>public_covid_data/rp_im/6.nii.gz</td>\n",
       "      <td>6.nii.gz</td>\n",
       "    </tr>\n",
       "    <tr>\n",
       "      <th>6</th>\n",
       "      <td>public_covid_data/rp_im/7.nii.gz</td>\n",
       "      <td>7.nii.gz</td>\n",
       "    </tr>\n",
       "    <tr>\n",
       "      <th>7</th>\n",
       "      <td>public_covid_data/rp_im/8.nii.gz</td>\n",
       "      <td>8.nii.gz</td>\n",
       "    </tr>\n",
       "    <tr>\n",
       "      <th>8</th>\n",
       "      <td>public_covid_data/rp_im/9.nii.gz</td>\n",
       "      <td>9.nii.gz</td>\n",
       "    </tr>\n",
       "  </tbody>\n",
       "</table>\n",
       "</div>"
      ],
      "text/plain": [
       "                           FilePath  FileName\n",
       "0  public_covid_data/rp_im/1.nii.gz  1.nii.gz\n",
       "1  public_covid_data/rp_im/2.nii.gz  2.nii.gz\n",
       "2  public_covid_data/rp_im/3.nii.gz  3.nii.gz\n",
       "3  public_covid_data/rp_im/4.nii.gz  4.nii.gz\n",
       "4  public_covid_data/rp_im/5.nii.gz  5.nii.gz\n",
       "5  public_covid_data/rp_im/6.nii.gz  6.nii.gz\n",
       "6  public_covid_data/rp_im/7.nii.gz  7.nii.gz\n",
       "7  public_covid_data/rp_im/8.nii.gz  8.nii.gz\n",
       "8  public_covid_data/rp_im/9.nii.gz  9.nii.gz"
      ]
     },
     "execution_count": 21,
     "metadata": {},
     "output_type": "execute_result"
    }
   ],
   "source": [
    "pd.DataFrame({'FilePath': p, 'FileName': [x.split('/')[-1] for x in p]})"
   ]
  },
  {
   "cell_type": "code",
   "execution_count": 31,
   "metadata": {},
   "outputs": [],
   "source": [
    "def get_df(base_path='public_covid_data', folder='rp_im'):\n",
    "    data_dict =pd.DataFrame(({'FilePath': glob(f'{base_path}/{folder}/*'),\n",
    "                              'FileName': [x.split('/')[-1] for x in glob(f'{base_path}/{folder}/*')]}))\n",
    "    return data_dict\n",
    "    "
   ]
  },
  {
   "cell_type": "code",
   "execution_count": 25,
   "metadata": {},
   "outputs": [
    {
     "data": {
      "text/html": [
       "<div>\n",
       "<style scoped>\n",
       "    .dataframe tbody tr th:only-of-type {\n",
       "        vertical-align: middle;\n",
       "    }\n",
       "\n",
       "    .dataframe tbody tr th {\n",
       "        vertical-align: top;\n",
       "    }\n",
       "\n",
       "    .dataframe thead th {\n",
       "        text-align: right;\n",
       "    }\n",
       "</style>\n",
       "<table border=\"1\" class=\"dataframe\">\n",
       "  <thead>\n",
       "    <tr style=\"text-align: right;\">\n",
       "      <th></th>\n",
       "      <th>FilePath</th>\n",
       "      <th>FileName</th>\n",
       "    </tr>\n",
       "  </thead>\n",
       "  <tbody>\n",
       "    <tr>\n",
       "      <th>0</th>\n",
       "      <td>public_covid_data/rp_im/1.nii.gz</td>\n",
       "      <td>1.nii.gz</td>\n",
       "    </tr>\n",
       "    <tr>\n",
       "      <th>1</th>\n",
       "      <td>public_covid_data/rp_im/2.nii.gz</td>\n",
       "      <td>2.nii.gz</td>\n",
       "    </tr>\n",
       "    <tr>\n",
       "      <th>2</th>\n",
       "      <td>public_covid_data/rp_im/3.nii.gz</td>\n",
       "      <td>3.nii.gz</td>\n",
       "    </tr>\n",
       "    <tr>\n",
       "      <th>3</th>\n",
       "      <td>public_covid_data/rp_im/4.nii.gz</td>\n",
       "      <td>4.nii.gz</td>\n",
       "    </tr>\n",
       "    <tr>\n",
       "      <th>4</th>\n",
       "      <td>public_covid_data/rp_im/5.nii.gz</td>\n",
       "      <td>5.nii.gz</td>\n",
       "    </tr>\n",
       "    <tr>\n",
       "      <th>5</th>\n",
       "      <td>public_covid_data/rp_im/6.nii.gz</td>\n",
       "      <td>6.nii.gz</td>\n",
       "    </tr>\n",
       "    <tr>\n",
       "      <th>6</th>\n",
       "      <td>public_covid_data/rp_im/7.nii.gz</td>\n",
       "      <td>7.nii.gz</td>\n",
       "    </tr>\n",
       "    <tr>\n",
       "      <th>7</th>\n",
       "      <td>public_covid_data/rp_im/8.nii.gz</td>\n",
       "      <td>8.nii.gz</td>\n",
       "    </tr>\n",
       "    <tr>\n",
       "      <th>8</th>\n",
       "      <td>public_covid_data/rp_im/9.nii.gz</td>\n",
       "      <td>9.nii.gz</td>\n",
       "    </tr>\n",
       "  </tbody>\n",
       "</table>\n",
       "</div>"
      ],
      "text/plain": [
       "                           FilePath  FileName\n",
       "0  public_covid_data/rp_im/1.nii.gz  1.nii.gz\n",
       "1  public_covid_data/rp_im/2.nii.gz  2.nii.gz\n",
       "2  public_covid_data/rp_im/3.nii.gz  3.nii.gz\n",
       "3  public_covid_data/rp_im/4.nii.gz  4.nii.gz\n",
       "4  public_covid_data/rp_im/5.nii.gz  5.nii.gz\n",
       "5  public_covid_data/rp_im/6.nii.gz  6.nii.gz\n",
       "6  public_covid_data/rp_im/7.nii.gz  7.nii.gz\n",
       "7  public_covid_data/rp_im/8.nii.gz  8.nii.gz\n",
       "8  public_covid_data/rp_im/9.nii.gz  9.nii.gz"
      ]
     },
     "execution_count": 25,
     "metadata": {},
     "output_type": "execute_result"
    }
   ],
   "source": [
    "get_df('public_covid_data/rp_im/*')"
   ]
  },
  {
   "cell_type": "code",
   "execution_count": 27,
   "metadata": {},
   "outputs": [
    {
     "data": {
      "text/html": [
       "<div>\n",
       "<style scoped>\n",
       "    .dataframe tbody tr th:only-of-type {\n",
       "        vertical-align: middle;\n",
       "    }\n",
       "\n",
       "    .dataframe tbody tr th {\n",
       "        vertical-align: top;\n",
       "    }\n",
       "\n",
       "    .dataframe thead th {\n",
       "        text-align: right;\n",
       "    }\n",
       "</style>\n",
       "<table border=\"1\" class=\"dataframe\">\n",
       "  <thead>\n",
       "    <tr style=\"text-align: right;\">\n",
       "      <th></th>\n",
       "      <th>FilePath</th>\n",
       "      <th>FileName</th>\n",
       "    </tr>\n",
       "  </thead>\n",
       "  <tbody>\n",
       "    <tr>\n",
       "      <th>0</th>\n",
       "      <td>public_covid_data/rp_msk/1.nii.gz</td>\n",
       "      <td>1.nii.gz</td>\n",
       "    </tr>\n",
       "    <tr>\n",
       "      <th>1</th>\n",
       "      <td>public_covid_data/rp_msk/2.nii.gz</td>\n",
       "      <td>2.nii.gz</td>\n",
       "    </tr>\n",
       "    <tr>\n",
       "      <th>2</th>\n",
       "      <td>public_covid_data/rp_msk/3.nii.gz</td>\n",
       "      <td>3.nii.gz</td>\n",
       "    </tr>\n",
       "    <tr>\n",
       "      <th>3</th>\n",
       "      <td>public_covid_data/rp_msk/4.nii.gz</td>\n",
       "      <td>4.nii.gz</td>\n",
       "    </tr>\n",
       "    <tr>\n",
       "      <th>4</th>\n",
       "      <td>public_covid_data/rp_msk/5.nii.gz</td>\n",
       "      <td>5.nii.gz</td>\n",
       "    </tr>\n",
       "    <tr>\n",
       "      <th>5</th>\n",
       "      <td>public_covid_data/rp_msk/6.nii.gz</td>\n",
       "      <td>6.nii.gz</td>\n",
       "    </tr>\n",
       "    <tr>\n",
       "      <th>6</th>\n",
       "      <td>public_covid_data/rp_msk/7.nii.gz</td>\n",
       "      <td>7.nii.gz</td>\n",
       "    </tr>\n",
       "    <tr>\n",
       "      <th>7</th>\n",
       "      <td>public_covid_data/rp_msk/8.nii.gz</td>\n",
       "      <td>8.nii.gz</td>\n",
       "    </tr>\n",
       "    <tr>\n",
       "      <th>8</th>\n",
       "      <td>public_covid_data/rp_msk/9.nii.gz</td>\n",
       "      <td>9.nii.gz</td>\n",
       "    </tr>\n",
       "  </tbody>\n",
       "</table>\n",
       "</div>"
      ],
      "text/plain": [
       "                            FilePath  FileName\n",
       "0  public_covid_data/rp_msk/1.nii.gz  1.nii.gz\n",
       "1  public_covid_data/rp_msk/2.nii.gz  2.nii.gz\n",
       "2  public_covid_data/rp_msk/3.nii.gz  3.nii.gz\n",
       "3  public_covid_data/rp_msk/4.nii.gz  4.nii.gz\n",
       "4  public_covid_data/rp_msk/5.nii.gz  5.nii.gz\n",
       "5  public_covid_data/rp_msk/6.nii.gz  6.nii.gz\n",
       "6  public_covid_data/rp_msk/7.nii.gz  7.nii.gz\n",
       "7  public_covid_data/rp_msk/8.nii.gz  8.nii.gz\n",
       "8  public_covid_data/rp_msk/9.nii.gz  9.nii.gz"
      ]
     },
     "execution_count": 27,
     "metadata": {},
     "output_type": "execute_result"
    }
   ],
   "source": [
    "get_df('public_covid_data/rp_msk/*')"
   ]
  },
  {
   "cell_type": "code",
   "execution_count": 28,
   "metadata": {},
   "outputs": [],
   "source": [
    "df1 = get_df('public_covid_data/rp_im/*')"
   ]
  },
  {
   "cell_type": "code",
   "execution_count": 29,
   "metadata": {},
   "outputs": [],
   "source": [
    "df2 = get_df('public_covid_data/rp_msk/*')"
   ]
  },
  {
   "cell_type": "code",
   "execution_count": 30,
   "metadata": {},
   "outputs": [
    {
     "data": {
      "text/html": [
       "<div>\n",
       "<style scoped>\n",
       "    .dataframe tbody tr th:only-of-type {\n",
       "        vertical-align: middle;\n",
       "    }\n",
       "\n",
       "    .dataframe tbody tr th {\n",
       "        vertical-align: top;\n",
       "    }\n",
       "\n",
       "    .dataframe thead th {\n",
       "        text-align: right;\n",
       "    }\n",
       "</style>\n",
       "<table border=\"1\" class=\"dataframe\">\n",
       "  <thead>\n",
       "    <tr style=\"text-align: right;\">\n",
       "      <th></th>\n",
       "      <th>FilePath_im</th>\n",
       "      <th>FileName</th>\n",
       "      <th>FilePath_msk</th>\n",
       "    </tr>\n",
       "  </thead>\n",
       "  <tbody>\n",
       "    <tr>\n",
       "      <th>0</th>\n",
       "      <td>public_covid_data/rp_im/1.nii.gz</td>\n",
       "      <td>1.nii.gz</td>\n",
       "      <td>public_covid_data/rp_msk/1.nii.gz</td>\n",
       "    </tr>\n",
       "    <tr>\n",
       "      <th>1</th>\n",
       "      <td>public_covid_data/rp_im/2.nii.gz</td>\n",
       "      <td>2.nii.gz</td>\n",
       "      <td>public_covid_data/rp_msk/2.nii.gz</td>\n",
       "    </tr>\n",
       "    <tr>\n",
       "      <th>2</th>\n",
       "      <td>public_covid_data/rp_im/3.nii.gz</td>\n",
       "      <td>3.nii.gz</td>\n",
       "      <td>public_covid_data/rp_msk/3.nii.gz</td>\n",
       "    </tr>\n",
       "    <tr>\n",
       "      <th>3</th>\n",
       "      <td>public_covid_data/rp_im/4.nii.gz</td>\n",
       "      <td>4.nii.gz</td>\n",
       "      <td>public_covid_data/rp_msk/4.nii.gz</td>\n",
       "    </tr>\n",
       "    <tr>\n",
       "      <th>4</th>\n",
       "      <td>public_covid_data/rp_im/5.nii.gz</td>\n",
       "      <td>5.nii.gz</td>\n",
       "      <td>public_covid_data/rp_msk/5.nii.gz</td>\n",
       "    </tr>\n",
       "    <tr>\n",
       "      <th>5</th>\n",
       "      <td>public_covid_data/rp_im/6.nii.gz</td>\n",
       "      <td>6.nii.gz</td>\n",
       "      <td>public_covid_data/rp_msk/6.nii.gz</td>\n",
       "    </tr>\n",
       "    <tr>\n",
       "      <th>6</th>\n",
       "      <td>public_covid_data/rp_im/7.nii.gz</td>\n",
       "      <td>7.nii.gz</td>\n",
       "      <td>public_covid_data/rp_msk/7.nii.gz</td>\n",
       "    </tr>\n",
       "    <tr>\n",
       "      <th>7</th>\n",
       "      <td>public_covid_data/rp_im/8.nii.gz</td>\n",
       "      <td>8.nii.gz</td>\n",
       "      <td>public_covid_data/rp_msk/8.nii.gz</td>\n",
       "    </tr>\n",
       "    <tr>\n",
       "      <th>8</th>\n",
       "      <td>public_covid_data/rp_im/9.nii.gz</td>\n",
       "      <td>9.nii.gz</td>\n",
       "      <td>public_covid_data/rp_msk/9.nii.gz</td>\n",
       "    </tr>\n",
       "  </tbody>\n",
       "</table>\n",
       "</div>"
      ],
      "text/plain": [
       "                        FilePath_im  FileName  \\\n",
       "0  public_covid_data/rp_im/1.nii.gz  1.nii.gz   \n",
       "1  public_covid_data/rp_im/2.nii.gz  2.nii.gz   \n",
       "2  public_covid_data/rp_im/3.nii.gz  3.nii.gz   \n",
       "3  public_covid_data/rp_im/4.nii.gz  4.nii.gz   \n",
       "4  public_covid_data/rp_im/5.nii.gz  5.nii.gz   \n",
       "5  public_covid_data/rp_im/6.nii.gz  6.nii.gz   \n",
       "6  public_covid_data/rp_im/7.nii.gz  7.nii.gz   \n",
       "7  public_covid_data/rp_im/8.nii.gz  8.nii.gz   \n",
       "8  public_covid_data/rp_im/9.nii.gz  9.nii.gz   \n",
       "\n",
       "                        FilePath_msk  \n",
       "0  public_covid_data/rp_msk/1.nii.gz  \n",
       "1  public_covid_data/rp_msk/2.nii.gz  \n",
       "2  public_covid_data/rp_msk/3.nii.gz  \n",
       "3  public_covid_data/rp_msk/4.nii.gz  \n",
       "4  public_covid_data/rp_msk/5.nii.gz  \n",
       "5  public_covid_data/rp_msk/6.nii.gz  \n",
       "6  public_covid_data/rp_msk/7.nii.gz  \n",
       "7  public_covid_data/rp_msk/8.nii.gz  \n",
       "8  public_covid_data/rp_msk/9.nii.gz  "
      ]
     },
     "execution_count": 30,
     "metadata": {},
     "output_type": "execute_result"
    }
   ],
   "source": [
    "df1.merge(df2, on='FileName', suffixes=('_im', '_msk'))"
   ]
  },
  {
   "cell_type": "code",
   "execution_count": 35,
   "metadata": {},
   "outputs": [],
   "source": [
    "def get_df_all(base_path='public_covid_data'):\n",
    "    rp_im_df  = get_df(base_path, folder='rp_im')\n",
    "    rp_msk_df = get_df(base_path, folder='rp_msk')\n",
    "    return rp_im_df.merge(rp_msk_df, on='FileName', suffixes=('Image', 'Mask'))"
   ]
  },
  {
   "cell_type": "code",
   "execution_count": 37,
   "metadata": {},
   "outputs": [],
   "source": [
    "df = get_df_all()"
   ]
  },
  {
   "cell_type": "code",
   "execution_count": 38,
   "metadata": {},
   "outputs": [
    {
     "data": {
      "text/plain": [
       "0    public_covid_data/rp_msk/1.nii.gz\n",
       "1    public_covid_data/rp_msk/2.nii.gz\n",
       "2    public_covid_data/rp_msk/3.nii.gz\n",
       "3    public_covid_data/rp_msk/4.nii.gz\n",
       "4    public_covid_data/rp_msk/5.nii.gz\n",
       "5    public_covid_data/rp_msk/6.nii.gz\n",
       "6    public_covid_data/rp_msk/7.nii.gz\n",
       "7    public_covid_data/rp_msk/8.nii.gz\n",
       "8    public_covid_data/rp_msk/9.nii.gz\n",
       "Name: FilePathMask, dtype: object"
      ]
     },
     "execution_count": 38,
     "metadata": {},
     "output_type": "execute_result"
    }
   ],
   "source": [
    "df['FilePathMask']"
   ]
  },
  {
   "cell_type": "code",
   "execution_count": 39,
   "metadata": {},
   "outputs": [
    {
     "data": {
      "text/plain": [
       "'public_covid_data/rp_msk/5.nii.gz'"
      ]
     },
     "execution_count": 39,
     "metadata": {},
     "output_type": "execute_result"
    }
   ],
   "source": [
    "df['FilePathMask'].iloc[4]"
   ]
  },
  {
   "cell_type": "code",
   "execution_count": 40,
   "metadata": {},
   "outputs": [
    {
     "data": {
      "text/plain": [
       "(630, 630, 66)"
      ]
     },
     "execution_count": 40,
     "metadata": {},
     "output_type": "execute_result"
    }
   ],
   "source": [
    "import ctvis\n",
    "pp = df['FilePathMask'].iloc[4]\n",
    "seg_data = ctvis.load_nifti(pp)\n",
    "seg_data.shape"
   ]
  },
  {
   "cell_type": "code",
   "execution_count": 41,
   "metadata": {},
   "outputs": [
    {
     "data": {
      "text/plain": [
       "<matplotlib.image.AxesImage at 0x7f90fd941690>"
      ]
     },
     "execution_count": 41,
     "metadata": {},
     "output_type": "execute_result"
    },
    {
     "data": {
      "image/png": "[encoded data removed]",
      "text/plain": [
       "<Figure size 432x288 with 1 Axes>"
      ]
     },
     "metadata": {
      "needs_background": "light"
     },
     "output_type": "display_data"
    }
   ],
   "source": [
    "plt.imshow(seg_data[:, :, 30])"
   ]
  },
  {
   "cell_type": "code",
   "execution_count": 42,
   "metadata": {},
   "outputs": [
    {
     "data": {
      "text/plain": [
       "<matplotlib.image.AxesImage at 0x7f90fd33e3d0>"
      ]
     },
     "execution_count": 42,
     "metadata": {},
     "output_type": "execute_result"
    },
    {
     "data": {
      "image/png": "[encoded data removed]",
      "text/plain": [
       "<Figure size 432x288 with 1 Axes>"
      ]
     },
     "metadata": {
      "needs_background": "light"
     },
     "output_type": "display_data"
    }
   ],
   "source": [
    "plt.imshow(seg_data[:, :, 30], cmap='gray')"
   ]
  },
  {
   "cell_type": "code",
   "execution_count": 44,
   "metadata": {},
   "outputs": [
    {
     "data": {
      "text/plain": [
       "array([0., 1., 2.])"
      ]
     },
     "execution_count": 44,
     "metadata": {},
     "output_type": "execute_result"
    }
   ],
   "source": [
    "np.unique(seg_data)"
   ]
  },
  {
   "cell_type": "code",
   "execution_count": 48,
   "metadata": {},
   "outputs": [],
   "source": [
    "# width heigth z rgb)\n",
    "#np.zeros((630, 630, 66, 3))\n",
    "shp = seg_data.shape\n",
    "seg_color = np.zeros((shp[0], shp[1], shp[2], 3))"
   ]
  },
  {
   "cell_type": "code",
   "execution_count": 50,
   "metadata": {},
   "outputs": [
    {
     "data": {
      "text/plain": [
       "(630, 630, 66, 3)"
      ]
     },
     "execution_count": 50,
     "metadata": {},
     "output_type": "execute_result"
    }
   ],
   "source": [
    "seg_color.shape"
   ]
  },
  {
   "cell_type": "code",
   "execution_count": 52,
   "metadata": {},
   "outputs": [],
   "source": [
    "zeros = np.zeros((2, 2))"
   ]
  },
  {
   "cell_type": "code",
   "execution_count": 59,
   "metadata": {},
   "outputs": [],
   "source": [
    "filter_array = np.array([[True, False], [True, False]])"
   ]
  },
  {
   "cell_type": "code",
   "execution_count": 60,
   "metadata": {},
   "outputs": [
    {
     "data": {
      "text/plain": [
       "array([[ True, False],\n",
       "       [ True, False]])"
      ]
     },
     "execution_count": 60,
     "metadata": {},
     "output_type": "execute_result"
    }
   ],
   "source": [
    "filter_array"
   ]
  },
  {
   "cell_type": "code",
   "execution_count": 61,
   "metadata": {},
   "outputs": [
    {
     "data": {
      "text/plain": [
       "array([0., 0.])"
      ]
     },
     "execution_count": 61,
     "metadata": {},
     "output_type": "execute_result"
    }
   ],
   "source": [
    "zeros[filter_array]"
   ]
  },
  {
   "cell_type": "code",
   "execution_count": 63,
   "metadata": {},
   "outputs": [],
   "source": [
    "zeros[filter_array] = 1"
   ]
  },
  {
   "cell_type": "code",
   "execution_count": 64,
   "metadata": {},
   "outputs": [
    {
     "data": {
      "text/plain": [
       "array([[1., 0.],\n",
       "       [1., 0.]])"
      ]
     },
     "execution_count": 64,
     "metadata": {},
     "output_type": "execute_result"
    }
   ],
   "source": [
    "zeros"
   ]
  },
  {
   "cell_type": "code",
   "execution_count": 66,
   "metadata": {},
   "outputs": [],
   "source": [
    "filter_array = np.where(seg_data==1, True, False)"
   ]
  },
  {
   "cell_type": "code",
   "execution_count": 67,
   "metadata": {},
   "outputs": [
    {
     "data": {
      "text/plain": [
       "array([[[False, False, False, ..., False, False, False],\n",
       "        [False, False, False, ..., False, False, False],\n",
       "        [False, False, False, ..., False, False, False],\n",
       "        ...,\n",
       "        [False, False, False, ..., False, False, False],\n",
       "        [False, False, False, ..., False, False, False],\n",
       "        [False, False, False, ..., False, False, False]],\n",
       "\n",
       "       [[False, False, False, ..., False, False, False],\n",
       "        [False, False, False, ..., False, False, False],\n",
       "        [False, False, False, ..., False, False, False],\n",
       "        ...,\n",
       "        [False, False, False, ..., False, False, False],\n",
       "        [False, False, False, ..., False, False, False],\n",
       "        [False, False, False, ..., False, False, False]],\n",
       "\n",
       "       [[False, False, False, ..., False, False, False],\n",
       "        [False, False, False, ..., False, False, False],\n",
       "        [False, False, False, ..., False, False, False],\n",
       "        ...,\n",
       "        [False, False, False, ..., False, False, False],\n",
       "        [False, False, False, ..., False, False, False],\n",
       "        [False, False, False, ..., False, False, False]],\n",
       "\n",
       "       ...,\n",
       "\n",
       "       [[False, False, False, ..., False, False, False],\n",
       "        [False, False, False, ..., False, False, False],\n",
       "        [False, False, False, ..., False, False, False],\n",
       "        ...,\n",
       "        [False, False, False, ..., False, False, False],\n",
       "        [False, False, False, ..., False, False, False],\n",
       "        [False, False, False, ..., False, False, False]],\n",
       "\n",
       "       [[False, False, False, ..., False, False, False],\n",
       "        [False, False, False, ..., False, False, False],\n",
       "        [False, False, False, ..., False, False, False],\n",
       "        ...,\n",
       "        [False, False, False, ..., False, False, False],\n",
       "        [False, False, False, ..., False, False, False],\n",
       "        [False, False, False, ..., False, False, False]],\n",
       "\n",
       "       [[False, False, False, ..., False, False, False],\n",
       "        [False, False, False, ..., False, False, False],\n",
       "        [False, False, False, ..., False, False, False],\n",
       "        ...,\n",
       "        [False, False, False, ..., False, False, False],\n",
       "        [False, False, False, ..., False, False, False],\n",
       "        [False, False, False, ..., False, False, False]]])"
      ]
     },
     "execution_count": 67,
     "metadata": {},
     "output_type": "execute_result"
    }
   ],
   "source": [
    "filter_array"
   ]
  },
  {
   "cell_type": "code",
   "execution_count": 69,
   "metadata": {},
   "outputs": [],
   "source": [
    "seg_color[filter_array]  = [255, 0, 0]"
   ]
  },
  {
   "cell_type": "code",
   "execution_count": 71,
   "metadata": {},
   "outputs": [
    {
     "data": {
      "text/plain": [
       "array([[[[0., 0., 0.],\n",
       "         [0., 0., 0.],\n",
       "         [0., 0., 0.],\n",
       "         ...,\n",
       "         [0., 0., 0.],\n",
       "         [0., 0., 0.],\n",
       "         [0., 0., 0.]],\n",
       "\n",
       "        [[0., 0., 0.],\n",
       "         [0., 0., 0.],\n",
       "         [0., 0., 0.],\n",
       "         ...,\n",
       "         [0., 0., 0.],\n",
       "         [0., 0., 0.],\n",
       "         [0., 0., 0.]],\n",
       "\n",
       "        [[0., 0., 0.],\n",
       "         [0., 0., 0.],\n",
       "         [0., 0., 0.],\n",
       "         ...,\n",
       "         [0., 0., 0.],\n",
       "         [0., 0., 0.],\n",
       "         [0., 0., 0.]],\n",
       "\n",
       "        ...,\n",
       "\n",
       "        [[0., 0., 0.],\n",
       "         [0., 0., 0.],\n",
       "         [0., 0., 0.],\n",
       "         ...,\n",
       "         [0., 0., 0.],\n",
       "         [0., 0., 0.],\n",
       "         [0., 0., 0.]],\n",
       "\n",
       "        [[0., 0., 0.],\n",
       "         [0., 0., 0.],\n",
       "         [0., 0., 0.],\n",
       "         ...,\n",
       "         [0., 0., 0.],\n",
       "         [0., 0., 0.],\n",
       "         [0., 0., 0.]],\n",
       "\n",
       "        [[0., 0., 0.],\n",
       "         [0., 0., 0.],\n",
       "         [0., 0., 0.],\n",
       "         ...,\n",
       "         [0., 0., 0.],\n",
       "         [0., 0., 0.],\n",
       "         [0., 0., 0.]]],\n",
       "\n",
       "\n",
       "       [[[0., 0., 0.],\n",
       "         [0., 0., 0.],\n",
       "         [0., 0., 0.],\n",
       "         ...,\n",
       "         [0., 0., 0.],\n",
       "         [0., 0., 0.],\n",
       "         [0., 0., 0.]],\n",
       "\n",
       "        [[0., 0., 0.],\n",
       "         [0., 0., 0.],\n",
       "         [0., 0., 0.],\n",
       "         ...,\n",
       "         [0., 0., 0.],\n",
       "         [0., 0., 0.],\n",
       "         [0., 0., 0.]],\n",
       "\n",
       "        [[0., 0., 0.],\n",
       "         [0., 0., 0.],\n",
       "         [0., 0., 0.],\n",
       "         ...,\n",
       "         [0., 0., 0.],\n",
       "         [0., 0., 0.],\n",
       "         [0., 0., 0.]],\n",
       "\n",
       "        ...,\n",
       "\n",
       "        [[0., 0., 0.],\n",
       "         [0., 0., 0.],\n",
       "         [0., 0., 0.],\n",
       "         ...,\n",
       "         [0., 0., 0.],\n",
       "         [0., 0., 0.],\n",
       "         [0., 0., 0.]],\n",
       "\n",
       "        [[0., 0., 0.],\n",
       "         [0., 0., 0.],\n",
       "         [0., 0., 0.],\n",
       "         ...,\n",
       "         [0., 0., 0.],\n",
       "         [0., 0., 0.],\n",
       "         [0., 0., 0.]],\n",
       "\n",
       "        [[0., 0., 0.],\n",
       "         [0., 0., 0.],\n",
       "         [0., 0., 0.],\n",
       "         ...,\n",
       "         [0., 0., 0.],\n",
       "         [0., 0., 0.],\n",
       "         [0., 0., 0.]]],\n",
       "\n",
       "\n",
       "       [[[0., 0., 0.],\n",
       "         [0., 0., 0.],\n",
       "         [0., 0., 0.],\n",
       "         ...,\n",
       "         [0., 0., 0.],\n",
       "         [0., 0., 0.],\n",
       "         [0., 0., 0.]],\n",
       "\n",
       "        [[0., 0., 0.],\n",
       "         [0., 0., 0.],\n",
       "         [0., 0., 0.],\n",
       "         ...,\n",
       "         [0., 0., 0.],\n",
       "         [0., 0., 0.],\n",
       "         [0., 0., 0.]],\n",
       "\n",
       "        [[0., 0., 0.],\n",
       "         [0., 0., 0.],\n",
       "         [0., 0., 0.],\n",
       "         ...,\n",
       "         [0., 0., 0.],\n",
       "         [0., 0., 0.],\n",
       "         [0., 0., 0.]],\n",
       "\n",
       "        ...,\n",
       "\n",
       "        [[0., 0., 0.],\n",
       "         [0., 0., 0.],\n",
       "         [0., 0., 0.],\n",
       "         ...,\n",
       "         [0., 0., 0.],\n",
       "         [0., 0., 0.],\n",
       "         [0., 0., 0.]],\n",
       "\n",
       "        [[0., 0., 0.],\n",
       "         [0., 0., 0.],\n",
       "         [0., 0., 0.],\n",
       "         ...,\n",
       "         [0., 0., 0.],\n",
       "         [0., 0., 0.],\n",
       "         [0., 0., 0.]],\n",
       "\n",
       "        [[0., 0., 0.],\n",
       "         [0., 0., 0.],\n",
       "         [0., 0., 0.],\n",
       "         ...,\n",
       "         [0., 0., 0.],\n",
       "         [0., 0., 0.],\n",
       "         [0., 0., 0.]]],\n",
       "\n",
       "\n",
       "       ...,\n",
       "\n",
       "\n",
       "       [[[0., 0., 0.],\n",
       "         [0., 0., 0.],\n",
       "         [0., 0., 0.],\n",
       "         ...,\n",
       "         [0., 0., 0.],\n",
       "         [0., 0., 0.],\n",
       "         [0., 0., 0.]],\n",
       "\n",
       "        [[0., 0., 0.],\n",
       "         [0., 0., 0.],\n",
       "         [0., 0., 0.],\n",
       "         ...,\n",
       "         [0., 0., 0.],\n",
       "         [0., 0., 0.],\n",
       "         [0., 0., 0.]],\n",
       "\n",
       "        [[0., 0., 0.],\n",
       "         [0., 0., 0.],\n",
       "         [0., 0., 0.],\n",
       "         ...,\n",
       "         [0., 0., 0.],\n",
       "         [0., 0., 0.],\n",
       "         [0., 0., 0.]],\n",
       "\n",
       "        ...,\n",
       "\n",
       "        [[0., 0., 0.],\n",
       "         [0., 0., 0.],\n",
       "         [0., 0., 0.],\n",
       "         ...,\n",
       "         [0., 0., 0.],\n",
       "         [0., 0., 0.],\n",
       "         [0., 0., 0.]],\n",
       "\n",
       "        [[0., 0., 0.],\n",
       "         [0., 0., 0.],\n",
       "         [0., 0., 0.],\n",
       "         ...,\n",
       "         [0., 0., 0.],\n",
       "         [0., 0., 0.],\n",
       "         [0., 0., 0.]],\n",
       "\n",
       "        [[0., 0., 0.],\n",
       "         [0., 0., 0.],\n",
       "         [0., 0., 0.],\n",
       "         ...,\n",
       "         [0., 0., 0.],\n",
       "         [0., 0., 0.],\n",
       "         [0., 0., 0.]]],\n",
       "\n",
       "\n",
       "       [[[0., 0., 0.],\n",
       "         [0., 0., 0.],\n",
       "         [0., 0., 0.],\n",
       "         ...,\n",
       "         [0., 0., 0.],\n",
       "         [0., 0., 0.],\n",
       "         [0., 0., 0.]],\n",
       "\n",
       "        [[0., 0., 0.],\n",
       "         [0., 0., 0.],\n",
       "         [0., 0., 0.],\n",
       "         ...,\n",
       "         [0., 0., 0.],\n",
       "         [0., 0., 0.],\n",
       "         [0., 0., 0.]],\n",
       "\n",
       "        [[0., 0., 0.],\n",
       "         [0., 0., 0.],\n",
       "         [0., 0., 0.],\n",
       "         ...,\n",
       "         [0., 0., 0.],\n",
       "         [0., 0., 0.],\n",
       "         [0., 0., 0.]],\n",
       "\n",
       "        ...,\n",
       "\n",
       "        [[0., 0., 0.],\n",
       "         [0., 0., 0.],\n",
       "         [0., 0., 0.],\n",
       "         ...,\n",
       "         [0., 0., 0.],\n",
       "         [0., 0., 0.],\n",
       "         [0., 0., 0.]],\n",
       "\n",
       "        [[0., 0., 0.],\n",
       "         [0., 0., 0.],\n",
       "         [0., 0., 0.],\n",
       "         ...,\n",
       "         [0., 0., 0.],\n",
       "         [0., 0., 0.],\n",
       "         [0., 0., 0.]],\n",
       "\n",
       "        [[0., 0., 0.],\n",
       "         [0., 0., 0.],\n",
       "         [0., 0., 0.],\n",
       "         ...,\n",
       "         [0., 0., 0.],\n",
       "         [0., 0., 0.],\n",
       "         [0., 0., 0.]]],\n",
       "\n",
       "\n",
       "       [[[0., 0., 0.],\n",
       "         [0., 0., 0.],\n",
       "         [0., 0., 0.],\n",
       "         ...,\n",
       "         [0., 0., 0.],\n",
       "         [0., 0., 0.],\n",
       "         [0., 0., 0.]],\n",
       "\n",
       "        [[0., 0., 0.],\n",
       "         [0., 0., 0.],\n",
       "         [0., 0., 0.],\n",
       "         ...,\n",
       "         [0., 0., 0.],\n",
       "         [0., 0., 0.],\n",
       "         [0., 0., 0.]],\n",
       "\n",
       "        [[0., 0., 0.],\n",
       "         [0., 0., 0.],\n",
       "         [0., 0., 0.],\n",
       "         ...,\n",
       "         [0., 0., 0.],\n",
       "         [0., 0., 0.],\n",
       "         [0., 0., 0.]],\n",
       "\n",
       "        ...,\n",
       "\n",
       "        [[0., 0., 0.],\n",
       "         [0., 0., 0.],\n",
       "         [0., 0., 0.],\n",
       "         ...,\n",
       "         [0., 0., 0.],\n",
       "         [0., 0., 0.],\n",
       "         [0., 0., 0.]],\n",
       "\n",
       "        [[0., 0., 0.],\n",
       "         [0., 0., 0.],\n",
       "         [0., 0., 0.],\n",
       "         ...,\n",
       "         [0., 0., 0.],\n",
       "         [0., 0., 0.],\n",
       "         [0., 0., 0.]],\n",
       "\n",
       "        [[0., 0., 0.],\n",
       "         [0., 0., 0.],\n",
       "         [0., 0., 0.],\n",
       "         ...,\n",
       "         [0., 0., 0.],\n",
       "         [0., 0., 0.],\n",
       "         [0., 0., 0.]]]])"
      ]
     },
     "execution_count": 71,
     "metadata": {},
     "output_type": "execute_result"
    }
   ],
   "source": [
    "seg_color"
   ]
  },
  {
   "cell_type": "code",
   "execution_count": 72,
   "metadata": {},
   "outputs": [
    {
     "name": "stderr",
     "output_type": "stream",
     "text": [
      "Clipping input data to the valid range for imshow with RGB data ([0..1] for floats or [0..255] for integers).\n"
     ]
    },
    {
     "data": {
      "text/plain": [
       "<matplotlib.image.AxesImage at 0x7f90fde47f90>"
      ]
     },
     "execution_count": 72,
     "metadata": {},
     "output_type": "execute_result"
    },
    {
     "data": {
      "image/png": "[encoded data removed]",
      "text/plain": [
       "<Figure size 432x288 with 1 Axes>"
      ]
     },
     "metadata": {
      "needs_background": "light"
     },
     "output_type": "display_data"
    }
   ],
   "source": [
    "plt.imshow(seg_color[:, :, 30])"
   ]
  },
  {
   "cell_type": "code",
   "execution_count": 74,
   "metadata": {},
   "outputs": [
    {
     "data": {
      "text/plain": [
       "array([[[False, False, False, ..., False, False, False],\n",
       "        [False, False, False, ..., False, False, False],\n",
       "        [False, False, False, ..., False, False, False],\n",
       "        ...,\n",
       "        [False, False, False, ..., False, False, False],\n",
       "        [False, False, False, ..., False, False, False],\n",
       "        [False, False, False, ..., False, False, False]],\n",
       "\n",
       "       [[False, False, False, ..., False, False, False],\n",
       "        [False, False, False, ..., False, False, False],\n",
       "        [False, False, False, ..., False, False, False],\n",
       "        ...,\n",
       "        [False, False, False, ..., False, False, False],\n",
       "        [False, False, False, ..., False, False, False],\n",
       "        [False, False, False, ..., False, False, False]],\n",
       "\n",
       "       [[False, False, False, ..., False, False, False],\n",
       "        [False, False, False, ..., False, False, False],\n",
       "        [False, False, False, ..., False, False, False],\n",
       "        ...,\n",
       "        [False, False, False, ..., False, False, False],\n",
       "        [False, False, False, ..., False, False, False],\n",
       "        [False, False, False, ..., False, False, False]],\n",
       "\n",
       "       ...,\n",
       "\n",
       "       [[False, False, False, ..., False, False, False],\n",
       "        [False, False, False, ..., False, False, False],\n",
       "        [False, False, False, ..., False, False, False],\n",
       "        ...,\n",
       "        [False, False, False, ..., False, False, False],\n",
       "        [False, False, False, ..., False, False, False],\n",
       "        [False, False, False, ..., False, False, False]],\n",
       "\n",
       "       [[False, False, False, ..., False, False, False],\n",
       "        [False, False, False, ..., False, False, False],\n",
       "        [False, False, False, ..., False, False, False],\n",
       "        ...,\n",
       "        [False, False, False, ..., False, False, False],\n",
       "        [False, False, False, ..., False, False, False],\n",
       "        [False, False, False, ..., False, False, False]],\n",
       "\n",
       "       [[False, False, False, ..., False, False, False],\n",
       "        [False, False, False, ..., False, False, False],\n",
       "        [False, False, False, ..., False, False, False],\n",
       "        ...,\n",
       "        [False, False, False, ..., False, False, False],\n",
       "        [False, False, False, ..., False, False, False],\n",
       "        [False, False, False, ..., False, False, False]]])"
      ]
     },
     "execution_count": 74,
     "metadata": {},
     "output_type": "execute_result"
    }
   ],
   "source": [
    "np.equal(seg_data, 1)"
   ]
  },
  {
   "cell_type": "code",
   "execution_count": 75,
   "metadata": {},
   "outputs": [],
   "source": [
    "filter_array = np.equal(seg_data, 1)"
   ]
  },
  {
   "cell_type": "code",
   "execution_count": 77,
   "metadata": {},
   "outputs": [
    {
     "data": {
      "text/plain": [
       "array([0., 1., 2.])"
      ]
     },
     "execution_count": 77,
     "metadata": {},
     "output_type": "execute_result"
    }
   ],
   "source": [
    "np.unique(seg_data)"
   ]
  },
  {
   "cell_type": "code",
   "execution_count": 80,
   "metadata": {},
   "outputs": [],
   "source": [
    "# 箱の作成\n",
    "seg_color = np.zeros((shp[0], shp[1], shp[2], 3), dtype=np.float32)\n",
    "\n",
    "# カラー作成\n",
    "ggo_color = [255, 0, 0]\n",
    "consolidation_color = [0, 255, 0]\n",
    "effusion_color = [0, 0, 255]\n",
    "\n",
    "# それぞれ色を指定\n",
    "seg_color[np.equal(seg_data, 1 )] = ggo_color\n",
    "seg_color[np.equal(seg_data, 2 )] = consolidation_color\n",
    "seg_color[np.equal(seg_data, 3 )] = effusion_color"
   ]
  },
  {
   "cell_type": "code",
   "execution_count": 81,
   "metadata": {},
   "outputs": [
    {
     "name": "stderr",
     "output_type": "stream",
     "text": [
      "Clipping input data to the valid range for imshow with RGB data ([0..1] for floats or [0..255] for integers).\n"
     ]
    },
    {
     "data": {
      "text/plain": [
       "<matplotlib.image.AxesImage at 0x7f90fdd647d0>"
      ]
     },
     "execution_count": 81,
     "metadata": {},
     "output_type": "execute_result"
    },
    {
     "data": {
      "image/png": "[encoded data removed]",
      "text/plain": [
       "<Figure size 432x288 with 1 Axes>"
      ]
     },
     "metadata": {
      "needs_background": "light"
     },
     "output_type": "display_data"
    }
   ],
   "source": [
    "plt.imshow(seg_color[:, :, 30])"
   ]
  },
  {
   "cell_type": "code",
   "execution_count": 86,
   "metadata": {},
   "outputs": [
    {
     "data": {
      "text/plain": [
       "array([[[[0., 0., 0.],\n",
       "         [0., 0., 0.],\n",
       "         [0., 0., 0.],\n",
       "         ...,\n",
       "         [0., 0., 0.],\n",
       "         [0., 0., 0.],\n",
       "         [0., 0., 0.]],\n",
       "\n",
       "        [[0., 0., 0.],\n",
       "         [0., 0., 0.],\n",
       "         [0., 0., 0.],\n",
       "         ...,\n",
       "         [0., 0., 0.],\n",
       "         [0., 0., 0.],\n",
       "         [0., 0., 0.]],\n",
       "\n",
       "        [[0., 0., 0.],\n",
       "         [0., 0., 0.],\n",
       "         [0., 0., 0.],\n",
       "         ...,\n",
       "         [0., 0., 0.],\n",
       "         [0., 0., 0.],\n",
       "         [0., 0., 0.]],\n",
       "\n",
       "        ...,\n",
       "\n",
       "        [[0., 0., 0.],\n",
       "         [0., 0., 0.],\n",
       "         [0., 0., 0.],\n",
       "         ...,\n",
       "         [0., 0., 0.],\n",
       "         [0., 0., 0.],\n",
       "         [0., 0., 0.]],\n",
       "\n",
       "        [[0., 0., 0.],\n",
       "         [0., 0., 0.],\n",
       "         [0., 0., 0.],\n",
       "         ...,\n",
       "         [0., 0., 0.],\n",
       "         [0., 0., 0.],\n",
       "         [0., 0., 0.]],\n",
       "\n",
       "        [[0., 0., 0.],\n",
       "         [0., 0., 0.],\n",
       "         [0., 0., 0.],\n",
       "         ...,\n",
       "         [0., 0., 0.],\n",
       "         [0., 0., 0.],\n",
       "         [0., 0., 0.]]],\n",
       "\n",
       "\n",
       "       [[[0., 0., 0.],\n",
       "         [0., 0., 0.],\n",
       "         [0., 0., 0.],\n",
       "         ...,\n",
       "         [0., 0., 0.],\n",
       "         [0., 0., 0.],\n",
       "         [0., 0., 0.]],\n",
       "\n",
       "        [[0., 0., 0.],\n",
       "         [0., 0., 0.],\n",
       "         [0., 0., 0.],\n",
       "         ...,\n",
       "         [0., 0., 0.],\n",
       "         [0., 0., 0.],\n",
       "         [0., 0., 0.]],\n",
       "\n",
       "        [[0., 0., 0.],\n",
       "         [0., 0., 0.],\n",
       "         [0., 0., 0.],\n",
       "         ...,\n",
       "         [0., 0., 0.],\n",
       "         [0., 0., 0.],\n",
       "         [0., 0., 0.]],\n",
       "\n",
       "        ...,\n",
       "\n",
       "        [[0., 0., 0.],\n",
       "         [0., 0., 0.],\n",
       "         [0., 0., 0.],\n",
       "         ...,\n",
       "         [0., 0., 0.],\n",
       "         [0., 0., 0.],\n",
       "         [0., 0., 0.]],\n",
       "\n",
       "        [[0., 0., 0.],\n",
       "         [0., 0., 0.],\n",
       "         [0., 0., 0.],\n",
       "         ...,\n",
       "         [0., 0., 0.],\n",
       "         [0., 0., 0.],\n",
       "         [0., 0., 0.]],\n",
       "\n",
       "        [[0., 0., 0.],\n",
       "         [0., 0., 0.],\n",
       "         [0., 0., 0.],\n",
       "         ...,\n",
       "         [0., 0., 0.],\n",
       "         [0., 0., 0.],\n",
       "         [0., 0., 0.]]],\n",
       "\n",
       "\n",
       "       [[[0., 0., 0.],\n",
       "         [0., 0., 0.],\n",
       "         [0., 0., 0.],\n",
       "         ...,\n",
       "         [0., 0., 0.],\n",
       "         [0., 0., 0.],\n",
       "         [0., 0., 0.]],\n",
       "\n",
       "        [[0., 0., 0.],\n",
       "         [0., 0., 0.],\n",
       "         [0., 0., 0.],\n",
       "         ...,\n",
       "         [0., 0., 0.],\n",
       "         [0., 0., 0.],\n",
       "         [0., 0., 0.]],\n",
       "\n",
       "        [[0., 0., 0.],\n",
       "         [0., 0., 0.],\n",
       "         [0., 0., 0.],\n",
       "         ...,\n",
       "         [0., 0., 0.],\n",
       "         [0., 0., 0.],\n",
       "         [0., 0., 0.]],\n",
       "\n",
       "        ...,\n",
       "\n",
       "        [[0., 0., 0.],\n",
       "         [0., 0., 0.],\n",
       "         [0., 0., 0.],\n",
       "         ...,\n",
       "         [0., 0., 0.],\n",
       "         [0., 0., 0.],\n",
       "         [0., 0., 0.]],\n",
       "\n",
       "        [[0., 0., 0.],\n",
       "         [0., 0., 0.],\n",
       "         [0., 0., 0.],\n",
       "         ...,\n",
       "         [0., 0., 0.],\n",
       "         [0., 0., 0.],\n",
       "         [0., 0., 0.]],\n",
       "\n",
       "        [[0., 0., 0.],\n",
       "         [0., 0., 0.],\n",
       "         [0., 0., 0.],\n",
       "         ...,\n",
       "         [0., 0., 0.],\n",
       "         [0., 0., 0.],\n",
       "         [0., 0., 0.]]],\n",
       "\n",
       "\n",
       "       ...,\n",
       "\n",
       "\n",
       "       [[[0., 0., 0.],\n",
       "         [0., 0., 0.],\n",
       "         [0., 0., 0.],\n",
       "         ...,\n",
       "         [0., 0., 0.],\n",
       "         [0., 0., 0.],\n",
       "         [0., 0., 0.]],\n",
       "\n",
       "        [[0., 0., 0.],\n",
       "         [0., 0., 0.],\n",
       "         [0., 0., 0.],\n",
       "         ...,\n",
       "         [0., 0., 0.],\n",
       "         [0., 0., 0.],\n",
       "         [0., 0., 0.]],\n",
       "\n",
       "        [[0., 0., 0.],\n",
       "         [0., 0., 0.],\n",
       "         [0., 0., 0.],\n",
       "         ...,\n",
       "         [0., 0., 0.],\n",
       "         [0., 0., 0.],\n",
       "         [0., 0., 0.]],\n",
       "\n",
       "        ...,\n",
       "\n",
       "        [[0., 0., 0.],\n",
       "         [0., 0., 0.],\n",
       "         [0., 0., 0.],\n",
       "         ...,\n",
       "         [0., 0., 0.],\n",
       "         [0., 0., 0.],\n",
       "         [0., 0., 0.]],\n",
       "\n",
       "        [[0., 0., 0.],\n",
       "         [0., 0., 0.],\n",
       "         [0., 0., 0.],\n",
       "         ...,\n",
       "         [0., 0., 0.],\n",
       "         [0., 0., 0.],\n",
       "         [0., 0., 0.]],\n",
       "\n",
       "        [[0., 0., 0.],\n",
       "         [0., 0., 0.],\n",
       "         [0., 0., 0.],\n",
       "         ...,\n",
       "         [0., 0., 0.],\n",
       "         [0., 0., 0.],\n",
       "         [0., 0., 0.]]],\n",
       "\n",
       "\n",
       "       [[[0., 0., 0.],\n",
       "         [0., 0., 0.],\n",
       "         [0., 0., 0.],\n",
       "         ...,\n",
       "         [0., 0., 0.],\n",
       "         [0., 0., 0.],\n",
       "         [0., 0., 0.]],\n",
       "\n",
       "        [[0., 0., 0.],\n",
       "         [0., 0., 0.],\n",
       "         [0., 0., 0.],\n",
       "         ...,\n",
       "         [0., 0., 0.],\n",
       "         [0., 0., 0.],\n",
       "         [0., 0., 0.]],\n",
       "\n",
       "        [[0., 0., 0.],\n",
       "         [0., 0., 0.],\n",
       "         [0., 0., 0.],\n",
       "         ...,\n",
       "         [0., 0., 0.],\n",
       "         [0., 0., 0.],\n",
       "         [0., 0., 0.]],\n",
       "\n",
       "        ...,\n",
       "\n",
       "        [[0., 0., 0.],\n",
       "         [0., 0., 0.],\n",
       "         [0., 0., 0.],\n",
       "         ...,\n",
       "         [0., 0., 0.],\n",
       "         [0., 0., 0.],\n",
       "         [0., 0., 0.]],\n",
       "\n",
       "        [[0., 0., 0.],\n",
       "         [0., 0., 0.],\n",
       "         [0., 0., 0.],\n",
       "         ...,\n",
       "         [0., 0., 0.],\n",
       "         [0., 0., 0.],\n",
       "         [0., 0., 0.]],\n",
       "\n",
       "        [[0., 0., 0.],\n",
       "         [0., 0., 0.],\n",
       "         [0., 0., 0.],\n",
       "         ...,\n",
       "         [0., 0., 0.],\n",
       "         [0., 0., 0.],\n",
       "         [0., 0., 0.]]],\n",
       "\n",
       "\n",
       "       [[[0., 0., 0.],\n",
       "         [0., 0., 0.],\n",
       "         [0., 0., 0.],\n",
       "         ...,\n",
       "         [0., 0., 0.],\n",
       "         [0., 0., 0.],\n",
       "         [0., 0., 0.]],\n",
       "\n",
       "        [[0., 0., 0.],\n",
       "         [0., 0., 0.],\n",
       "         [0., 0., 0.],\n",
       "         ...,\n",
       "         [0., 0., 0.],\n",
       "         [0., 0., 0.],\n",
       "         [0., 0., 0.]],\n",
       "\n",
       "        [[0., 0., 0.],\n",
       "         [0., 0., 0.],\n",
       "         [0., 0., 0.],\n",
       "         ...,\n",
       "         [0., 0., 0.],\n",
       "         [0., 0., 0.],\n",
       "         [0., 0., 0.]],\n",
       "\n",
       "        ...,\n",
       "\n",
       "        [[0., 0., 0.],\n",
       "         [0., 0., 0.],\n",
       "         [0., 0., 0.],\n",
       "         ...,\n",
       "         [0., 0., 0.],\n",
       "         [0., 0., 0.],\n",
       "         [0., 0., 0.]],\n",
       "\n",
       "        [[0., 0., 0.],\n",
       "         [0., 0., 0.],\n",
       "         [0., 0., 0.],\n",
       "         ...,\n",
       "         [0., 0., 0.],\n",
       "         [0., 0., 0.],\n",
       "         [0., 0., 0.]],\n",
       "\n",
       "        [[0., 0., 0.],\n",
       "         [0., 0., 0.],\n",
       "         [0., 0., 0.],\n",
       "         ...,\n",
       "         [0., 0., 0.],\n",
       "         [0., 0., 0.],\n",
       "         [0., 0., 0.]]]], dtype=float32)"
      ]
     },
     "execution_count": 86,
     "metadata": {},
     "output_type": "execute_result"
    }
   ],
   "source": [
    "ctvis.label_color(seg_data)"
   ]
  },
  {
   "cell_type": "code",
   "execution_count": 87,
   "metadata": {},
   "outputs": [],
   "source": [
    "mask = ctvis.label_color(seg_data)"
   ]
  },
  {
   "cell_type": "code",
   "execution_count": 88,
   "metadata": {},
   "outputs": [
    {
     "name": "stderr",
     "output_type": "stream",
     "text": [
      "Clipping input data to the valid range for imshow with RGB data ([0..1] for floats or [0..255] for integers).\n"
     ]
    },
    {
     "data": {
      "text/plain": [
       "<matplotlib.image.AxesImage at 0x7f90fd2e1290>"
      ]
     },
     "execution_count": 88,
     "metadata": {},
     "output_type": "execute_result"
    },
    {
     "data": {
      "image/png": "[encoded data removed]",
      "text/plain": [
       "<Figure size 432x288 with 1 Axes>"
      ]
     },
     "metadata": {
      "needs_background": "light"
     },
     "output_type": "display_data"
    }
   ],
   "source": [
    "plt.imshow(mask[:, :, 30])"
   ]
  },
  {
   "cell_type": "code",
   "execution_count": 89,
   "metadata": {},
   "outputs": [
    {
     "name": "stderr",
     "output_type": "stream",
     "text": [
      "Clipping input data to the valid range for imshow with RGB data ([0..1] for floats or [0..255] for integers).\n"
     ]
    },
    {
     "data": {
      "text/plain": [
       "<matplotlib.image.AxesImage at 0x7f90fea39650>"
      ]
     },
     "execution_count": 89,
     "metadata": {},
     "output_type": "execute_result"
    },
    {
     "data": {
      "image/png": "[encoded data removed]",
      "text/plain": [
       "<Figure size 432x288 with 1 Axes>"
      ]
     },
     "metadata": {
      "needs_background": "light"
     },
     "output_type": "display_data"
    }
   ],
   "source": [
    "plt.imshow(mask[:, :, 10])"
   ]
  },
  {
   "cell_type": "code",
   "execution_count": 95,
   "metadata": {},
   "outputs": [],
   "source": [
    "index = 4\n",
    "volume = ctvis.load_nifti(df.iloc[index]['FilePathImage'])\n",
    "mask = ctvis.load_nifti(df.iloc[index]['FilePathMask'])\n",
    "mask_color = ctvis.label_color(mask)"
   ]
  },
  {
   "cell_type": "code",
   "execution_count": 96,
   "metadata": {},
   "outputs": [
    {
     "data": {
      "text/plain": [
       "(630, 630, 66)"
      ]
     },
     "execution_count": 96,
     "metadata": {},
     "output_type": "execute_result"
    }
   ],
   "source": [
    "volume.shape"
   ]
  },
  {
   "cell_type": "code",
   "execution_count": 97,
   "metadata": {},
   "outputs": [
    {
     "data": {
      "text/plain": [
       "(630, 630, 66)"
      ]
     },
     "execution_count": 97,
     "metadata": {},
     "output_type": "execute_result"
    }
   ],
   "source": [
    "mask.shape"
   ]
  },
  {
   "cell_type": "code",
   "execution_count": 98,
   "metadata": {},
   "outputs": [
    {
     "data": {
      "text/plain": [
       "(630, 630, 66, 3)"
      ]
     },
     "execution_count": 98,
     "metadata": {},
     "output_type": "execute_result"
    }
   ],
   "source": [
    "mask_color.shape"
   ]
  },
  {
   "cell_type": "code",
   "execution_count": 100,
   "metadata": {},
   "outputs": [
    {
     "name": "stdout",
     "output_type": "stream",
     "text": [
      "-1339.6790771484375\n",
      "156.22637939453125\n"
     ]
    }
   ],
   "source": [
    "print(volume.min())\n",
    "print(volume.max())"
   ]
  },
  {
   "cell_type": "code",
   "execution_count": 101,
   "metadata": {},
   "outputs": [
    {
     "name": "stdout",
     "output_type": "stream",
     "text": [
      "0.0\n",
      "255.0\n"
     ]
    }
   ],
   "source": [
    "print(mask_color.min())\n",
    "print(mask_color.max())"
   ]
  },
  {
   "cell_type": "code",
   "execution_count": 103,
   "metadata": {},
   "outputs": [],
   "source": [
    "maxhu = np.max(volume)\n",
    "minhu = np.min(volume)"
   ]
  },
  {
   "cell_type": "code",
   "execution_count": 106,
   "metadata": {},
   "outputs": [],
   "source": [
    "volume_rerange = (volume - minhu) / (maxhu - minhu )"
   ]
  },
  {
   "cell_type": "code",
   "execution_count": 108,
   "metadata": {},
   "outputs": [
    {
     "data": {
      "text/plain": [
       "array([[[-1047.62854004, -1041.65917969, -1035.73071289, ...,\n",
       "         -1017.82244873, -1023.79187012, -1041.65917969],\n",
       "        [-1035.73071289, -1035.73071289, -1029.76123047, ...,\n",
       "         -1035.73071289, -1035.73071289, -1035.73071289],\n",
       "        [-1029.76123047, -1035.73071289, -1029.76123047, ...,\n",
       "         -1053.59790039, -1041.65917969, -1035.73071289],\n",
       "        ...,\n",
       "        [-1035.73071289, -1035.73071289, -1047.62854004, ...,\n",
       "         -1035.73071289, -1035.73071289, -1035.73071289],\n",
       "        [-1035.73071289, -1041.65917969, -1035.73071289, ...,\n",
       "         -1035.73071289, -1029.76123047, -1035.73071289],\n",
       "        [-1035.73071289, -1047.62854004, -1023.79187012, ...,\n",
       "         -1035.73071289, -1029.76123047, -1035.73071289]],\n",
       "\n",
       "       [[-1047.62854004, -1047.62854004, -1041.65917969, ...,\n",
       "         -1029.76123047, -1023.79187012, -1041.65917969],\n",
       "        [-1035.73071289, -1041.65917969, -1041.65917969, ...,\n",
       "         -1041.65917969, -1035.73071289, -1035.73071289],\n",
       "        [-1029.76123047, -1029.76123047, -1035.73071289, ...,\n",
       "         -1053.59790039, -1041.65917969, -1035.73071289],\n",
       "        ...,\n",
       "        [-1035.73071289, -1035.73071289, -1047.62854004, ...,\n",
       "         -1035.73071289, -1035.73071289, -1035.73071289],\n",
       "        [-1035.73071289, -1041.65917969, -1035.73071289, ...,\n",
       "         -1035.73071289, -1029.76123047, -1035.73071289],\n",
       "        [-1035.73071289, -1047.62854004, -1029.76123047, ...,\n",
       "         -1035.73071289, -1029.76123047, -1035.73071289]],\n",
       "\n",
       "       [[-1041.65917969, -1047.62854004, -1047.62854004, ...,\n",
       "         -1035.73071289, -1023.79187012, -1035.73071289],\n",
       "        [-1041.65917969, -1041.65917969, -1047.62854004, ...,\n",
       "         -1047.62854004, -1035.73071289, -1035.73071289],\n",
       "        [-1035.73071289, -1029.76123047, -1041.65917969, ...,\n",
       "         -1053.59790039, -1041.65917969, -1035.73071289],\n",
       "        ...,\n",
       "        [-1035.73071289, -1041.65917969, -1041.65917969, ...,\n",
       "         -1035.73071289, -1035.73071289, -1035.73071289],\n",
       "        [-1035.73071289, -1041.65917969, -1035.73071289, ...,\n",
       "         -1035.73071289, -1035.73071289, -1035.73071289],\n",
       "        [-1035.73071289, -1041.65917969, -1029.76123047, ...,\n",
       "         -1035.73071289, -1029.76123047, -1035.73071289]],\n",
       "\n",
       "       ...,\n",
       "\n",
       "       [[-1023.79187012, -1029.76123047, -1023.79187012, ...,\n",
       "         -1035.73071289, -1035.73071289, -1035.73071289],\n",
       "        [-1035.73071289, -1029.76123047, -1035.73071289, ...,\n",
       "         -1035.73071289, -1035.73071289, -1035.73071289],\n",
       "        [-1047.62854004, -1035.73071289, -1047.62854004, ...,\n",
       "         -1035.73071289, -1035.73071289, -1035.73071289],\n",
       "        ...,\n",
       "        [-1035.73071289, -1035.73071289, -1035.73071289, ...,\n",
       "         -1035.73071289, -1035.73071289, -1035.73071289],\n",
       "        [-1035.73071289, -1035.73071289, -1035.73071289, ...,\n",
       "         -1035.73071289, -1035.73071289, -1035.73071289],\n",
       "        [-1035.73071289, -1035.73071289, -1035.73071289, ...,\n",
       "         -1035.73071289, -1035.73071289, -1035.73071289]],\n",
       "\n",
       "       [[-1023.79187012, -1029.76123047, -1023.79187012, ...,\n",
       "         -1035.73071289, -1035.73071289, -1035.73071289],\n",
       "        [-1035.73071289, -1029.76123047, -1035.73071289, ...,\n",
       "         -1035.73071289, -1035.73071289, -1035.73071289],\n",
       "        [-1047.62854004, -1035.73071289, -1047.62854004, ...,\n",
       "         -1035.73071289, -1035.73071289, -1035.73071289],\n",
       "        ...,\n",
       "        [-1035.73071289, -1035.73071289, -1035.73071289, ...,\n",
       "         -1035.73071289, -1035.73071289, -1035.73071289],\n",
       "        [-1035.73071289, -1035.73071289, -1035.73071289, ...,\n",
       "         -1035.73071289, -1035.73071289, -1035.73071289],\n",
       "        [-1035.73071289, -1035.73071289, -1035.73071289, ...,\n",
       "         -1035.73071289, -1035.73071289, -1035.73071289]],\n",
       "\n",
       "       [[-1029.76123047, -1035.73071289, -1029.76123047, ...,\n",
       "         -1035.73071289, -1041.65917969, -1041.65917969],\n",
       "        [-1035.73071289, -1035.73071289, -1035.73071289, ...,\n",
       "         -1035.73071289, -1041.65917969, -1041.65917969],\n",
       "        [-1041.65917969, -1035.73071289, -1041.65917969, ...,\n",
       "         -1035.73071289, -1035.73071289, -1035.73071289],\n",
       "        ...,\n",
       "        [-1035.73071289, -1035.73071289, -1035.73071289, ...,\n",
       "         -1035.73071289, -1035.73071289, -1035.73071289],\n",
       "        [-1035.73071289, -1035.73071289, -1035.73071289, ...,\n",
       "         -1035.73071289, -1035.73071289, -1035.73071289],\n",
       "        [-1035.73071289, -1035.73071289, -1035.73071289, ...,\n",
       "         -1035.73071289, -1035.73071289, -1035.73071289]]])"
      ]
     },
     "execution_count": 108,
     "metadata": {},
     "output_type": "execute_result"
    }
   ],
   "source": [
    "volume"
   ]
  },
  {
   "cell_type": "code",
   "execution_count": 109,
   "metadata": {},
   "outputs": [
    {
     "data": {
      "text/plain": [
       "array([[[0.19523329, 0.19922375, 0.20318688, ..., 0.2151584 ,\n",
       "         0.2111679 , 0.19922375],\n",
       "        [0.20318688, 0.20318688, 0.20717743, ..., 0.20318688,\n",
       "         0.20318688, 0.20318688],\n",
       "        [0.20717743, 0.20318688, 0.20717743, ..., 0.19124282,\n",
       "         0.19922375, 0.20318688],\n",
       "        ...,\n",
       "        [0.20318688, 0.20318688, 0.19523329, ..., 0.20318688,\n",
       "         0.20318688, 0.20318688],\n",
       "        [0.20318688, 0.19922375, 0.20318688, ..., 0.20318688,\n",
       "         0.20717743, 0.20318688],\n",
       "        [0.20318688, 0.19523329, 0.2111679 , ..., 0.20318688,\n",
       "         0.20717743, 0.20318688]],\n",
       "\n",
       "       [[0.19523329, 0.19523329, 0.19922375, ..., 0.20717743,\n",
       "         0.2111679 , 0.19922375],\n",
       "        [0.20318688, 0.19922375, 0.19922375, ..., 0.19922375,\n",
       "         0.20318688, 0.20318688],\n",
       "        [0.20717743, 0.20717743, 0.20318688, ..., 0.19124282,\n",
       "         0.19922375, 0.20318688],\n",
       "        ...,\n",
       "        [0.20318688, 0.20318688, 0.19523329, ..., 0.20318688,\n",
       "         0.20318688, 0.20318688],\n",
       "        [0.20318688, 0.19922375, 0.20318688, ..., 0.20318688,\n",
       "         0.20717743, 0.20318688],\n",
       "        [0.20318688, 0.19523329, 0.20717743, ..., 0.20318688,\n",
       "         0.20717743, 0.20318688]],\n",
       "\n",
       "       [[0.19922375, 0.19523329, 0.19523329, ..., 0.20318688,\n",
       "         0.2111679 , 0.20318688],\n",
       "        [0.19922375, 0.19922375, 0.19523329, ..., 0.19523329,\n",
       "         0.20318688, 0.20318688],\n",
       "        [0.20318688, 0.20717743, 0.19922375, ..., 0.19124282,\n",
       "         0.19922375, 0.20318688],\n",
       "        ...,\n",
       "        [0.20318688, 0.19922375, 0.19922375, ..., 0.20318688,\n",
       "         0.20318688, 0.20318688],\n",
       "        [0.20318688, 0.19922375, 0.20318688, ..., 0.20318688,\n",
       "         0.20318688, 0.20318688],\n",
       "        [0.20318688, 0.19922375, 0.20717743, ..., 0.20318688,\n",
       "         0.20717743, 0.20318688]],\n",
       "\n",
       "       ...,\n",
       "\n",
       "       [[0.2111679 , 0.20717743, 0.2111679 , ..., 0.20318688,\n",
       "         0.20318688, 0.20318688],\n",
       "        [0.20318688, 0.20717743, 0.20318688, ..., 0.20318688,\n",
       "         0.20318688, 0.20318688],\n",
       "        [0.19523329, 0.20318688, 0.19523329, ..., 0.20318688,\n",
       "         0.20318688, 0.20318688],\n",
       "        ...,\n",
       "        [0.20318688, 0.20318688, 0.20318688, ..., 0.20318688,\n",
       "         0.20318688, 0.20318688],\n",
       "        [0.20318688, 0.20318688, 0.20318688, ..., 0.20318688,\n",
       "         0.20318688, 0.20318688],\n",
       "        [0.20318688, 0.20318688, 0.20318688, ..., 0.20318688,\n",
       "         0.20318688, 0.20318688]],\n",
       "\n",
       "       [[0.2111679 , 0.20717743, 0.2111679 , ..., 0.20318688,\n",
       "         0.20318688, 0.20318688],\n",
       "        [0.20318688, 0.20717743, 0.20318688, ..., 0.20318688,\n",
       "         0.20318688, 0.20318688],\n",
       "        [0.19523329, 0.20318688, 0.19523329, ..., 0.20318688,\n",
       "         0.20318688, 0.20318688],\n",
       "        ...,\n",
       "        [0.20318688, 0.20318688, 0.20318688, ..., 0.20318688,\n",
       "         0.20318688, 0.20318688],\n",
       "        [0.20318688, 0.20318688, 0.20318688, ..., 0.20318688,\n",
       "         0.20318688, 0.20318688],\n",
       "        [0.20318688, 0.20318688, 0.20318688, ..., 0.20318688,\n",
       "         0.20318688, 0.20318688]],\n",
       "\n",
       "       [[0.20717743, 0.20318688, 0.20717743, ..., 0.20318688,\n",
       "         0.19922375, 0.19922375],\n",
       "        [0.20318688, 0.20318688, 0.20318688, ..., 0.20318688,\n",
       "         0.19922375, 0.19922375],\n",
       "        [0.19922375, 0.20318688, 0.19922375, ..., 0.20318688,\n",
       "         0.20318688, 0.20318688],\n",
       "        ...,\n",
       "        [0.20318688, 0.20318688, 0.20318688, ..., 0.20318688,\n",
       "         0.20318688, 0.20318688],\n",
       "        [0.20318688, 0.20318688, 0.20318688, ..., 0.20318688,\n",
       "         0.20318688, 0.20318688],\n",
       "        [0.20318688, 0.20318688, 0.20318688, ..., 0.20318688,\n",
       "         0.20318688, 0.20318688]]])"
      ]
     },
     "execution_count": 109,
     "metadata": {},
     "output_type": "execute_result"
    }
   ],
   "source": [
    "volume_rerange"
   ]
  },
  {
   "cell_type": "code",
   "execution_count": 110,
   "metadata": {},
   "outputs": [
    {
     "data": {
      "text/plain": [
       "1.0"
      ]
     },
     "execution_count": 110,
     "metadata": {},
     "output_type": "execute_result"
    }
   ],
   "source": [
    "volume_rerange.max()"
   ]
  },
  {
   "cell_type": "code",
   "execution_count": 111,
   "metadata": {},
   "outputs": [
    {
     "data": {
      "text/plain": [
       "0.0"
      ]
     },
     "execution_count": 111,
     "metadata": {},
     "output_type": "execute_result"
    }
   ],
   "source": [
    "volume_rerange.min()"
   ]
  },
  {
   "cell_type": "code",
   "execution_count": 112,
   "metadata": {},
   "outputs": [
    {
     "name": "stderr",
     "output_type": "stream",
     "text": [
      "/opt/anaconda3/lib/python3.7/site-packages/ipykernel_launcher.py:1: RuntimeWarning: divide by zero encountered in true_divide\n",
      "  \"\"\"Entry point for launching an IPython kernel.\n",
      "/opt/anaconda3/lib/python3.7/site-packages/ipykernel_launcher.py:1: RuntimeWarning: invalid value encountered in true_divide\n",
      "  \"\"\"Entry point for launching an IPython kernel.\n"
     ]
    }
   ],
   "source": [
    "# 例えば max と　minが同じで0となった場合、結果infinityが返ってくる \n",
    "volume_rerange = (volume - minhu) / 0"
   ]
  },
  {
   "cell_type": "code",
   "execution_count": 113,
   "metadata": {},
   "outputs": [
    {
     "data": {
      "text/plain": [
       "array([[[inf, inf, inf, ..., inf, inf, inf],\n",
       "        [inf, inf, inf, ..., inf, inf, inf],\n",
       "        [inf, inf, inf, ..., inf, inf, inf],\n",
       "        ...,\n",
       "        [inf, inf, inf, ..., inf, inf, inf],\n",
       "        [inf, inf, inf, ..., inf, inf, inf],\n",
       "        [inf, inf, inf, ..., inf, inf, inf]],\n",
       "\n",
       "       [[inf, inf, inf, ..., inf, inf, inf],\n",
       "        [inf, inf, inf, ..., inf, inf, inf],\n",
       "        [inf, inf, inf, ..., inf, inf, inf],\n",
       "        ...,\n",
       "        [inf, inf, inf, ..., inf, inf, inf],\n",
       "        [inf, inf, inf, ..., inf, inf, inf],\n",
       "        [inf, inf, inf, ..., inf, inf, inf]],\n",
       "\n",
       "       [[inf, inf, inf, ..., inf, inf, inf],\n",
       "        [inf, inf, inf, ..., inf, inf, inf],\n",
       "        [inf, inf, inf, ..., inf, inf, inf],\n",
       "        ...,\n",
       "        [inf, inf, inf, ..., inf, inf, inf],\n",
       "        [inf, inf, inf, ..., inf, inf, inf],\n",
       "        [inf, inf, inf, ..., inf, inf, inf]],\n",
       "\n",
       "       ...,\n",
       "\n",
       "       [[inf, inf, inf, ..., inf, inf, inf],\n",
       "        [inf, inf, inf, ..., inf, inf, inf],\n",
       "        [inf, inf, inf, ..., inf, inf, inf],\n",
       "        ...,\n",
       "        [inf, inf, inf, ..., inf, inf, inf],\n",
       "        [inf, inf, inf, ..., inf, inf, inf],\n",
       "        [inf, inf, inf, ..., inf, inf, inf]],\n",
       "\n",
       "       [[inf, inf, inf, ..., inf, inf, inf],\n",
       "        [inf, inf, inf, ..., inf, inf, inf],\n",
       "        [inf, inf, inf, ..., inf, inf, inf],\n",
       "        ...,\n",
       "        [inf, inf, inf, ..., inf, inf, inf],\n",
       "        [inf, inf, inf, ..., inf, inf, inf],\n",
       "        [inf, inf, inf, ..., inf, inf, inf]],\n",
       "\n",
       "       [[inf, inf, inf, ..., inf, inf, inf],\n",
       "        [inf, inf, inf, ..., inf, inf, inf],\n",
       "        [inf, inf, inf, ..., inf, inf, inf],\n",
       "        ...,\n",
       "        [inf, inf, inf, ..., inf, inf, inf],\n",
       "        [inf, inf, inf, ..., inf, inf, inf],\n",
       "        [inf, inf, inf, ..., inf, inf, inf]]])"
      ]
     },
     "execution_count": 113,
     "metadata": {},
     "output_type": "execute_result"
    }
   ],
   "source": [
    "volume_rerange"
   ]
  },
  {
   "cell_type": "code",
   "execution_count": 114,
   "metadata": {},
   "outputs": [],
   "source": [
    "# そのため、　等しかった場合、maxで−１０の３乗を返すようにする\n",
    "volume_rerange = (volume - minhu) / max((maxhu - minhu), 1e-3)"
   ]
  },
  {
   "cell_type": "code",
   "execution_count": 115,
   "metadata": {},
   "outputs": [
    {
     "data": {
      "text/plain": [
       "10"
      ]
     },
     "execution_count": 115,
     "metadata": {},
     "output_type": "execute_result"
    }
   ],
   "source": [
    "max(10, 3)"
   ]
  },
  {
   "cell_type": "code",
   "execution_count": 116,
   "metadata": {},
   "outputs": [
    {
     "data": {
      "text/plain": [
       "3"
      ]
     },
     "execution_count": 116,
     "metadata": {},
     "output_type": "execute_result"
    }
   ],
   "source": [
    "max(0, 3)"
   ]
  },
  {
   "cell_type": "code",
   "execution_count": 117,
   "metadata": {},
   "outputs": [
    {
     "name": "stdout",
     "output_type": "stream",
     "text": [
      "0.001\n"
     ]
    }
   ],
   "source": [
    "print(1e-3)"
   ]
  },
  {
   "cell_type": "code",
   "execution_count": 118,
   "metadata": {},
   "outputs": [
    {
     "data": {
      "text/plain": [
       "array([[[0.19523329, 0.19922375, 0.20318688, ..., 0.2151584 ,\n",
       "         0.2111679 , 0.19922375],\n",
       "        [0.20318688, 0.20318688, 0.20717743, ..., 0.20318688,\n",
       "         0.20318688, 0.20318688],\n",
       "        [0.20717743, 0.20318688, 0.20717743, ..., 0.19124282,\n",
       "         0.19922375, 0.20318688],\n",
       "        ...,\n",
       "        [0.20318688, 0.20318688, 0.19523329, ..., 0.20318688,\n",
       "         0.20318688, 0.20318688],\n",
       "        [0.20318688, 0.19922375, 0.20318688, ..., 0.20318688,\n",
       "         0.20717743, 0.20318688],\n",
       "        [0.20318688, 0.19523329, 0.2111679 , ..., 0.20318688,\n",
       "         0.20717743, 0.20318688]],\n",
       "\n",
       "       [[0.19523329, 0.19523329, 0.19922375, ..., 0.20717743,\n",
       "         0.2111679 , 0.19922375],\n",
       "        [0.20318688, 0.19922375, 0.19922375, ..., 0.19922375,\n",
       "         0.20318688, 0.20318688],\n",
       "        [0.20717743, 0.20717743, 0.20318688, ..., 0.19124282,\n",
       "         0.19922375, 0.20318688],\n",
       "        ...,\n",
       "        [0.20318688, 0.20318688, 0.19523329, ..., 0.20318688,\n",
       "         0.20318688, 0.20318688],\n",
       "        [0.20318688, 0.19922375, 0.20318688, ..., 0.20318688,\n",
       "         0.20717743, 0.20318688],\n",
       "        [0.20318688, 0.19523329, 0.20717743, ..., 0.20318688,\n",
       "         0.20717743, 0.20318688]],\n",
       "\n",
       "       [[0.19922375, 0.19523329, 0.19523329, ..., 0.20318688,\n",
       "         0.2111679 , 0.20318688],\n",
       "        [0.19922375, 0.19922375, 0.19523329, ..., 0.19523329,\n",
       "         0.20318688, 0.20318688],\n",
       "        [0.20318688, 0.20717743, 0.19922375, ..., 0.19124282,\n",
       "         0.19922375, 0.20318688],\n",
       "        ...,\n",
       "        [0.20318688, 0.19922375, 0.19922375, ..., 0.20318688,\n",
       "         0.20318688, 0.20318688],\n",
       "        [0.20318688, 0.19922375, 0.20318688, ..., 0.20318688,\n",
       "         0.20318688, 0.20318688],\n",
       "        [0.20318688, 0.19922375, 0.20717743, ..., 0.20318688,\n",
       "         0.20717743, 0.20318688]],\n",
       "\n",
       "       ...,\n",
       "\n",
       "       [[0.2111679 , 0.20717743, 0.2111679 , ..., 0.20318688,\n",
       "         0.20318688, 0.20318688],\n",
       "        [0.20318688, 0.20717743, 0.20318688, ..., 0.20318688,\n",
       "         0.20318688, 0.20318688],\n",
       "        [0.19523329, 0.20318688, 0.19523329, ..., 0.20318688,\n",
       "         0.20318688, 0.20318688],\n",
       "        ...,\n",
       "        [0.20318688, 0.20318688, 0.20318688, ..., 0.20318688,\n",
       "         0.20318688, 0.20318688],\n",
       "        [0.20318688, 0.20318688, 0.20318688, ..., 0.20318688,\n",
       "         0.20318688, 0.20318688],\n",
       "        [0.20318688, 0.20318688, 0.20318688, ..., 0.20318688,\n",
       "         0.20318688, 0.20318688]],\n",
       "\n",
       "       [[0.2111679 , 0.20717743, 0.2111679 , ..., 0.20318688,\n",
       "         0.20318688, 0.20318688],\n",
       "        [0.20318688, 0.20717743, 0.20318688, ..., 0.20318688,\n",
       "         0.20318688, 0.20318688],\n",
       "        [0.19523329, 0.20318688, 0.19523329, ..., 0.20318688,\n",
       "         0.20318688, 0.20318688],\n",
       "        ...,\n",
       "        [0.20318688, 0.20318688, 0.20318688, ..., 0.20318688,\n",
       "         0.20318688, 0.20318688],\n",
       "        [0.20318688, 0.20318688, 0.20318688, ..., 0.20318688,\n",
       "         0.20318688, 0.20318688],\n",
       "        [0.20318688, 0.20318688, 0.20318688, ..., 0.20318688,\n",
       "         0.20318688, 0.20318688]],\n",
       "\n",
       "       [[0.20717743, 0.20318688, 0.20717743, ..., 0.20318688,\n",
       "         0.19922375, 0.19922375],\n",
       "        [0.20318688, 0.20318688, 0.20318688, ..., 0.20318688,\n",
       "         0.19922375, 0.19922375],\n",
       "        [0.19922375, 0.20318688, 0.19922375, ..., 0.20318688,\n",
       "         0.20318688, 0.20318688],\n",
       "        ...,\n",
       "        [0.20318688, 0.20318688, 0.20318688, ..., 0.20318688,\n",
       "         0.20318688, 0.20318688],\n",
       "        [0.20318688, 0.20318688, 0.20318688, ..., 0.20318688,\n",
       "         0.20318688, 0.20318688],\n",
       "        [0.20318688, 0.20318688, 0.20318688, ..., 0.20318688,\n",
       "         0.20318688, 0.20318688]]])"
      ]
     },
     "execution_count": 118,
     "metadata": {},
     "output_type": "execute_result"
    }
   ],
   "source": [
    "volume_rerange"
   ]
  },
  {
   "cell_type": "code",
   "execution_count": 119,
   "metadata": {},
   "outputs": [],
   "source": [
    "volume_rerange = volume_rerange * 255"
   ]
  },
  {
   "cell_type": "code",
   "execution_count": 120,
   "metadata": {},
   "outputs": [
    {
     "data": {
      "text/plain": [
       "array([[[49.78448781, 50.80205672, 51.8126547 , ..., 54.86539265,\n",
       "         53.84781334, 50.80205672],\n",
       "        [51.8126547 , 51.8126547 , 52.83024442, ..., 51.8126547 ,\n",
       "         51.8126547 , 51.8126547 ],\n",
       "        [52.83024442, 51.8126547 , 52.83024442, ..., 48.76691889,\n",
       "         50.80205672, 51.8126547 ],\n",
       "        ...,\n",
       "        [51.8126547 , 51.8126547 , 49.78448781, ..., 51.8126547 ,\n",
       "         51.8126547 , 51.8126547 ],\n",
       "        [51.8126547 , 50.80205672, 51.8126547 , ..., 51.8126547 ,\n",
       "         52.83024442, 51.8126547 ],\n",
       "        [51.8126547 , 49.78448781, 53.84781334, ..., 51.8126547 ,\n",
       "         52.83024442, 51.8126547 ]],\n",
       "\n",
       "       [[49.78448781, 49.78448781, 50.80205672, ..., 52.83024442,\n",
       "         53.84781334, 50.80205672],\n",
       "        [51.8126547 , 50.80205672, 50.80205672, ..., 50.80205672,\n",
       "         51.8126547 , 51.8126547 ],\n",
       "        [52.83024442, 52.83024442, 51.8126547 , ..., 48.76691889,\n",
       "         50.80205672, 51.8126547 ],\n",
       "        ...,\n",
       "        [51.8126547 , 51.8126547 , 49.78448781, ..., 51.8126547 ,\n",
       "         51.8126547 , 51.8126547 ],\n",
       "        [51.8126547 , 50.80205672, 51.8126547 , ..., 51.8126547 ,\n",
       "         52.83024442, 51.8126547 ],\n",
       "        [51.8126547 , 49.78448781, 52.83024442, ..., 51.8126547 ,\n",
       "         52.83024442, 51.8126547 ]],\n",
       "\n",
       "       [[50.80205672, 49.78448781, 49.78448781, ..., 51.8126547 ,\n",
       "         53.84781334, 51.8126547 ],\n",
       "        [50.80205672, 50.80205672, 49.78448781, ..., 49.78448781,\n",
       "         51.8126547 , 51.8126547 ],\n",
       "        [51.8126547 , 52.83024442, 50.80205672, ..., 48.76691889,\n",
       "         50.80205672, 51.8126547 ],\n",
       "        ...,\n",
       "        [51.8126547 , 50.80205672, 50.80205672, ..., 51.8126547 ,\n",
       "         51.8126547 , 51.8126547 ],\n",
       "        [51.8126547 , 50.80205672, 51.8126547 , ..., 51.8126547 ,\n",
       "         51.8126547 , 51.8126547 ],\n",
       "        [51.8126547 , 50.80205672, 52.83024442, ..., 51.8126547 ,\n",
       "         52.83024442, 51.8126547 ]],\n",
       "\n",
       "       ...,\n",
       "\n",
       "       [[53.84781334, 52.83024442, 53.84781334, ..., 51.8126547 ,\n",
       "         51.8126547 , 51.8126547 ],\n",
       "        [51.8126547 , 52.83024442, 51.8126547 , ..., 51.8126547 ,\n",
       "         51.8126547 , 51.8126547 ],\n",
       "        [49.78448781, 51.8126547 , 49.78448781, ..., 51.8126547 ,\n",
       "         51.8126547 , 51.8126547 ],\n",
       "        ...,\n",
       "        [51.8126547 , 51.8126547 , 51.8126547 , ..., 51.8126547 ,\n",
       "         51.8126547 , 51.8126547 ],\n",
       "        [51.8126547 , 51.8126547 , 51.8126547 , ..., 51.8126547 ,\n",
       "         51.8126547 , 51.8126547 ],\n",
       "        [51.8126547 , 51.8126547 , 51.8126547 , ..., 51.8126547 ,\n",
       "         51.8126547 , 51.8126547 ]],\n",
       "\n",
       "       [[53.84781334, 52.83024442, 53.84781334, ..., 51.8126547 ,\n",
       "         51.8126547 , 51.8126547 ],\n",
       "        [51.8126547 , 52.83024442, 51.8126547 , ..., 51.8126547 ,\n",
       "         51.8126547 , 51.8126547 ],\n",
       "        [49.78448781, 51.8126547 , 49.78448781, ..., 51.8126547 ,\n",
       "         51.8126547 , 51.8126547 ],\n",
       "        ...,\n",
       "        [51.8126547 , 51.8126547 , 51.8126547 , ..., 51.8126547 ,\n",
       "         51.8126547 , 51.8126547 ],\n",
       "        [51.8126547 , 51.8126547 , 51.8126547 , ..., 51.8126547 ,\n",
       "         51.8126547 , 51.8126547 ],\n",
       "        [51.8126547 , 51.8126547 , 51.8126547 , ..., 51.8126547 ,\n",
       "         51.8126547 , 51.8126547 ]],\n",
       "\n",
       "       [[52.83024442, 51.8126547 , 52.83024442, ..., 51.8126547 ,\n",
       "         50.80205672, 50.80205672],\n",
       "        [51.8126547 , 51.8126547 , 51.8126547 , ..., 51.8126547 ,\n",
       "         50.80205672, 50.80205672],\n",
       "        [50.80205672, 51.8126547 , 50.80205672, ..., 51.8126547 ,\n",
       "         51.8126547 , 51.8126547 ],\n",
       "        ...,\n",
       "        [51.8126547 , 51.8126547 , 51.8126547 , ..., 51.8126547 ,\n",
       "         51.8126547 , 51.8126547 ],\n",
       "        [51.8126547 , 51.8126547 , 51.8126547 , ..., 51.8126547 ,\n",
       "         51.8126547 , 51.8126547 ],\n",
       "        [51.8126547 , 51.8126547 , 51.8126547 , ..., 51.8126547 ,\n",
       "         51.8126547 , 51.8126547 ]]])"
      ]
     },
     "execution_count": 120,
     "metadata": {},
     "output_type": "execute_result"
    }
   ],
   "source": [
    "volume_rerange"
   ]
  },
  {
   "cell_type": "code",
   "execution_count": 121,
   "metadata": {},
   "outputs": [
    {
     "data": {
      "text/plain": [
       "255.0"
      ]
     },
     "execution_count": 121,
     "metadata": {},
     "output_type": "execute_result"
    }
   ],
   "source": [
    "volume_rerange.max()"
   ]
  },
  {
   "cell_type": "code",
   "execution_count": 122,
   "metadata": {},
   "outputs": [
    {
     "data": {
      "text/plain": [
       "<matplotlib.image.AxesImage at 0x7f90fed7e410>"
      ]
     },
     "execution_count": 122,
     "metadata": {},
     "output_type": "execute_result"
    },
    {
     "data": {
      "image/png": "[encoded data removed]",
      "text/plain": [
       "<Figure size 432x288 with 1 Axes>"
      ]
     },
     "metadata": {
      "needs_background": "light"
     },
     "output_type": "display_data"
    }
   ],
   "source": [
    "plt.imshow(volume_rerange[:, :, 30])"
   ]
  },
  {
   "cell_type": "code",
   "execution_count": 124,
   "metadata": {},
   "outputs": [
    {
     "data": {
      "text/plain": [
       "<matplotlib.image.AxesImage at 0x7f90fd6b6250>"
      ]
     },
     "execution_count": 124,
     "metadata": {},
     "output_type": "execute_result"
    },
    {
     "data": {
      "image/png": "[encoded data removed]",
      "text/plain": [
       "<Figure size 432x288 with 1 Axes>"
      ]
     },
     "metadata": {
      "needs_background": "light"
     },
     "output_type": "display_data"
    }
   ],
   "source": [
    "plt.imshow(volume_rerange[:, :, 30], cmap='gray')"
   ]
  },
  {
   "cell_type": "code",
   "execution_count": 126,
   "metadata": {},
   "outputs": [
    {
     "data": {
      "text/plain": [
       "(630, 630, 66)"
      ]
     },
     "execution_count": 126,
     "metadata": {},
     "output_type": "execute_result"
    }
   ],
   "source": [
    "volume_rerange.shape"
   ]
  },
  {
   "cell_type": "code",
   "execution_count": null,
   "metadata": {},
   "outputs": [],
   "source": []
  }
 ],
 "metadata": {
  "kernelspec": {
   "display_name": "Python 3",
   "language": "python",
   "name": "python3"
  },
  "language_info": {
   "codemirror_mode": {
    "name": "ipython",
    "version": 3
   },
   "file_extension": ".py",
   "mimetype": "text/x-python",
   "name": "python",
   "nbconvert_exporter": "python",
   "pygments_lexer": "ipython3",
   "version": "3.7.6"
  }
 },
 "nbformat": 4,
 "nbformat_minor": 4
}
