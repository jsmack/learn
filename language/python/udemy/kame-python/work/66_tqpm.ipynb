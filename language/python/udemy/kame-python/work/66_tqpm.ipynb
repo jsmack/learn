{
 "cells": [
  {
   "cell_type": "code",
   "execution_count": 2,
   "metadata": {},
   "outputs": [],
   "source": [
    "from tqdm import tqdm"
   ]
  },
  {
   "cell_type": "code",
   "execution_count": 2,
   "metadata": {},
   "outputs": [
    {
     "name": "stderr",
     "output_type": "stream",
     "text": [
      "0it [00:00, ?it/s]"
     ]
    },
    {
     "data": {
      "text/plain": [
       "0it [00:00, ?it/s]"
      ]
     },
     "execution_count": 2,
     "metadata": {},
     "output_type": "execute_result"
    }
   ],
   "source": [
    "tqdm()"
   ]
  },
  {
   "cell_type": "code",
   "execution_count": 3,
   "metadata": {},
   "outputs": [],
   "source": [
    "a = [1, 2, 3]"
   ]
  },
  {
   "cell_type": "code",
   "execution_count": 4,
   "metadata": {},
   "outputs": [
    {
     "data": {
      "text/plain": [
       "[1, 2, 3]"
      ]
     },
     "execution_count": 4,
     "metadata": {},
     "output_type": "execute_result"
    }
   ],
   "source": [
    "a"
   ]
  },
  {
   "cell_type": "code",
   "execution_count": 6,
   "metadata": {},
   "outputs": [
    {
     "data": {
      "text/plain": [
       "<list_iterator at 0x7f734d20c9d0>"
      ]
     },
     "execution_count": 6,
     "metadata": {},
     "output_type": "execute_result"
    }
   ],
   "source": [
    "iter(a)"
   ]
  },
  {
   "cell_type": "code",
   "execution_count": 7,
   "metadata": {},
   "outputs": [],
   "source": [
    "i = iter(a)"
   ]
  },
  {
   "cell_type": "code",
   "execution_count": 8,
   "metadata": {},
   "outputs": [
    {
     "data": {
      "text/plain": [
       "<list_iterator at 0x7f734dab9610>"
      ]
     },
     "execution_count": 8,
     "metadata": {},
     "output_type": "execute_result"
    }
   ],
   "source": [
    "i"
   ]
  },
  {
   "cell_type": "code",
   "execution_count": 9,
   "metadata": {},
   "outputs": [
    {
     "data": {
      "text/plain": [
       "1"
      ]
     },
     "execution_count": 9,
     "metadata": {},
     "output_type": "execute_result"
    }
   ],
   "source": [
    "next(i)"
   ]
  },
  {
   "cell_type": "code",
   "execution_count": 10,
   "metadata": {},
   "outputs": [
    {
     "data": {
      "text/plain": [
       "2"
      ]
     },
     "execution_count": 10,
     "metadata": {},
     "output_type": "execute_result"
    }
   ],
   "source": [
    "next(i)"
   ]
  },
  {
   "cell_type": "code",
   "execution_count": 11,
   "metadata": {},
   "outputs": [
    {
     "data": {
      "text/plain": [
       "3"
      ]
     },
     "execution_count": 11,
     "metadata": {},
     "output_type": "execute_result"
    }
   ],
   "source": [
    "next(i)"
   ]
  },
  {
   "cell_type": "code",
   "execution_count": 12,
   "metadata": {},
   "outputs": [
    {
     "ename": "StopIteration",
     "evalue": "",
     "output_type": "error",
     "traceback": [
      "\u001b[0;31m\u001b[0m",
      "\u001b[0;31mStopIteration\u001b[0mTraceback (most recent call last)",
      "\u001b[0;32m<ipython-input-12-a883b34d6d8a>\u001b[0m in \u001b[0;36m<module>\u001b[0;34m\u001b[0m\n\u001b[0;32m----> 1\u001b[0;31m \u001b[0mnext\u001b[0m\u001b[0;34m(\u001b[0m\u001b[0mi\u001b[0m\u001b[0;34m)\u001b[0m\u001b[0;34m\u001b[0m\u001b[0;34m\u001b[0m\u001b[0m\n\u001b[0m",
      "\u001b[0;31mStopIteration\u001b[0m: "
     ]
    }
   ],
   "source": [
    "next(i)"
   ]
  },
  {
   "cell_type": "code",
   "execution_count": 13,
   "metadata": {},
   "outputs": [
    {
     "data": {
      "text/plain": [
       "<list_iterator at 0x7f734dab9610>"
      ]
     },
     "execution_count": 13,
     "metadata": {},
     "output_type": "execute_result"
    }
   ],
   "source": [
    "i"
   ]
  },
  {
   "cell_type": "code",
   "execution_count": 15,
   "metadata": {},
   "outputs": [
    {
     "data": {
      "text/plain": [
       "10.0"
      ]
     },
     "execution_count": 15,
     "metadata": {},
     "output_type": "execute_result"
    }
   ],
   "source": [
    "1e1"
   ]
  },
  {
   "cell_type": "code",
   "execution_count": 20,
   "metadata": {},
   "outputs": [
    {
     "data": {
      "text/plain": [
       "0.0001"
      ]
     },
     "execution_count": 20,
     "metadata": {},
     "output_type": "execute_result"
    }
   ],
   "source": [
    "1e-4"
   ]
  },
  {
   "cell_type": "code",
   "execution_count": 32,
   "metadata": {},
   "outputs": [
    {
     "data": {
      "text/plain": [
       "100000000.0"
      ]
     },
     "execution_count": 32,
     "metadata": {},
     "output_type": "execute_result"
    }
   ],
   "source": [
    "1e8"
   ]
  },
  {
   "cell_type": "code",
   "execution_count": 3,
   "metadata": {},
   "outputs": [
    {
     "name": "stdout",
     "output_type": "stream",
     "text": [
      "10000000\n",
      "it took 1.814892053604126\n"
     ]
    }
   ],
   "source": [
    "from time import time\n",
    "sum_ = 0\n",
    "before = time()\n",
    "for i in range(int(1e7)):\n",
    "    sum_ += 1\n",
    "after = time()\n",
    "print(sum_)\n",
    "#print('it took {}'.format(after - before))\n",
    "print(f'it took { after - before }')"
   ]
  },
  {
   "cell_type": "code",
   "execution_count": 4,
   "metadata": {},
   "outputs": [
    {
     "name": "stderr",
     "output_type": "stream",
     "text": [
      "100%|██████████| 10000000/10000000 [00:12<00:00, 801074.67it/s]"
     ]
    },
    {
     "name": "stdout",
     "output_type": "stream",
     "text": [
      "10000000\n",
      "it took 12.506810665130615\n"
     ]
    },
    {
     "name": "stderr",
     "output_type": "stream",
     "text": [
      "\n"
     ]
    }
   ],
   "source": [
    "sum_ = 0\n",
    "before = time()\n",
    "for i in tqdm(range(int(1e7)), position=0):\n",
    "    sum_ += 1\n",
    "after = time()\n",
    "print(sum_)\n",
    "#print('it took {}'.format(after - before))\n",
    "print(f'it took { after - before }')"
   ]
  },
  {
   "cell_type": "code",
   "execution_count": 23,
   "metadata": {},
   "outputs": [],
   "source": [
    "import os\n",
    "from pathlib import Path\n",
    "import pandas as pd"
   ]
  },
  {
   "cell_type": "code",
   "execution_count": 24,
   "metadata": {},
   "outputs": [],
   "source": [
    "df = pd.DataFrame([[]])"
   ]
  },
  {
   "cell_type": "code",
   "execution_count": 34,
   "metadata": {},
   "outputs": [],
   "source": [
    "p = Path('public_covid_data/')"
   ]
  },
  {
   "cell_type": "code",
   "execution_count": 35,
   "metadata": {},
   "outputs": [
    {
     "data": {
      "text/plain": [
       "[PosixPath('public_covid_data/.DS_Store'),\n",
       " PosixPath('public_covid_data/new_folder'),\n",
       " PosixPath('public_covid_data/rp_im'),\n",
       " PosixPath('public_covid_data/rp_msk')]"
      ]
     },
     "execution_count": 35,
     "metadata": {},
     "output_type": "execute_result"
    }
   ],
   "source": [
    "list(p.iterdir())"
   ]
  },
  {
   "cell_type": "code",
   "execution_count": 39,
   "metadata": {},
   "outputs": [
    {
     "data": {
      "text/plain": [
       "[PosixPath('public_covid_data/rp_im'), PosixPath('public_covid_data/rp_msk')]"
      ]
     },
     "execution_count": 39,
     "metadata": {},
     "output_type": "execute_result"
    }
   ],
   "source": [
    "list(p.iterdir())[2:]"
   ]
  },
  {
   "cell_type": "code",
   "execution_count": 84,
   "metadata": {},
   "outputs": [],
   "source": [
    "sub_p = list(p.iterdir())[2:]"
   ]
  },
  {
   "cell_type": "code",
   "execution_count": 85,
   "metadata": {},
   "outputs": [
    {
     "data": {
      "text/plain": [
       "[PosixPath('public_covid_data/rp_im/1.nii.gz'),\n",
       " PosixPath('public_covid_data/rp_im/2.nii.gz'),\n",
       " PosixPath('public_covid_data/rp_im/3.nii.gz'),\n",
       " PosixPath('public_covid_data/rp_im/4.nii.gz'),\n",
       " PosixPath('public_covid_data/rp_im/5.nii.gz'),\n",
       " PosixPath('public_covid_data/rp_im/6.nii.gz'),\n",
       " PosixPath('public_covid_data/rp_im/7.nii.gz'),\n",
       " PosixPath('public_covid_data/rp_im/8.nii.gz'),\n",
       " PosixPath('public_covid_data/rp_im/9.nii.gz')]"
      ]
     },
     "execution_count": 85,
     "metadata": {},
     "output_type": "execute_result"
    }
   ],
   "source": [
    "list(sub_p[0].iterdir())"
   ]
  },
  {
   "cell_type": "code",
   "execution_count": 90,
   "metadata": {},
   "outputs": [
    {
     "name": "stdout",
     "output_type": "stream",
     "text": [
      "rp_im\n",
      "rp_im\n",
      "rp_im\n",
      "rp_im\n",
      "rp_im\n",
      "rp_im\n",
      "rp_im\n",
      "rp_im\n",
      "rp_im\n",
      "rp_msk\n",
      "rp_msk\n",
      "rp_msk\n",
      "rp_msk\n",
      "rp_msk\n",
      "rp_msk\n",
      "rp_msk\n",
      "rp_msk\n",
      "rp_msk\n"
     ]
    }
   ],
   "source": [
    "for subp in list(p.iterdir())[2:]:\n",
    "    for subp_file in list(subp.iterdir()):\n",
    "        print(str(subp_file).split(sep='/')[1])"
   ]
  },
  {
   "cell_type": "code",
   "execution_count": 94,
   "metadata": {},
   "outputs": [],
   "source": [
    "for subp in list(p.iterdir())[2:]:\n",
    "    for subp_file in list(subp.iterdir()):\n",
    "        df['filename'] = str(subp_file).split(sep='/')[2]\n",
    "        df[(str(subp_file).split(sep='/')[1])] = subp_file\n",
    "        "
   ]
  },
  {
   "cell_type": "code",
   "execution_count": 95,
   "metadata": {},
   "outputs": [
    {
     "data": {
      "text/html": [
       "<div>\n",
       "<style scoped>\n",
       "    .dataframe tbody tr th:only-of-type {\n",
       "        vertical-align: middle;\n",
       "    }\n",
       "\n",
       "    .dataframe tbody tr th {\n",
       "        vertical-align: top;\n",
       "    }\n",
       "\n",
       "    .dataframe thead th {\n",
       "        text-align: right;\n",
       "    }\n",
       "</style>\n",
       "<table border=\"1\" class=\"dataframe\">\n",
       "  <thead>\n",
       "    <tr style=\"text-align: right;\">\n",
       "      <th></th>\n",
       "      <th>filename</th>\n",
       "      <th>rp_im</th>\n",
       "      <th>rp_msk</th>\n",
       "    </tr>\n",
       "  </thead>\n",
       "  <tbody>\n",
       "    <tr>\n",
       "      <th>0</th>\n",
       "      <td>9.nii.gz</td>\n",
       "      <td>public_covid_data/rp_im/9.nii.gz</td>\n",
       "      <td>public_covid_data/rp_msk/9.nii.gz</td>\n",
       "    </tr>\n",
       "  </tbody>\n",
       "</table>\n",
       "</div>"
      ],
      "text/plain": [
       "   filename                             rp_im  \\\n",
       "0  9.nii.gz  public_covid_data/rp_im/9.nii.gz   \n",
       "\n",
       "                              rp_msk  \n",
       "0  public_covid_data/rp_msk/9.nii.gz  "
      ]
     },
     "execution_count": 95,
     "metadata": {},
     "output_type": "execute_result"
    }
   ],
   "source": [
    "df"
   ]
  },
  {
   "cell_type": "code",
   "execution_count": 87,
   "metadata": {},
   "outputs": [
    {
     "data": {
      "text/plain": [
       "PosixPath('public_covid_data/rp_im/1.nii.gz')"
      ]
     },
     "execution_count": 87,
     "metadata": {},
     "output_type": "execute_result"
    }
   ],
   "source": [
    "list(sub_p[0].iterdir())[0]"
   ]
  },
  {
   "cell_type": "code",
   "execution_count": 88,
   "metadata": {},
   "outputs": [
    {
     "data": {
      "text/plain": [
       "'public_covid_data/rp_im/1.nii.gz'"
      ]
     },
     "execution_count": 88,
     "metadata": {},
     "output_type": "execute_result"
    }
   ],
   "source": [
    "list(sub_p[0].iterdir())[0].as_posix()"
   ]
  },
  {
   "cell_type": "code",
   "execution_count": 97,
   "metadata": {},
   "outputs": [
    {
     "data": {
      "text/plain": [
       "[PosixPath('public_covid_data/rp_im'), PosixPath('public_covid_data/rp_msk')]"
      ]
     },
     "execution_count": 97,
     "metadata": {},
     "output_type": "execute_result"
    }
   ],
   "source": [
    "[p for p in list(p.iterdir())[2:]]"
   ]
  },
  {
   "cell_type": "code",
   "execution_count": 98,
   "metadata": {},
   "outputs": [
    {
     "data": {
      "text/plain": [
       "['public_covid_data/rp_im', 'public_covid_data/rp_msk']"
      ]
     },
     "execution_count": 98,
     "metadata": {},
     "output_type": "execute_result"
    }
   ],
   "source": [
    "[p.as_posix() for p in list(p.iterdir())[2:]]"
   ]
  },
  {
   "cell_type": "code",
   "execution_count": 104,
   "metadata": {},
   "outputs": [
    {
     "name": "stdout",
     "output_type": "stream",
     "text": [
      "<generator object Path.iterdir at 0x7f9bc32d6650>\n",
      "<generator object Path.iterdir at 0x7f9bc32d6650>\n"
     ]
    }
   ],
   "source": [
    "for subP in [p for p in list(p.iterdir())[2:]]:\n",
    "    print(subP.iterdir())"
   ]
  },
  {
   "cell_type": "code",
   "execution_count": 105,
   "metadata": {},
   "outputs": [
    {
     "name": "stdout",
     "output_type": "stream",
     "text": [
      "[PosixPath('public_covid_data/rp_im/1.nii.gz'), PosixPath('public_covid_data/rp_im/2.nii.gz'), PosixPath('public_covid_data/rp_im/3.nii.gz'), PosixPath('public_covid_data/rp_im/4.nii.gz'), PosixPath('public_covid_data/rp_im/5.nii.gz'), PosixPath('public_covid_data/rp_im/6.nii.gz'), PosixPath('public_covid_data/rp_im/7.nii.gz'), PosixPath('public_covid_data/rp_im/8.nii.gz'), PosixPath('public_covid_data/rp_im/9.nii.gz')]\n",
      "[PosixPath('public_covid_data/rp_msk/1.nii.gz'), PosixPath('public_covid_data/rp_msk/2.nii.gz'), PosixPath('public_covid_data/rp_msk/3.nii.gz'), PosixPath('public_covid_data/rp_msk/4.nii.gz'), PosixPath('public_covid_data/rp_msk/5.nii.gz'), PosixPath('public_covid_data/rp_msk/6.nii.gz'), PosixPath('public_covid_data/rp_msk/7.nii.gz'), PosixPath('public_covid_data/rp_msk/8.nii.gz'), PosixPath('public_covid_data/rp_msk/9.nii.gz')]\n"
     ]
    }
   ],
   "source": [
    "for subP in [p for p in list(p.iterdir())[2:]]:\n",
    "    print(list(subP.iterdir()))"
   ]
  },
  {
   "cell_type": "code",
   "execution_count": 123,
   "metadata": {},
   "outputs": [
    {
     "data": {
      "text/plain": [
       "[[PosixPath('public_covid_data/rp_im/1.nii.gz'),\n",
       "  PosixPath('public_covid_data/rp_im/2.nii.gz'),\n",
       "  PosixPath('public_covid_data/rp_im/3.nii.gz'),\n",
       "  PosixPath('public_covid_data/rp_im/4.nii.gz'),\n",
       "  PosixPath('public_covid_data/rp_im/5.nii.gz'),\n",
       "  PosixPath('public_covid_data/rp_im/6.nii.gz'),\n",
       "  PosixPath('public_covid_data/rp_im/7.nii.gz'),\n",
       "  PosixPath('public_covid_data/rp_im/8.nii.gz'),\n",
       "  PosixPath('public_covid_data/rp_im/9.nii.gz')],\n",
       " [PosixPath('public_covid_data/rp_msk/1.nii.gz'),\n",
       "  PosixPath('public_covid_data/rp_msk/2.nii.gz'),\n",
       "  PosixPath('public_covid_data/rp_msk/3.nii.gz'),\n",
       "  PosixPath('public_covid_data/rp_msk/4.nii.gz'),\n",
       "  PosixPath('public_covid_data/rp_msk/5.nii.gz'),\n",
       "  PosixPath('public_covid_data/rp_msk/6.nii.gz'),\n",
       "  PosixPath('public_covid_data/rp_msk/7.nii.gz'),\n",
       "  PosixPath('public_covid_data/rp_msk/8.nii.gz'),\n",
       "  PosixPath('public_covid_data/rp_msk/9.nii.gz')]]"
      ]
     },
     "execution_count": 123,
     "metadata": {},
     "output_type": "execute_result"
    }
   ],
   "source": [
    "[ list(subP.iterdir()) for subP in [p for p in list(p.iterdir())[2:]]]"
   ]
  },
  {
   "cell_type": "code",
   "execution_count": 125,
   "metadata": {},
   "outputs": [],
   "source": [
    "x  = [ list(subP.iterdir()) for subP in [p for p in list(p.iterdir())[2:]]]"
   ]
  },
  {
   "cell_type": "code",
   "execution_count": 128,
   "metadata": {},
   "outputs": [],
   "source": [
    "from itertools import chain"
   ]
  },
  {
   "cell_type": "code",
   "execution_count": 129,
   "metadata": {},
   "outputs": [
    {
     "data": {
      "text/plain": [
       "[PosixPath('public_covid_data/rp_im/1.nii.gz'),\n",
       " PosixPath('public_covid_data/rp_im/2.nii.gz'),\n",
       " PosixPath('public_covid_data/rp_im/3.nii.gz'),\n",
       " PosixPath('public_covid_data/rp_im/4.nii.gz'),\n",
       " PosixPath('public_covid_data/rp_im/5.nii.gz'),\n",
       " PosixPath('public_covid_data/rp_im/6.nii.gz'),\n",
       " PosixPath('public_covid_data/rp_im/7.nii.gz'),\n",
       " PosixPath('public_covid_data/rp_im/8.nii.gz'),\n",
       " PosixPath('public_covid_data/rp_im/9.nii.gz'),\n",
       " PosixPath('public_covid_data/rp_msk/1.nii.gz'),\n",
       " PosixPath('public_covid_data/rp_msk/2.nii.gz'),\n",
       " PosixPath('public_covid_data/rp_msk/3.nii.gz'),\n",
       " PosixPath('public_covid_data/rp_msk/4.nii.gz'),\n",
       " PosixPath('public_covid_data/rp_msk/5.nii.gz'),\n",
       " PosixPath('public_covid_data/rp_msk/6.nii.gz'),\n",
       " PosixPath('public_covid_data/rp_msk/7.nii.gz'),\n",
       " PosixPath('public_covid_data/rp_msk/8.nii.gz'),\n",
       " PosixPath('public_covid_data/rp_msk/9.nii.gz')]"
      ]
     },
     "execution_count": 129,
     "metadata": {},
     "output_type": "execute_result"
    }
   ],
   "source": [
    "list(chain.from_iterable(x))"
   ]
  },
  {
   "cell_type": "code",
   "execution_count": 135,
   "metadata": {},
   "outputs": [
    {
     "data": {
      "text/plain": [
       "['1.nii.gz',\n",
       " '2.nii.gz',\n",
       " '3.nii.gz',\n",
       " '4.nii.gz',\n",
       " '5.nii.gz',\n",
       " '6.nii.gz',\n",
       " '7.nii.gz',\n",
       " '8.nii.gz',\n",
       " '9.nii.gz',\n",
       " '1.nii.gz',\n",
       " '2.nii.gz',\n",
       " '3.nii.gz',\n",
       " '4.nii.gz',\n",
       " '5.nii.gz',\n",
       " '6.nii.gz',\n",
       " '7.nii.gz',\n",
       " '8.nii.gz',\n",
       " '9.nii.gz']"
      ]
     },
     "execution_count": 135,
     "metadata": {},
     "output_type": "execute_result"
    }
   ],
   "source": [
    "[os.path.split(filename.as_posix())[1] for filename in list(chain.from_iterable(x))]"
   ]
  },
  {
   "cell_type": "code",
   "execution_count": 136,
   "metadata": {},
   "outputs": [],
   "source": [
    "px = Path('./public_covid_data/')"
   ]
  },
  {
   "cell_type": "code",
   "execution_count": 137,
   "metadata": {},
   "outputs": [
    {
     "data": {
      "text/plain": [
       "<generator object Path.iterdir at 0x7f9bc3efae50>"
      ]
     },
     "execution_count": 137,
     "metadata": {},
     "output_type": "execute_result"
    }
   ],
   "source": [
    "px.iterdir()"
   ]
  },
  {
   "cell_type": "code",
   "execution_count": 138,
   "metadata": {},
   "outputs": [
    {
     "data": {
      "text/plain": [
       "[PosixPath('public_covid_data/.DS_Store'),\n",
       " PosixPath('public_covid_data/new_folder'),\n",
       " PosixPath('public_covid_data/rp_im'),\n",
       " PosixPath('public_covid_data/rp_msk')]"
      ]
     },
     "execution_count": 138,
     "metadata": {},
     "output_type": "execute_result"
    }
   ],
   "source": [
    "list(px.iterdir())"
   ]
  },
  {
   "cell_type": "code",
   "execution_count": 139,
   "metadata": {},
   "outputs": [
    {
     "data": {
      "text/plain": [
       "[PosixPath('public_covid_data/rp_im'), PosixPath('public_covid_data/rp_msk')]"
      ]
     },
     "execution_count": 139,
     "metadata": {},
     "output_type": "execute_result"
    }
   ],
   "source": [
    "list(px.iterdir())[2:]"
   ]
  },
  {
   "cell_type": "code",
   "execution_count": 140,
   "metadata": {},
   "outputs": [],
   "source": []
  },
  {
   "cell_type": "code",
   "execution_count": 186,
   "metadata": {},
   "outputs": [],
   "source": [
    "df_list = []\n",
    "for subpx in list(px.iterdir())[2:]:\n",
    "    path_list = [px.as_posix() for px in list(subpx.iterdir())]\n",
    "    file_list = [os.path.split(px)[1] for px in list(subpx.iterdir())]\n",
    "    df_list.append(pd.DataFrame({'path': path_list, 'filename': file_list}))"
   ]
  },
  {
   "cell_type": "code",
   "execution_count": 187,
   "metadata": {},
   "outputs": [
    {
     "data": {
      "text/plain": [
       "[                               path  filename\n",
       " 0  public_covid_data/rp_im/1.nii.gz  1.nii.gz\n",
       " 1  public_covid_data/rp_im/2.nii.gz  2.nii.gz\n",
       " 2  public_covid_data/rp_im/3.nii.gz  3.nii.gz\n",
       " 3  public_covid_data/rp_im/4.nii.gz  4.nii.gz\n",
       " 4  public_covid_data/rp_im/5.nii.gz  5.nii.gz\n",
       " 5  public_covid_data/rp_im/6.nii.gz  6.nii.gz\n",
       " 6  public_covid_data/rp_im/7.nii.gz  7.nii.gz\n",
       " 7  public_covid_data/rp_im/8.nii.gz  8.nii.gz\n",
       " 8  public_covid_data/rp_im/9.nii.gz  9.nii.gz,\n",
       "                                 path  filename\n",
       " 0  public_covid_data/rp_msk/1.nii.gz  1.nii.gz\n",
       " 1  public_covid_data/rp_msk/2.nii.gz  2.nii.gz\n",
       " 2  public_covid_data/rp_msk/3.nii.gz  3.nii.gz\n",
       " 3  public_covid_data/rp_msk/4.nii.gz  4.nii.gz\n",
       " 4  public_covid_data/rp_msk/5.nii.gz  5.nii.gz\n",
       " 5  public_covid_data/rp_msk/6.nii.gz  6.nii.gz\n",
       " 6  public_covid_data/rp_msk/7.nii.gz  7.nii.gz\n",
       " 7  public_covid_data/rp_msk/8.nii.gz  8.nii.gz\n",
       " 8  public_covid_data/rp_msk/9.nii.gz  9.nii.gz]"
      ]
     },
     "execution_count": 187,
     "metadata": {},
     "output_type": "execute_result"
    }
   ],
   "source": [
    "df_list"
   ]
  },
  {
   "cell_type": "code",
   "execution_count": 188,
   "metadata": {},
   "outputs": [
    {
     "data": {
      "text/plain": [
       "PosixPath('public_covid_data')"
      ]
     },
     "execution_count": 188,
     "metadata": {},
     "output_type": "execute_result"
    }
   ],
   "source": [
    "p"
   ]
  },
  {
   "cell_type": "code",
   "execution_count": 176,
   "metadata": {},
   "outputs": [],
   "source": [
    "df = pd.DataFrame([])\n",
    "for subp in list(p.iterdir())[2:]:\n",
    "    for subp_file in list(subp.iterdir()):\n",
    "        path_ = subp_file\n",
    "        file_ = os.path.split(subp_file)[1]\n",
    "        col = str(subp_file).split(sep='/')[1]\n",
    "        d_ = pd.DataFrame({col: [subp_file],'filename': [file_]})\n",
    "        df = df.append(d_)\n",
    "        "
   ]
  },
  {
   "cell_type": "code",
   "execution_count": 177,
   "metadata": {},
   "outputs": [
    {
     "data": {
      "text/html": [
       "<div>\n",
       "<style scoped>\n",
       "    .dataframe tbody tr th:only-of-type {\n",
       "        vertical-align: middle;\n",
       "    }\n",
       "\n",
       "    .dataframe tbody tr th {\n",
       "        vertical-align: top;\n",
       "    }\n",
       "\n",
       "    .dataframe thead th {\n",
       "        text-align: right;\n",
       "    }\n",
       "</style>\n",
       "<table border=\"1\" class=\"dataframe\">\n",
       "  <thead>\n",
       "    <tr style=\"text-align: right;\">\n",
       "      <th></th>\n",
       "      <th>rp_im</th>\n",
       "      <th>filename</th>\n",
       "      <th>rp_msk</th>\n",
       "    </tr>\n",
       "  </thead>\n",
       "  <tbody>\n",
       "    <tr>\n",
       "      <th>0</th>\n",
       "      <td>public_covid_data/rp_im/1.nii.gz</td>\n",
       "      <td>1.nii.gz</td>\n",
       "      <td>NaN</td>\n",
       "    </tr>\n",
       "    <tr>\n",
       "      <th>0</th>\n",
       "      <td>public_covid_data/rp_im/2.nii.gz</td>\n",
       "      <td>2.nii.gz</td>\n",
       "      <td>NaN</td>\n",
       "    </tr>\n",
       "    <tr>\n",
       "      <th>0</th>\n",
       "      <td>public_covid_data/rp_im/3.nii.gz</td>\n",
       "      <td>3.nii.gz</td>\n",
       "      <td>NaN</td>\n",
       "    </tr>\n",
       "    <tr>\n",
       "      <th>0</th>\n",
       "      <td>public_covid_data/rp_im/4.nii.gz</td>\n",
       "      <td>4.nii.gz</td>\n",
       "      <td>NaN</td>\n",
       "    </tr>\n",
       "    <tr>\n",
       "      <th>0</th>\n",
       "      <td>public_covid_data/rp_im/5.nii.gz</td>\n",
       "      <td>5.nii.gz</td>\n",
       "      <td>NaN</td>\n",
       "    </tr>\n",
       "    <tr>\n",
       "      <th>0</th>\n",
       "      <td>public_covid_data/rp_im/6.nii.gz</td>\n",
       "      <td>6.nii.gz</td>\n",
       "      <td>NaN</td>\n",
       "    </tr>\n",
       "    <tr>\n",
       "      <th>0</th>\n",
       "      <td>public_covid_data/rp_im/7.nii.gz</td>\n",
       "      <td>7.nii.gz</td>\n",
       "      <td>NaN</td>\n",
       "    </tr>\n",
       "    <tr>\n",
       "      <th>0</th>\n",
       "      <td>public_covid_data/rp_im/8.nii.gz</td>\n",
       "      <td>8.nii.gz</td>\n",
       "      <td>NaN</td>\n",
       "    </tr>\n",
       "    <tr>\n",
       "      <th>0</th>\n",
       "      <td>public_covid_data/rp_im/9.nii.gz</td>\n",
       "      <td>9.nii.gz</td>\n",
       "      <td>NaN</td>\n",
       "    </tr>\n",
       "    <tr>\n",
       "      <th>0</th>\n",
       "      <td>NaN</td>\n",
       "      <td>1.nii.gz</td>\n",
       "      <td>public_covid_data/rp_msk/1.nii.gz</td>\n",
       "    </tr>\n",
       "    <tr>\n",
       "      <th>0</th>\n",
       "      <td>NaN</td>\n",
       "      <td>2.nii.gz</td>\n",
       "      <td>public_covid_data/rp_msk/2.nii.gz</td>\n",
       "    </tr>\n",
       "    <tr>\n",
       "      <th>0</th>\n",
       "      <td>NaN</td>\n",
       "      <td>3.nii.gz</td>\n",
       "      <td>public_covid_data/rp_msk/3.nii.gz</td>\n",
       "    </tr>\n",
       "    <tr>\n",
       "      <th>0</th>\n",
       "      <td>NaN</td>\n",
       "      <td>4.nii.gz</td>\n",
       "      <td>public_covid_data/rp_msk/4.nii.gz</td>\n",
       "    </tr>\n",
       "    <tr>\n",
       "      <th>0</th>\n",
       "      <td>NaN</td>\n",
       "      <td>5.nii.gz</td>\n",
       "      <td>public_covid_data/rp_msk/5.nii.gz</td>\n",
       "    </tr>\n",
       "    <tr>\n",
       "      <th>0</th>\n",
       "      <td>NaN</td>\n",
       "      <td>6.nii.gz</td>\n",
       "      <td>public_covid_data/rp_msk/6.nii.gz</td>\n",
       "    </tr>\n",
       "    <tr>\n",
       "      <th>0</th>\n",
       "      <td>NaN</td>\n",
       "      <td>7.nii.gz</td>\n",
       "      <td>public_covid_data/rp_msk/7.nii.gz</td>\n",
       "    </tr>\n",
       "    <tr>\n",
       "      <th>0</th>\n",
       "      <td>NaN</td>\n",
       "      <td>8.nii.gz</td>\n",
       "      <td>public_covid_data/rp_msk/8.nii.gz</td>\n",
       "    </tr>\n",
       "    <tr>\n",
       "      <th>0</th>\n",
       "      <td>NaN</td>\n",
       "      <td>9.nii.gz</td>\n",
       "      <td>public_covid_data/rp_msk/9.nii.gz</td>\n",
       "    </tr>\n",
       "  </tbody>\n",
       "</table>\n",
       "</div>"
      ],
      "text/plain": [
       "                              rp_im  filename  \\\n",
       "0  public_covid_data/rp_im/1.nii.gz  1.nii.gz   \n",
       "0  public_covid_data/rp_im/2.nii.gz  2.nii.gz   \n",
       "0  public_covid_data/rp_im/3.nii.gz  3.nii.gz   \n",
       "0  public_covid_data/rp_im/4.nii.gz  4.nii.gz   \n",
       "0  public_covid_data/rp_im/5.nii.gz  5.nii.gz   \n",
       "0  public_covid_data/rp_im/6.nii.gz  6.nii.gz   \n",
       "0  public_covid_data/rp_im/7.nii.gz  7.nii.gz   \n",
       "0  public_covid_data/rp_im/8.nii.gz  8.nii.gz   \n",
       "0  public_covid_data/rp_im/9.nii.gz  9.nii.gz   \n",
       "0                               NaN  1.nii.gz   \n",
       "0                               NaN  2.nii.gz   \n",
       "0                               NaN  3.nii.gz   \n",
       "0                               NaN  4.nii.gz   \n",
       "0                               NaN  5.nii.gz   \n",
       "0                               NaN  6.nii.gz   \n",
       "0                               NaN  7.nii.gz   \n",
       "0                               NaN  8.nii.gz   \n",
       "0                               NaN  9.nii.gz   \n",
       "\n",
       "                              rp_msk  \n",
       "0                                NaN  \n",
       "0                                NaN  \n",
       "0                                NaN  \n",
       "0                                NaN  \n",
       "0                                NaN  \n",
       "0                                NaN  \n",
       "0                                NaN  \n",
       "0                                NaN  \n",
       "0                                NaN  \n",
       "0  public_covid_data/rp_msk/1.nii.gz  \n",
       "0  public_covid_data/rp_msk/2.nii.gz  \n",
       "0  public_covid_data/rp_msk/3.nii.gz  \n",
       "0  public_covid_data/rp_msk/4.nii.gz  \n",
       "0  public_covid_data/rp_msk/5.nii.gz  \n",
       "0  public_covid_data/rp_msk/6.nii.gz  \n",
       "0  public_covid_data/rp_msk/7.nii.gz  \n",
       "0  public_covid_data/rp_msk/8.nii.gz  \n",
       "0  public_covid_data/rp_msk/9.nii.gz  "
      ]
     },
     "execution_count": 177,
     "metadata": {},
     "output_type": "execute_result"
    }
   ],
   "source": [
    "df"
   ]
  },
  {
   "cell_type": "code",
   "execution_count": 178,
   "metadata": {},
   "outputs": [
    {
     "data": {
      "text/plain": [
       "[                               path           filename\n",
       " 0  public_covid_data/rp_im/1.nii.gz  public_covid_data\n",
       " 1  public_covid_data/rp_im/2.nii.gz  public_covid_data\n",
       " 2  public_covid_data/rp_im/3.nii.gz  public_covid_data\n",
       " 3  public_covid_data/rp_im/4.nii.gz  public_covid_data\n",
       " 4  public_covid_data/rp_im/5.nii.gz  public_covid_data\n",
       " 5  public_covid_data/rp_im/6.nii.gz  public_covid_data\n",
       " 6  public_covid_data/rp_im/7.nii.gz  public_covid_data\n",
       " 7  public_covid_data/rp_im/8.nii.gz  public_covid_data\n",
       " 8  public_covid_data/rp_im/9.nii.gz  public_covid_data,\n",
       "                                 path           filename\n",
       " 0  public_covid_data/rp_msk/1.nii.gz  public_covid_data\n",
       " 1  public_covid_data/rp_msk/2.nii.gz  public_covid_data\n",
       " 2  public_covid_data/rp_msk/3.nii.gz  public_covid_data\n",
       " 3  public_covid_data/rp_msk/4.nii.gz  public_covid_data\n",
       " 4  public_covid_data/rp_msk/5.nii.gz  public_covid_data\n",
       " 5  public_covid_data/rp_msk/6.nii.gz  public_covid_data\n",
       " 6  public_covid_data/rp_msk/7.nii.gz  public_covid_data\n",
       " 7  public_covid_data/rp_msk/8.nii.gz  public_covid_data\n",
       " 8  public_covid_data/rp_msk/9.nii.gz  public_covid_data]"
      ]
     },
     "execution_count": 178,
     "metadata": {},
     "output_type": "execute_result"
    }
   ],
   "source": [
    "df_list"
   ]
  },
  {
   "cell_type": "code",
   "execution_count": 191,
   "metadata": {},
   "outputs": [
    {
     "data": {
      "text/html": [
       "<div>\n",
       "<style scoped>\n",
       "    .dataframe tbody tr th:only-of-type {\n",
       "        vertical-align: middle;\n",
       "    }\n",
       "\n",
       "    .dataframe tbody tr th {\n",
       "        vertical-align: top;\n",
       "    }\n",
       "\n",
       "    .dataframe thead th {\n",
       "        text-align: right;\n",
       "    }\n",
       "</style>\n",
       "<table border=\"1\" class=\"dataframe\">\n",
       "  <thead>\n",
       "    <tr style=\"text-align: right;\">\n",
       "      <th></th>\n",
       "      <th>path_x</th>\n",
       "      <th>filename</th>\n",
       "      <th>path_y</th>\n",
       "    </tr>\n",
       "  </thead>\n",
       "  <tbody>\n",
       "    <tr>\n",
       "      <th>0</th>\n",
       "      <td>public_covid_data/rp_im/1.nii.gz</td>\n",
       "      <td>1.nii.gz</td>\n",
       "      <td>public_covid_data/rp_msk/1.nii.gz</td>\n",
       "    </tr>\n",
       "    <tr>\n",
       "      <th>1</th>\n",
       "      <td>public_covid_data/rp_im/2.nii.gz</td>\n",
       "      <td>2.nii.gz</td>\n",
       "      <td>public_covid_data/rp_msk/2.nii.gz</td>\n",
       "    </tr>\n",
       "    <tr>\n",
       "      <th>2</th>\n",
       "      <td>public_covid_data/rp_im/3.nii.gz</td>\n",
       "      <td>3.nii.gz</td>\n",
       "      <td>public_covid_data/rp_msk/3.nii.gz</td>\n",
       "    </tr>\n",
       "    <tr>\n",
       "      <th>3</th>\n",
       "      <td>public_covid_data/rp_im/4.nii.gz</td>\n",
       "      <td>4.nii.gz</td>\n",
       "      <td>public_covid_data/rp_msk/4.nii.gz</td>\n",
       "    </tr>\n",
       "    <tr>\n",
       "      <th>4</th>\n",
       "      <td>public_covid_data/rp_im/5.nii.gz</td>\n",
       "      <td>5.nii.gz</td>\n",
       "      <td>public_covid_data/rp_msk/5.nii.gz</td>\n",
       "    </tr>\n",
       "    <tr>\n",
       "      <th>5</th>\n",
       "      <td>public_covid_data/rp_im/6.nii.gz</td>\n",
       "      <td>6.nii.gz</td>\n",
       "      <td>public_covid_data/rp_msk/6.nii.gz</td>\n",
       "    </tr>\n",
       "    <tr>\n",
       "      <th>6</th>\n",
       "      <td>public_covid_data/rp_im/7.nii.gz</td>\n",
       "      <td>7.nii.gz</td>\n",
       "      <td>public_covid_data/rp_msk/7.nii.gz</td>\n",
       "    </tr>\n",
       "    <tr>\n",
       "      <th>7</th>\n",
       "      <td>public_covid_data/rp_im/8.nii.gz</td>\n",
       "      <td>8.nii.gz</td>\n",
       "      <td>public_covid_data/rp_msk/8.nii.gz</td>\n",
       "    </tr>\n",
       "    <tr>\n",
       "      <th>8</th>\n",
       "      <td>public_covid_data/rp_im/9.nii.gz</td>\n",
       "      <td>9.nii.gz</td>\n",
       "      <td>public_covid_data/rp_msk/9.nii.gz</td>\n",
       "    </tr>\n",
       "  </tbody>\n",
       "</table>\n",
       "</div>"
      ],
      "text/plain": [
       "                             path_x  filename  \\\n",
       "0  public_covid_data/rp_im/1.nii.gz  1.nii.gz   \n",
       "1  public_covid_data/rp_im/2.nii.gz  2.nii.gz   \n",
       "2  public_covid_data/rp_im/3.nii.gz  3.nii.gz   \n",
       "3  public_covid_data/rp_im/4.nii.gz  4.nii.gz   \n",
       "4  public_covid_data/rp_im/5.nii.gz  5.nii.gz   \n",
       "5  public_covid_data/rp_im/6.nii.gz  6.nii.gz   \n",
       "6  public_covid_data/rp_im/7.nii.gz  7.nii.gz   \n",
       "7  public_covid_data/rp_im/8.nii.gz  8.nii.gz   \n",
       "8  public_covid_data/rp_im/9.nii.gz  9.nii.gz   \n",
       "\n",
       "                              path_y  \n",
       "0  public_covid_data/rp_msk/1.nii.gz  \n",
       "1  public_covid_data/rp_msk/2.nii.gz  \n",
       "2  public_covid_data/rp_msk/3.nii.gz  \n",
       "3  public_covid_data/rp_msk/4.nii.gz  \n",
       "4  public_covid_data/rp_msk/5.nii.gz  \n",
       "5  public_covid_data/rp_msk/6.nii.gz  \n",
       "6  public_covid_data/rp_msk/7.nii.gz  \n",
       "7  public_covid_data/rp_msk/8.nii.gz  \n",
       "8  public_covid_data/rp_msk/9.nii.gz  "
      ]
     },
     "execution_count": 191,
     "metadata": {},
     "output_type": "execute_result"
    }
   ],
   "source": [
    "pd.merge(df_list[0], df_list[1], on='filename')"
   ]
  },
  {
   "cell_type": "code",
   "execution_count": 192,
   "metadata": {},
   "outputs": [
    {
     "data": {
      "text/html": [
       "<div>\n",
       "<style scoped>\n",
       "    .dataframe tbody tr th:only-of-type {\n",
       "        vertical-align: middle;\n",
       "    }\n",
       "\n",
       "    .dataframe tbody tr th {\n",
       "        vertical-align: top;\n",
       "    }\n",
       "\n",
       "    .dataframe thead th {\n",
       "        text-align: right;\n",
       "    }\n",
       "</style>\n",
       "<table border=\"1\" class=\"dataframe\">\n",
       "  <thead>\n",
       "    <tr style=\"text-align: right;\">\n",
       "      <th></th>\n",
       "      <th>path_im</th>\n",
       "      <th>filename</th>\n",
       "      <th>path_msk</th>\n",
       "    </tr>\n",
       "  </thead>\n",
       "  <tbody>\n",
       "    <tr>\n",
       "      <th>0</th>\n",
       "      <td>public_covid_data/rp_im/1.nii.gz</td>\n",
       "      <td>1.nii.gz</td>\n",
       "      <td>public_covid_data/rp_msk/1.nii.gz</td>\n",
       "    </tr>\n",
       "    <tr>\n",
       "      <th>1</th>\n",
       "      <td>public_covid_data/rp_im/2.nii.gz</td>\n",
       "      <td>2.nii.gz</td>\n",
       "      <td>public_covid_data/rp_msk/2.nii.gz</td>\n",
       "    </tr>\n",
       "    <tr>\n",
       "      <th>2</th>\n",
       "      <td>public_covid_data/rp_im/3.nii.gz</td>\n",
       "      <td>3.nii.gz</td>\n",
       "      <td>public_covid_data/rp_msk/3.nii.gz</td>\n",
       "    </tr>\n",
       "    <tr>\n",
       "      <th>3</th>\n",
       "      <td>public_covid_data/rp_im/4.nii.gz</td>\n",
       "      <td>4.nii.gz</td>\n",
       "      <td>public_covid_data/rp_msk/4.nii.gz</td>\n",
       "    </tr>\n",
       "    <tr>\n",
       "      <th>4</th>\n",
       "      <td>public_covid_data/rp_im/5.nii.gz</td>\n",
       "      <td>5.nii.gz</td>\n",
       "      <td>public_covid_data/rp_msk/5.nii.gz</td>\n",
       "    </tr>\n",
       "    <tr>\n",
       "      <th>5</th>\n",
       "      <td>public_covid_data/rp_im/6.nii.gz</td>\n",
       "      <td>6.nii.gz</td>\n",
       "      <td>public_covid_data/rp_msk/6.nii.gz</td>\n",
       "    </tr>\n",
       "    <tr>\n",
       "      <th>6</th>\n",
       "      <td>public_covid_data/rp_im/7.nii.gz</td>\n",
       "      <td>7.nii.gz</td>\n",
       "      <td>public_covid_data/rp_msk/7.nii.gz</td>\n",
       "    </tr>\n",
       "    <tr>\n",
       "      <th>7</th>\n",
       "      <td>public_covid_data/rp_im/8.nii.gz</td>\n",
       "      <td>8.nii.gz</td>\n",
       "      <td>public_covid_data/rp_msk/8.nii.gz</td>\n",
       "    </tr>\n",
       "    <tr>\n",
       "      <th>8</th>\n",
       "      <td>public_covid_data/rp_im/9.nii.gz</td>\n",
       "      <td>9.nii.gz</td>\n",
       "      <td>public_covid_data/rp_msk/9.nii.gz</td>\n",
       "    </tr>\n",
       "  </tbody>\n",
       "</table>\n",
       "</div>"
      ],
      "text/plain": [
       "                            path_im  filename  \\\n",
       "0  public_covid_data/rp_im/1.nii.gz  1.nii.gz   \n",
       "1  public_covid_data/rp_im/2.nii.gz  2.nii.gz   \n",
       "2  public_covid_data/rp_im/3.nii.gz  3.nii.gz   \n",
       "3  public_covid_data/rp_im/4.nii.gz  4.nii.gz   \n",
       "4  public_covid_data/rp_im/5.nii.gz  5.nii.gz   \n",
       "5  public_covid_data/rp_im/6.nii.gz  6.nii.gz   \n",
       "6  public_covid_data/rp_im/7.nii.gz  7.nii.gz   \n",
       "7  public_covid_data/rp_im/8.nii.gz  8.nii.gz   \n",
       "8  public_covid_data/rp_im/9.nii.gz  9.nii.gz   \n",
       "\n",
       "                            path_msk  \n",
       "0  public_covid_data/rp_msk/1.nii.gz  \n",
       "1  public_covid_data/rp_msk/2.nii.gz  \n",
       "2  public_covid_data/rp_msk/3.nii.gz  \n",
       "3  public_covid_data/rp_msk/4.nii.gz  \n",
       "4  public_covid_data/rp_msk/5.nii.gz  \n",
       "5  public_covid_data/rp_msk/6.nii.gz  \n",
       "6  public_covid_data/rp_msk/7.nii.gz  \n",
       "7  public_covid_data/rp_msk/8.nii.gz  \n",
       "8  public_covid_data/rp_msk/9.nii.gz  "
      ]
     },
     "execution_count": 192,
     "metadata": {},
     "output_type": "execute_result"
    }
   ],
   "source": [
    "df_list[0].merge(df_list[1], on='filename', suffixes=('_im', '_msk'))"
   ]
  },
  {
   "cell_type": "code",
   "execution_count": 193,
   "metadata": {},
   "outputs": [],
   "source": [
    "dfx = df_list[0].merge(df_list[1], on='filename', suffixes=('_im', '_msk'))"
   ]
  },
  {
   "cell_type": "code",
   "execution_count": 194,
   "metadata": {},
   "outputs": [
    {
     "data": {
      "text/html": [
       "<div>\n",
       "<style scoped>\n",
       "    .dataframe tbody tr th:only-of-type {\n",
       "        vertical-align: middle;\n",
       "    }\n",
       "\n",
       "    .dataframe tbody tr th {\n",
       "        vertical-align: top;\n",
       "    }\n",
       "\n",
       "    .dataframe thead th {\n",
       "        text-align: right;\n",
       "    }\n",
       "</style>\n",
       "<table border=\"1\" class=\"dataframe\">\n",
       "  <thead>\n",
       "    <tr style=\"text-align: right;\">\n",
       "      <th></th>\n",
       "      <th>path_im</th>\n",
       "      <th>filename</th>\n",
       "      <th>path_msk</th>\n",
       "    </tr>\n",
       "  </thead>\n",
       "  <tbody>\n",
       "    <tr>\n",
       "      <th>0</th>\n",
       "      <td>public_covid_data/rp_im/1.nii.gz</td>\n",
       "      <td>1.nii.gz</td>\n",
       "      <td>public_covid_data/rp_msk/1.nii.gz</td>\n",
       "    </tr>\n",
       "    <tr>\n",
       "      <th>1</th>\n",
       "      <td>public_covid_data/rp_im/2.nii.gz</td>\n",
       "      <td>2.nii.gz</td>\n",
       "      <td>public_covid_data/rp_msk/2.nii.gz</td>\n",
       "    </tr>\n",
       "    <tr>\n",
       "      <th>2</th>\n",
       "      <td>public_covid_data/rp_im/3.nii.gz</td>\n",
       "      <td>3.nii.gz</td>\n",
       "      <td>public_covid_data/rp_msk/3.nii.gz</td>\n",
       "    </tr>\n",
       "    <tr>\n",
       "      <th>3</th>\n",
       "      <td>public_covid_data/rp_im/4.nii.gz</td>\n",
       "      <td>4.nii.gz</td>\n",
       "      <td>public_covid_data/rp_msk/4.nii.gz</td>\n",
       "    </tr>\n",
       "    <tr>\n",
       "      <th>4</th>\n",
       "      <td>public_covid_data/rp_im/5.nii.gz</td>\n",
       "      <td>5.nii.gz</td>\n",
       "      <td>public_covid_data/rp_msk/5.nii.gz</td>\n",
       "    </tr>\n",
       "    <tr>\n",
       "      <th>5</th>\n",
       "      <td>public_covid_data/rp_im/6.nii.gz</td>\n",
       "      <td>6.nii.gz</td>\n",
       "      <td>public_covid_data/rp_msk/6.nii.gz</td>\n",
       "    </tr>\n",
       "    <tr>\n",
       "      <th>6</th>\n",
       "      <td>public_covid_data/rp_im/7.nii.gz</td>\n",
       "      <td>7.nii.gz</td>\n",
       "      <td>public_covid_data/rp_msk/7.nii.gz</td>\n",
       "    </tr>\n",
       "    <tr>\n",
       "      <th>7</th>\n",
       "      <td>public_covid_data/rp_im/8.nii.gz</td>\n",
       "      <td>8.nii.gz</td>\n",
       "      <td>public_covid_data/rp_msk/8.nii.gz</td>\n",
       "    </tr>\n",
       "    <tr>\n",
       "      <th>8</th>\n",
       "      <td>public_covid_data/rp_im/9.nii.gz</td>\n",
       "      <td>9.nii.gz</td>\n",
       "      <td>public_covid_data/rp_msk/9.nii.gz</td>\n",
       "    </tr>\n",
       "  </tbody>\n",
       "</table>\n",
       "</div>"
      ],
      "text/plain": [
       "                            path_im  filename  \\\n",
       "0  public_covid_data/rp_im/1.nii.gz  1.nii.gz   \n",
       "1  public_covid_data/rp_im/2.nii.gz  2.nii.gz   \n",
       "2  public_covid_data/rp_im/3.nii.gz  3.nii.gz   \n",
       "3  public_covid_data/rp_im/4.nii.gz  4.nii.gz   \n",
       "4  public_covid_data/rp_im/5.nii.gz  5.nii.gz   \n",
       "5  public_covid_data/rp_im/6.nii.gz  6.nii.gz   \n",
       "6  public_covid_data/rp_im/7.nii.gz  7.nii.gz   \n",
       "7  public_covid_data/rp_im/8.nii.gz  8.nii.gz   \n",
       "8  public_covid_data/rp_im/9.nii.gz  9.nii.gz   \n",
       "\n",
       "                            path_msk  \n",
       "0  public_covid_data/rp_msk/1.nii.gz  \n",
       "1  public_covid_data/rp_msk/2.nii.gz  \n",
       "2  public_covid_data/rp_msk/3.nii.gz  \n",
       "3  public_covid_data/rp_msk/4.nii.gz  \n",
       "4  public_covid_data/rp_msk/5.nii.gz  \n",
       "5  public_covid_data/rp_msk/6.nii.gz  \n",
       "6  public_covid_data/rp_msk/7.nii.gz  \n",
       "7  public_covid_data/rp_msk/8.nii.gz  \n",
       "8  public_covid_data/rp_msk/9.nii.gz  "
      ]
     },
     "execution_count": 194,
     "metadata": {},
     "output_type": "execute_result"
    }
   ],
   "source": [
    "dfx"
   ]
  },
  {
   "cell_type": "code",
   "execution_count": 196,
   "metadata": {},
   "outputs": [
    {
     "data": {
      "text/plain": [
       "<generator object DataFrame.iterrows at 0x7f9bc3c50f50>"
      ]
     },
     "execution_count": 196,
     "metadata": {},
     "output_type": "execute_result"
    }
   ],
   "source": [
    "dfx.iterrows()"
   ]
  },
  {
   "cell_type": "code",
   "execution_count": 202,
   "metadata": {},
   "outputs": [
    {
     "name": "stdout",
     "output_type": "stream",
     "text": [
      "image path for public_covid_data/rp_im/1.nii.gz is here1.nii.gz \n",
      "image path for public_covid_data/rp_im/2.nii.gz is here2.nii.gz \n",
      "image path for public_covid_data/rp_im/3.nii.gz is here3.nii.gz \n",
      "image path for public_covid_data/rp_im/4.nii.gz is here4.nii.gz \n",
      "image path for public_covid_data/rp_im/5.nii.gz is here5.nii.gz \n",
      "image path for public_covid_data/rp_im/6.nii.gz is here6.nii.gz \n",
      "image path for public_covid_data/rp_im/7.nii.gz is here7.nii.gz \n",
      "image path for public_covid_data/rp_im/8.nii.gz is here8.nii.gz \n",
      "image path for public_covid_data/rp_im/9.nii.gz is here9.nii.gz \n"
     ]
    }
   ],
   "source": [
    "for idx, row in dfx.iterrows():\n",
    "    print(f\"image path for { row['path_im'] } is here{ row['filename'] } \")"
   ]
  },
  {
   "cell_type": "code",
   "execution_count": 203,
   "metadata": {},
   "outputs": [
    {
     "name": "stderr",
     "output_type": "stream",
     "text": [
      "9it [00:00, 197.08it/s]"
     ]
    },
    {
     "name": "stdout",
     "output_type": "stream",
     "text": [
      "image path for public_covid_data/rp_im/1.nii.gz is here1.nii.gz \n",
      "image path for public_covid_data/rp_im/2.nii.gz is here2.nii.gz \n",
      "image path for public_covid_data/rp_im/3.nii.gz is here3.nii.gz \n",
      "image path for public_covid_data/rp_im/4.nii.gz is here4.nii.gz \n",
      "image path for public_covid_data/rp_im/5.nii.gz is here5.nii.gz \n",
      "image path for public_covid_data/rp_im/6.nii.gz is here6.nii.gz \n",
      "image path for public_covid_data/rp_im/7.nii.gz is here7.nii.gz \n",
      "image path for public_covid_data/rp_im/8.nii.gz is here8.nii.gz \n",
      "image path for public_covid_data/rp_im/9.nii.gz is here9.nii.gz \n"
     ]
    },
    {
     "name": "stderr",
     "output_type": "stream",
     "text": [
      "\n"
     ]
    }
   ],
   "source": [
    "for idx, row in tqdm(dfx.iterrows()):\n",
    "    print(f\"image path for { row['path_im'] } is here{ row['filename'] } \")"
   ]
  },
  {
   "cell_type": "code",
   "execution_count": 204,
   "metadata": {},
   "outputs": [
    {
     "name": "stderr",
     "output_type": "stream",
     "text": [
      "100%|██████████| 9/9 [00:00<00:00, 495.78it/s]"
     ]
    },
    {
     "name": "stdout",
     "output_type": "stream",
     "text": [
      "image path for public_covid_data/rp_im/1.nii.gz is here1.nii.gz \n",
      "image path for public_covid_data/rp_im/2.nii.gz is here2.nii.gz \n",
      "image path for public_covid_data/rp_im/3.nii.gz is here3.nii.gz \n",
      "image path for public_covid_data/rp_im/4.nii.gz is here4.nii.gz \n",
      "image path for public_covid_data/rp_im/5.nii.gz is here5.nii.gz \n",
      "image path for public_covid_data/rp_im/6.nii.gz is here6.nii.gz \n",
      "image path for public_covid_data/rp_im/7.nii.gz is here7.nii.gz \n",
      "image path for public_covid_data/rp_im/8.nii.gz is here8.nii.gz \n",
      "image path for public_covid_data/rp_im/9.nii.gz is here9.nii.gz \n"
     ]
    },
    {
     "name": "stderr",
     "output_type": "stream",
     "text": [
      "\n"
     ]
    }
   ],
   "source": [
    "for idx, row in tqdm(dfx.iterrows(), total=len(dfx)):\n",
    "    print(f\"image path for { row['path_im'] } is here{ row['filename'] } \")"
   ]
  },
  {
   "cell_type": "code",
   "execution_count": null,
   "metadata": {},
   "outputs": [],
   "source": []
  }
 ],
 "metadata": {
  "kernelspec": {
   "display_name": "Python 3",
   "language": "python",
   "name": "python3"
  },
  "language_info": {
   "codemirror_mode": {
    "name": "ipython",
    "version": 3
   },
   "file_extension": ".py",
   "mimetype": "text/x-python",
   "name": "python",
   "nbconvert_exporter": "python",
   "pygments_lexer": "ipython3",
   "version": "3.7.6"
  }
 },
 "nbformat": 4,
 "nbformat_minor": 4
}
