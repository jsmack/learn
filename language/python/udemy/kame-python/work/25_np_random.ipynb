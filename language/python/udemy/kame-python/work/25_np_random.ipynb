{
 "cells": [
  {
   "cell_type": "code",
   "execution_count": 1,
   "metadata": {},
   "outputs": [],
   "source": [
    "import numpy as np"
   ]
  },
  {
   "cell_type": "code",
   "execution_count": 2,
   "metadata": {},
   "outputs": [
    {
     "data": {
      "text/plain": [
       "0.16172255549842907"
      ]
     },
     "execution_count": 2,
     "metadata": {},
     "output_type": "execute_result"
    }
   ],
   "source": [
    "np.random.rand()"
   ]
  },
  {
   "cell_type": "code",
   "execution_count": 3,
   "metadata": {},
   "outputs": [
    {
     "data": {
      "text/plain": [
       "0.23264694908646188"
      ]
     },
     "execution_count": 3,
     "metadata": {},
     "output_type": "execute_result"
    }
   ],
   "source": [
    "np.random.rand()"
   ]
  },
  {
   "cell_type": "code",
   "execution_count": 4,
   "metadata": {},
   "outputs": [
    {
     "data": {
      "text/plain": [
       "array([0.95304103, 0.81739122, 0.32677285])"
      ]
     },
     "execution_count": 4,
     "metadata": {},
     "output_type": "execute_result"
    }
   ],
   "source": [
    "np.random.rand(3)"
   ]
  },
  {
   "cell_type": "code",
   "execution_count": 10,
   "metadata": {},
   "outputs": [
    {
     "data": {
      "text/plain": [
       "array([[0.67947882, 0.30575034, 0.3593707 , 0.71319615],\n",
       "       [0.79931993, 0.79158506, 0.34826665, 0.24574557],\n",
       "       [0.37867745, 0.47708752, 0.36330013, 0.46182558]])"
      ]
     },
     "execution_count": 10,
     "metadata": {},
     "output_type": "execute_result"
    }
   ],
   "source": [
    "np.random.rand(3, 4)"
   ]
  },
  {
   "cell_type": "code",
   "execution_count": 18,
   "metadata": {},
   "outputs": [
    {
     "data": {
      "text/plain": [
       "array([[4.17022005e-01, 7.20324493e-01, 1.14374817e-04, 3.02332573e-01],\n",
       "       [1.46755891e-01, 9.23385948e-02, 1.86260211e-01, 3.45560727e-01],\n",
       "       [3.96767474e-01, 5.38816734e-01, 4.19194514e-01, 6.85219500e-01]])"
      ]
     },
     "execution_count": 18,
     "metadata": {},
     "output_type": "execute_result"
    }
   ],
   "source": [
    "np.random.seed(1)\n",
    "np.random.rand(3, 4)"
   ]
  },
  {
   "cell_type": "code",
   "execution_count": 19,
   "metadata": {},
   "outputs": [
    {
     "data": {
      "text/plain": [
       "array([[0.20445225, 0.87811744, 0.02738759, 0.67046751],\n",
       "       [0.4173048 , 0.55868983, 0.14038694, 0.19810149],\n",
       "       [0.80074457, 0.96826158, 0.31342418, 0.69232262]])"
      ]
     },
     "execution_count": 19,
     "metadata": {},
     "output_type": "execute_result"
    }
   ],
   "source": [
    "np.random.rand(3, 4)"
   ]
  },
  {
   "cell_type": "code",
   "execution_count": 29,
   "metadata": {},
   "outputs": [
    {
     "data": {
      "text/plain": [
       "array([[ 2.18557541, -1.39649634, -1.44411381, -0.50446586,  0.16003707,\n",
       "         0.87616892,  0.31563495, -2.02220122, -0.30620401,  0.82797464],\n",
       "       [ 0.23009474,  0.76201118, -0.22232814, -0.20075807,  0.18656139,\n",
       "         0.41005165,  0.19829972,  0.11900865, -0.67066229,  0.37756379],\n",
       "       [ 0.12182127,  1.12948391,  1.19891788,  0.18515642, -0.37528495,\n",
       "        -0.63873041,  0.42349435,  0.07734007, -0.34385368,  0.04359686],\n",
       "       [-0.62000084,  0.69803203, -0.44712856,  1.2245077 ,  0.40349164,\n",
       "         0.59357852, -1.09491185,  0.16938243,  0.74055645, -0.9537006 ],\n",
       "       [-0.26621851,  0.03261455, -1.37311732,  0.31515939,  0.84616065,\n",
       "        -0.85951594,  0.35054598, -1.31228341, -0.03869551, -1.61577235],\n",
       "       [ 1.12141771,  0.40890054, -0.02461696, -0.77516162,  1.27375593,\n",
       "         1.96710175, -1.85798186,  1.23616403,  1.62765075,  0.3380117 ],\n",
       "       [-1.19926803,  0.86334532, -0.1809203 , -0.60392063, -1.23005814,\n",
       "         0.5505375 ,  0.79280687, -0.62353073,  0.52057634, -1.14434139],\n",
       "       [ 0.80186103,  0.0465673 , -0.18656977, -0.10174587,  0.86888616,\n",
       "         0.75041164,  0.52946532,  0.13770121,  0.07782113,  0.61838026],\n",
       "       [ 0.23249456,  0.68255141, -0.31011677, -2.43483776,  1.0388246 ,\n",
       "         2.18697965,  0.44136444, -0.10015523, -0.13644474, -0.11905419],\n",
       "       [ 0.01740941, -1.12201873, -0.51709446, -0.99702683,  0.24879916,\n",
       "        -0.29664115,  0.49521132, -0.17470316,  0.98633519,  0.2135339 ]])"
      ]
     },
     "execution_count": 29,
     "metadata": {},
     "output_type": "execute_result"
    }
   ],
   "source": [
    "np.random.randn(10, 10)"
   ]
  },
  {
   "cell_type": "code",
   "execution_count": 55,
   "metadata": {},
   "outputs": [
    {
     "data": {
      "text/plain": [
       "array([[10.43816635, 11.12232832,  9.0029802 ],\n",
       "       [ 9.89320601, 11.45142926,  9.38196315],\n",
       "       [ 7.96279877,  8.05741082,  7.49355935]])"
      ]
     },
     "execution_count": 55,
     "metadata": {},
     "output_type": "execute_result"
    }
   ],
   "source": [
    "np.random.normal(10, 1, (3, 3))"
   ]
  },
  {
   "cell_type": "code",
   "execution_count": 60,
   "metadata": {},
   "outputs": [
    {
     "data": {
      "text/plain": [
       "array([[ 1, -2, -2,  2],\n",
       "       [-2, -1,  1,  0],\n",
       "       [-1,  0,  0, -1]])"
      ]
     },
     "execution_count": 60,
     "metadata": {},
     "output_type": "execute_result"
    }
   ],
   "source": [
    "np.random.randint(-3, 3, (3, 4))"
   ]
  },
  {
   "cell_type": "code",
   "execution_count": 74,
   "metadata": {},
   "outputs": [
    {
     "name": "stdout",
     "output_type": "stream",
     "text": [
      "0\n",
      "0\n",
      "1\n",
      "0\n",
      "3\n",
      "1\n",
      "4\n",
      "0\n",
      "8\n",
      "8\n"
     ]
    }
   ],
   "source": [
    "for i in range(10):\n",
    "    print(np.random.randint(i+1))"
   ]
  },
  {
   "cell_type": "code",
   "execution_count": 75,
   "metadata": {},
   "outputs": [
    {
     "data": {
      "text/plain": [
       "3"
      ]
     },
     "execution_count": 75,
     "metadata": {},
     "output_type": "execute_result"
    }
   ],
   "source": [
    "array_list = [1, 2, 3]\n",
    "np.random.choice(array_list)"
   ]
  },
  {
   "cell_type": "code",
   "execution_count": 80,
   "metadata": {},
   "outputs": [],
   "source": [
    "index_pool = np.arange(0, 10, 2)"
   ]
  },
  {
   "cell_type": "code",
   "execution_count": 81,
   "metadata": {},
   "outputs": [
    {
     "data": {
      "text/plain": [
       "array([0, 2, 4, 6, 8])"
      ]
     },
     "execution_count": 81,
     "metadata": {},
     "output_type": "execute_result"
    }
   ],
   "source": [
    "index_pool"
   ]
  },
  {
   "cell_type": "code",
   "execution_count": 82,
   "metadata": {},
   "outputs": [
    {
     "data": {
      "text/plain": [
       "4"
      ]
     },
     "execution_count": 82,
     "metadata": {},
     "output_type": "execute_result"
    }
   ],
   "source": [
    "np.random.choice(index_pool)"
   ]
  },
  {
   "cell_type": "code",
   "execution_count": null,
   "metadata": {},
   "outputs": [],
   "source": []
  }
 ],
 "metadata": {
  "kernelspec": {
   "display_name": "Python 3",
   "language": "python",
   "name": "python3"
  },
  "language_info": {
   "codemirror_mode": {
    "name": "ipython",
    "version": 3
   },
   "file_extension": ".py",
   "mimetype": "text/x-python",
   "name": "python",
   "nbconvert_exporter": "python",
   "pygments_lexer": "ipython3",
   "version": "3.7.6"
  }
 },
 "nbformat": 4,
 "nbformat_minor": 4
}
