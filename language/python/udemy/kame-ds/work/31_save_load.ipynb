{
 "cells": [
  {
   "cell_type": "code",
   "execution_count": 1,
   "metadata": {},
   "outputs": [],
   "source": [
    "import numpy as np"
   ]
  },
  {
   "cell_type": "code",
   "execution_count": 4,
   "metadata": {},
   "outputs": [],
   "source": [
    "ndarray = np.random.randn(3, 4, 5)"
   ]
  },
  {
   "cell_type": "code",
   "execution_count": 5,
   "metadata": {},
   "outputs": [
    {
     "data": {
      "text/plain": [
       "array([[[ 0.14666894, -2.19285127,  1.12744044,  0.14665198,\n",
       "         -1.21351763],\n",
       "        [-0.97179356, -0.02722107, -0.31861304,  0.107542  ,\n",
       "         -1.00926759],\n",
       "        [-0.5101304 , -0.45594453, -0.38497297,  0.54507949,\n",
       "         -0.82917756],\n",
       "        [ 0.22287208,  0.12209697, -0.58012234,  0.77946521,\n",
       "         -0.58420344]],\n",
       "\n",
       "       [[ 0.05200095,  1.93525683, -0.35587553, -0.61699134,\n",
       "         -1.15567397],\n",
       "        [ 0.06602757,  0.69509974, -0.54997369, -0.16125115,\n",
       "          0.06701688],\n",
       "        [ 0.70252319,  0.52061364,  0.47485242,  1.01885103,\n",
       "         -0.41591832],\n",
       "        [ 0.21033032,  0.03427275,  1.13708751,  0.00621352,\n",
       "          0.21907996]],\n",
       "\n",
       "       [[-0.46195981, -1.20959509, -0.58290679, -0.40408974,\n",
       "         -0.5882764 ],\n",
       "        [ 0.92658982,  0.24428042,  1.55069415,  0.3188226 ,\n",
       "         -0.88153755],\n",
       "        [-0.41518493,  0.3233401 ,  0.37712731, -0.24069334,\n",
       "          0.36878934],\n",
       "        [ 1.69891869,  0.1956148 , -0.91899541,  1.18213372,\n",
       "          1.82030979]]])"
      ]
     },
     "execution_count": 5,
     "metadata": {},
     "output_type": "execute_result"
    }
   ],
   "source": [
    "ndarray"
   ]
  },
  {
   "cell_type": "code",
   "execution_count": 6,
   "metadata": {},
   "outputs": [],
   "source": [
    "np.save('./31_sample_ndarray', ndarray)"
   ]
  },
  {
   "cell_type": "code",
   "execution_count": 8,
   "metadata": {},
   "outputs": [
    {
     "data": {
      "text/plain": [
       "array([[[ 0.14666894, -2.19285127,  1.12744044,  0.14665198,\n",
       "         -1.21351763],\n",
       "        [-0.97179356, -0.02722107, -0.31861304,  0.107542  ,\n",
       "         -1.00926759],\n",
       "        [-0.5101304 , -0.45594453, -0.38497297,  0.54507949,\n",
       "         -0.82917756],\n",
       "        [ 0.22287208,  0.12209697, -0.58012234,  0.77946521,\n",
       "         -0.58420344]],\n",
       "\n",
       "       [[ 0.05200095,  1.93525683, -0.35587553, -0.61699134,\n",
       "         -1.15567397],\n",
       "        [ 0.06602757,  0.69509974, -0.54997369, -0.16125115,\n",
       "          0.06701688],\n",
       "        [ 0.70252319,  0.52061364,  0.47485242,  1.01885103,\n",
       "         -0.41591832],\n",
       "        [ 0.21033032,  0.03427275,  1.13708751,  0.00621352,\n",
       "          0.21907996]],\n",
       "\n",
       "       [[-0.46195981, -1.20959509, -0.58290679, -0.40408974,\n",
       "         -0.5882764 ],\n",
       "        [ 0.92658982,  0.24428042,  1.55069415,  0.3188226 ,\n",
       "         -0.88153755],\n",
       "        [-0.41518493,  0.3233401 ,  0.37712731, -0.24069334,\n",
       "          0.36878934],\n",
       "        [ 1.69891869,  0.1956148 , -0.91899541,  1.18213372,\n",
       "          1.82030979]]])"
      ]
     },
     "execution_count": 8,
     "metadata": {},
     "output_type": "execute_result"
    }
   ],
   "source": [
    "np.load('./31_sample_ndarray.npy')"
   ]
  },
  {
   "cell_type": "code",
   "execution_count": 9,
   "metadata": {},
   "outputs": [],
   "source": [
    "dictionary = {\n",
    "    'id': 23456,\n",
    "    'image': ndarray\n",
    "}"
   ]
  },
  {
   "cell_type": "code",
   "execution_count": 10,
   "metadata": {},
   "outputs": [
    {
     "data": {
      "text/plain": [
       "{'id': 23456,\n",
       " 'image': array([[[ 0.14666894, -2.19285127,  1.12744044,  0.14665198,\n",
       "          -1.21351763],\n",
       "         [-0.97179356, -0.02722107, -0.31861304,  0.107542  ,\n",
       "          -1.00926759],\n",
       "         [-0.5101304 , -0.45594453, -0.38497297,  0.54507949,\n",
       "          -0.82917756],\n",
       "         [ 0.22287208,  0.12209697, -0.58012234,  0.77946521,\n",
       "          -0.58420344]],\n",
       " \n",
       "        [[ 0.05200095,  1.93525683, -0.35587553, -0.61699134,\n",
       "          -1.15567397],\n",
       "         [ 0.06602757,  0.69509974, -0.54997369, -0.16125115,\n",
       "           0.06701688],\n",
       "         [ 0.70252319,  0.52061364,  0.47485242,  1.01885103,\n",
       "          -0.41591832],\n",
       "         [ 0.21033032,  0.03427275,  1.13708751,  0.00621352,\n",
       "           0.21907996]],\n",
       " \n",
       "        [[-0.46195981, -1.20959509, -0.58290679, -0.40408974,\n",
       "          -0.5882764 ],\n",
       "         [ 0.92658982,  0.24428042,  1.55069415,  0.3188226 ,\n",
       "          -0.88153755],\n",
       "         [-0.41518493,  0.3233401 ,  0.37712731, -0.24069334,\n",
       "           0.36878934],\n",
       "         [ 1.69891869,  0.1956148 , -0.91899541,  1.18213372,\n",
       "           1.82030979]]])}"
      ]
     },
     "execution_count": 10,
     "metadata": {},
     "output_type": "execute_result"
    }
   ],
   "source": [
    "dictionary"
   ]
  },
  {
   "cell_type": "code",
   "execution_count": 11,
   "metadata": {},
   "outputs": [],
   "source": [
    "np.save('31_save_dictionary', dictionary)"
   ]
  },
  {
   "cell_type": "code",
   "execution_count": 12,
   "metadata": {},
   "outputs": [
    {
     "ename": "ValueError",
     "evalue": "Object arrays cannot be loaded when allow_pickle=False",
     "output_type": "error",
     "traceback": [
      "\u001b[0;31m\u001b[0m",
      "\u001b[0;31mValueError\u001b[0mTraceback (most recent call last)",
      "\u001b[0;32m<ipython-input-12-695dbe3829c8>\u001b[0m in \u001b[0;36m<module>\u001b[0;34m\u001b[0m\n\u001b[0;32m----> 1\u001b[0;31m \u001b[0mnp\u001b[0m\u001b[0;34m.\u001b[0m\u001b[0mload\u001b[0m\u001b[0;34m(\u001b[0m\u001b[0;34m'31_save_dictionary.npy'\u001b[0m\u001b[0;34m)\u001b[0m\u001b[0;34m\u001b[0m\u001b[0;34m\u001b[0m\u001b[0m\n\u001b[0m",
      "\u001b[0;32m/opt/anaconda3/lib/python3.7/site-packages/numpy/lib/npyio.py\u001b[0m in \u001b[0;36mload\u001b[0;34m(file, mmap_mode, allow_pickle, fix_imports, encoding)\u001b[0m\n\u001b[1;32m    451\u001b[0m             \u001b[0;32melse\u001b[0m\u001b[0;34m:\u001b[0m\u001b[0;34m\u001b[0m\u001b[0;34m\u001b[0m\u001b[0m\n\u001b[1;32m    452\u001b[0m                 return format.read_array(fid, allow_pickle=allow_pickle,\n\u001b[0;32m--> 453\u001b[0;31m                                          pickle_kwargs=pickle_kwargs)\n\u001b[0m\u001b[1;32m    454\u001b[0m         \u001b[0;32melse\u001b[0m\u001b[0;34m:\u001b[0m\u001b[0;34m\u001b[0m\u001b[0;34m\u001b[0m\u001b[0m\n\u001b[1;32m    455\u001b[0m             \u001b[0;31m# Try a pickle\u001b[0m\u001b[0;34m\u001b[0m\u001b[0;34m\u001b[0m\u001b[0;34m\u001b[0m\u001b[0m\n",
      "\u001b[0;32m/opt/anaconda3/lib/python3.7/site-packages/numpy/lib/format.py\u001b[0m in \u001b[0;36mread_array\u001b[0;34m(fp, allow_pickle, pickle_kwargs)\u001b[0m\n\u001b[1;32m    737\u001b[0m         \u001b[0;31m# The array contained Python objects. We need to unpickle the data.\u001b[0m\u001b[0;34m\u001b[0m\u001b[0;34m\u001b[0m\u001b[0;34m\u001b[0m\u001b[0m\n\u001b[1;32m    738\u001b[0m         \u001b[0;32mif\u001b[0m \u001b[0;32mnot\u001b[0m \u001b[0mallow_pickle\u001b[0m\u001b[0;34m:\u001b[0m\u001b[0;34m\u001b[0m\u001b[0;34m\u001b[0m\u001b[0m\n\u001b[0;32m--> 739\u001b[0;31m             raise ValueError(\"Object arrays cannot be loaded when \"\n\u001b[0m\u001b[1;32m    740\u001b[0m                              \"allow_pickle=False\")\n\u001b[1;32m    741\u001b[0m         \u001b[0;32mif\u001b[0m \u001b[0mpickle_kwargs\u001b[0m \u001b[0;32mis\u001b[0m \u001b[0;32mNone\u001b[0m\u001b[0;34m:\u001b[0m\u001b[0;34m\u001b[0m\u001b[0;34m\u001b[0m\u001b[0m\n",
      "\u001b[0;31mValueError\u001b[0m: Object arrays cannot be loaded when allow_pickle=False"
     ]
    }
   ],
   "source": [
    "np.load('31_save_dictionary.npy')"
   ]
  },
  {
   "cell_type": "code",
   "execution_count": 13,
   "metadata": {},
   "outputs": [
    {
     "data": {
      "text/plain": [
       "array({'id': 23456, 'image': array([[[ 0.14666894, -2.19285127,  1.12744044,  0.14665198,\n",
       "         -1.21351763],\n",
       "        [-0.97179356, -0.02722107, -0.31861304,  0.107542  ,\n",
       "         -1.00926759],\n",
       "        [-0.5101304 , -0.45594453, -0.38497297,  0.54507949,\n",
       "         -0.82917756],\n",
       "        [ 0.22287208,  0.12209697, -0.58012234,  0.77946521,\n",
       "         -0.58420344]],\n",
       "\n",
       "       [[ 0.05200095,  1.93525683, -0.35587553, -0.61699134,\n",
       "         -1.15567397],\n",
       "        [ 0.06602757,  0.69509974, -0.54997369, -0.16125115,\n",
       "          0.06701688],\n",
       "        [ 0.70252319,  0.52061364,  0.47485242,  1.01885103,\n",
       "         -0.41591832],\n",
       "        [ 0.21033032,  0.03427275,  1.13708751,  0.00621352,\n",
       "          0.21907996]],\n",
       "\n",
       "       [[-0.46195981, -1.20959509, -0.58290679, -0.40408974,\n",
       "         -0.5882764 ],\n",
       "        [ 0.92658982,  0.24428042,  1.55069415,  0.3188226 ,\n",
       "         -0.88153755],\n",
       "        [-0.41518493,  0.3233401 ,  0.37712731, -0.24069334,\n",
       "          0.36878934],\n",
       "        [ 1.69891869,  0.1956148 , -0.91899541,  1.18213372,\n",
       "          1.82030979]]])}, dtype=object)"
      ]
     },
     "execution_count": 13,
     "metadata": {},
     "output_type": "execute_result"
    }
   ],
   "source": [
    "np.load('31_save_dictionary.npy', allow_pickle=True)"
   ]
  },
  {
   "cell_type": "code",
   "execution_count": 14,
   "metadata": {},
   "outputs": [],
   "source": [
    "loaded_dict = np.load('31_save_dictionary.npy', allow_pickle=True)"
   ]
  },
  {
   "cell_type": "code",
   "execution_count": 15,
   "metadata": {},
   "outputs": [],
   "source": [
    "a = np.array({'a': 1})"
   ]
  },
  {
   "cell_type": "code",
   "execution_count": 16,
   "metadata": {},
   "outputs": [
    {
     "data": {
      "text/plain": [
       "array({'a': 1}, dtype=object)"
      ]
     },
     "execution_count": 16,
     "metadata": {},
     "output_type": "execute_result"
    }
   ],
   "source": [
    "a"
   ]
  },
  {
   "cell_type": "code",
   "execution_count": 17,
   "metadata": {},
   "outputs": [
    {
     "data": {
      "text/plain": [
       "{'a': 1}"
      ]
     },
     "execution_count": 17,
     "metadata": {},
     "output_type": "execute_result"
    }
   ],
   "source": [
    "a[()]"
   ]
  },
  {
   "cell_type": "code",
   "execution_count": 18,
   "metadata": {},
   "outputs": [
    {
     "data": {
      "text/plain": [
       "{'id': 23456,\n",
       " 'image': array([[[ 0.14666894, -2.19285127,  1.12744044,  0.14665198,\n",
       "          -1.21351763],\n",
       "         [-0.97179356, -0.02722107, -0.31861304,  0.107542  ,\n",
       "          -1.00926759],\n",
       "         [-0.5101304 , -0.45594453, -0.38497297,  0.54507949,\n",
       "          -0.82917756],\n",
       "         [ 0.22287208,  0.12209697, -0.58012234,  0.77946521,\n",
       "          -0.58420344]],\n",
       " \n",
       "        [[ 0.05200095,  1.93525683, -0.35587553, -0.61699134,\n",
       "          -1.15567397],\n",
       "         [ 0.06602757,  0.69509974, -0.54997369, -0.16125115,\n",
       "           0.06701688],\n",
       "         [ 0.70252319,  0.52061364,  0.47485242,  1.01885103,\n",
       "          -0.41591832],\n",
       "         [ 0.21033032,  0.03427275,  1.13708751,  0.00621352,\n",
       "           0.21907996]],\n",
       " \n",
       "        [[-0.46195981, -1.20959509, -0.58290679, -0.40408974,\n",
       "          -0.5882764 ],\n",
       "         [ 0.92658982,  0.24428042,  1.55069415,  0.3188226 ,\n",
       "          -0.88153755],\n",
       "         [-0.41518493,  0.3233401 ,  0.37712731, -0.24069334,\n",
       "           0.36878934],\n",
       "         [ 1.69891869,  0.1956148 , -0.91899541,  1.18213372,\n",
       "           1.82030979]]])}"
      ]
     },
     "execution_count": 18,
     "metadata": {},
     "output_type": "execute_result"
    }
   ],
   "source": [
    "loaded_dict[()]"
   ]
  },
  {
   "cell_type": "code",
   "execution_count": 19,
   "metadata": {},
   "outputs": [],
   "source": [
    "loaded_dict = np.load('31_save_dictionary.npy', allow_pickle=True)[()]"
   ]
  },
  {
   "cell_type": "code",
   "execution_count": 20,
   "metadata": {},
   "outputs": [
    {
     "data": {
      "text/plain": [
       "{'id': 23456,\n",
       " 'image': array([[[ 0.14666894, -2.19285127,  1.12744044,  0.14665198,\n",
       "          -1.21351763],\n",
       "         [-0.97179356, -0.02722107, -0.31861304,  0.107542  ,\n",
       "          -1.00926759],\n",
       "         [-0.5101304 , -0.45594453, -0.38497297,  0.54507949,\n",
       "          -0.82917756],\n",
       "         [ 0.22287208,  0.12209697, -0.58012234,  0.77946521,\n",
       "          -0.58420344]],\n",
       " \n",
       "        [[ 0.05200095,  1.93525683, -0.35587553, -0.61699134,\n",
       "          -1.15567397],\n",
       "         [ 0.06602757,  0.69509974, -0.54997369, -0.16125115,\n",
       "           0.06701688],\n",
       "         [ 0.70252319,  0.52061364,  0.47485242,  1.01885103,\n",
       "          -0.41591832],\n",
       "         [ 0.21033032,  0.03427275,  1.13708751,  0.00621352,\n",
       "           0.21907996]],\n",
       " \n",
       "        [[-0.46195981, -1.20959509, -0.58290679, -0.40408974,\n",
       "          -0.5882764 ],\n",
       "         [ 0.92658982,  0.24428042,  1.55069415,  0.3188226 ,\n",
       "          -0.88153755],\n",
       "         [-0.41518493,  0.3233401 ,  0.37712731, -0.24069334,\n",
       "           0.36878934],\n",
       "         [ 1.69891869,  0.1956148 , -0.91899541,  1.18213372,\n",
       "           1.82030979]]])}"
      ]
     },
     "execution_count": 20,
     "metadata": {},
     "output_type": "execute_result"
    }
   ],
   "source": [
    "loaded_dict"
   ]
  },
  {
   "cell_type": "code",
   "execution_count": null,
   "metadata": {},
   "outputs": [],
   "source": []
  }
 ],
 "metadata": {
  "kernelspec": {
   "display_name": "Python 3",
   "language": "python",
   "name": "python3"
  },
  "language_info": {
   "codemirror_mode": {
    "name": "ipython",
    "version": 3
   },
   "file_extension": ".py",
   "mimetype": "text/x-python",
   "name": "python",
   "nbconvert_exporter": "python",
   "pygments_lexer": "ipython3",
   "version": "3.7.6"
  }
 },
 "nbformat": 4,
 "nbformat_minor": 4
}
