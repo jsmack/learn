{
 "cells": [
  {
   "cell_type": "code",
   "execution_count": 1,
   "metadata": {},
   "outputs": [],
   "source": [
    "file_names = ['filename1','filename2','filename3']"
   ]
  },
  {
   "cell_type": "code",
   "execution_count": 2,
   "metadata": {},
   "outputs": [
    {
     "data": {
      "text/plain": [
       "['filename1', 'filename2', 'filename3']"
      ]
     },
     "execution_count": 2,
     "metadata": {},
     "output_type": "execute_result"
    }
   ],
   "source": [
    "file_names"
   ]
  },
  {
   "cell_type": "code",
   "execution_count": 15,
   "metadata": {},
   "outputs": [],
   "source": [
    "def set_idx(file_name_list):\n",
    "    _tmp_list = []\n",
    "    for i, name in enumerate(file_name_list):\n",
    "        _tmp_list.append(name + '_' + str(i) + '.png')\n",
    "    return _tmp_list"
   ]
  },
  {
   "cell_type": "code",
   "execution_count": 16,
   "metadata": {},
   "outputs": [
    {
     "data": {
      "text/plain": [
       "['filename1_0.png', 'filename2_1.png', 'filename3_2.png']"
      ]
     },
     "execution_count": 16,
     "metadata": {},
     "output_type": "execute_result"
    }
   ],
   "source": [
    "set_idx(file_names)"
   ]
  },
  {
   "cell_type": "code",
   "execution_count": 19,
   "metadata": {},
   "outputs": [
    {
     "data": {
      "text/plain": [
       "['filename1_0.png', 'filename2_1.png', 'filename3_2.png']"
      ]
     },
     "execution_count": 19,
     "metadata": {},
     "output_type": "execute_result"
    }
   ],
   "source": [
    "[ name + '_' + str(i) + '.png' for i, name in enumerate(file_names)]"
   ]
  },
  {
   "cell_type": "code",
   "execution_count": 20,
   "metadata": {},
   "outputs": [],
   "source": [
    "f = lambda file_name_list: [ name + '_' + str(i) + '.png' for i, name in enumerate(file_name_list)]"
   ]
  },
  {
   "cell_type": "code",
   "execution_count": 21,
   "metadata": {},
   "outputs": [
    {
     "data": {
      "text/plain": [
       "['filename1_0.png', 'filename2_1.png', 'filename3_2.png']"
      ]
     },
     "execution_count": 21,
     "metadata": {},
     "output_type": "execute_result"
    }
   ],
   "source": [
    "f(file_names)"
   ]
  },
  {
   "cell_type": "code",
   "execution_count": 25,
   "metadata": {},
   "outputs": [],
   "source": [
    "def add_png(file_name_list):\n",
    "    '''\n",
    "    各要素に'_<index>.png'をつけたリストを返す\n",
    "    \n",
    "    Usage\n",
    "    ------------------\n",
    "        ['filename1','filename2','filename3']\n",
    "    Parameters\n",
    "    ------------------\n",
    "        file_name_list: ファイル名のリスト\n",
    "        \n",
    "    Return\n",
    "    -----------------\n",
    "        result_list: file_name_listの各要素に'_<index>.png'をつけたリスト\n",
    "    '''\n",
    "    result_list = []\n",
    "    for idx, filename in enumerate(file_name_list):\n",
    "        result_list.append('{}_{}.png'.format(filename, idx))\n",
    "    return result_list"
   ]
  },
  {
   "cell_type": "code",
   "execution_count": 26,
   "metadata": {},
   "outputs": [
    {
     "data": {
      "text/plain": [
       "['filename1_0.png', 'filename2_1.png', 'filename3_2.png']"
      ]
     },
     "execution_count": 26,
     "metadata": {},
     "output_type": "execute_result"
    }
   ],
   "source": [
    "add_png(file_names)"
   ]
  },
  {
   "cell_type": "code",
   "execution_count": 28,
   "metadata": {},
   "outputs": [
    {
     "data": {
      "text/plain": [
       "['filename1_0.png', 'filename2_1.png', 'filename3_2.png']"
      ]
     },
     "execution_count": 28,
     "metadata": {},
     "output_type": "execute_result"
    }
   ],
   "source": [
    "[ '{}_{}.{}'.format(name,i,'png') for i, name in enumerate(file_names)]"
   ]
  },
  {
   "cell_type": "code",
   "execution_count": null,
   "metadata": {},
   "outputs": [],
   "source": []
  }
 ],
 "metadata": {
  "kernelspec": {
   "display_name": "Python 3",
   "language": "python",
   "name": "python3"
  },
  "language_info": {
   "codemirror_mode": {
    "name": "ipython",
    "version": 3
   },
   "file_extension": ".py",
   "mimetype": "text/x-python",
   "name": "python",
   "nbconvert_exporter": "python",
   "pygments_lexer": "ipython3",
   "version": "3.7.6"
  }
 },
 "nbformat": 4,
 "nbformat_minor": 4
}
