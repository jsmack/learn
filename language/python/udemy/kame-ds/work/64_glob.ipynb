{
 "cells": [
  {
   "cell_type": "code",
   "execution_count": 3,
   "metadata": {},
   "outputs": [],
   "source": [
    "from glob import glob\n",
    "\n",
    "import numpy as np\n",
    "import pandas as pd\n",
    "import matplotlib.pyplot as plt\n",
    "import seaborn as sns\n",
    "\n",
    "%matplotlib inline"
   ]
  },
  {
   "cell_type": "code",
   "execution_count": 4,
   "metadata": {},
   "outputs": [
    {
     "data": {
      "text/plain": [
       "['03.ipynb',\n",
       " '08.ipynb',\n",
       " '09.ipynb',\n",
       " '10.ipynb',\n",
       " '11.ipynb',\n",
       " '12.ipynb',\n",
       " '13.ipynb',\n",
       " '14.ipynb',\n",
       " '15.ipynb',\n",
       " '16.ipynb',\n",
       " '18_Numpy.ipynb',\n",
       " '19_indexing_slicing.ipynb',\n",
       " '20_np_arrage_linspace_logspace.ipynb',\n",
       " '24_np_zeros_ones_eye.ipynb',\n",
       " '25_np_random.ipynb',\n",
       " '26_satistics.ipynb',\n",
       " '27_math.ipynb',\n",
       " '28_numpy_nan.ipynb',\n",
       " '29_clip_where.ipynb',\n",
       " '30_concatenate_stack.ipynb',\n",
       " '31_sample_ndarray.npy',\n",
       " '31_save_dictionary.npy',\n",
       " '31_save_load.ipynb',\n",
       " '32_pandas.ipynb',\n",
       " '33_pandas.ipynb',\n",
       " '35_pd_dataframe.ipynb',\n",
       " '37_Filter.ipynb',\n",
       " '38_df_index.ipynb',\n",
       " '39_NaN.ipynb',\n",
       " '40_groupby.ipynb',\n",
       " '41_merge_concat.ipynb',\n",
       " '42_unique.ipynb',\n",
       " '43_iteration.ipynb',\n",
       " '44._pivotipynb',\n",
       " '45_to_csv.ipynb',\n",
       " '47_matplotlib.ipynb',\n",
       " '48_soshoku.ipynb',\n",
       " '49_exe.ipynb',\n",
       " '50_multi_plot.ipynb',\n",
       " '51_scatterplot.ipynb',\n",
       " '52_histgram.ipynb',\n",
       " '53_box_plot.ipynb',\n",
       " '54_save_plot.ipynb',\n",
       " '56_seaborn.ipynb',\n",
       " '57_seaborn_joinplot_piarplot.ipynb',\n",
       " '58_categorical.ipynb',\n",
       " '59_heatmap.ipynb',\n",
       " '60.png',\n",
       " '60_seaborn_style_change.ipynb',\n",
       " '62_OpenCV.ipynb',\n",
       " '63_OpenCV2.ipynb',\n",
       " '64_glob.ipynb',\n",
       " 'bimodal_sample.png',\n",
       " 'cos_sin_tan.png',\n",
       " 'crop_load_rgb.png',\n",
       " 'cropped_lenna.png',\n",
       " 'lenna.png',\n",
       " 'np_ave_lenna.png.npy',\n",
       " 'pdf_files.pdf',\n",
       " 'public_covid_data',\n",
       " 'runtime_budget_scatter.png',\n",
       " 'savemultifig_sample.pdf',\n",
       " 'text_pic.jpg',\n",
       " 'tmdb_5000_credits.csv',\n",
       " 'tmdb_5000_movies.csv',\n",
       " 'tmdb_5000_movies_profit_sorted.csv']"
      ]
     },
     "execution_count": 4,
     "metadata": {},
     "output_type": "execute_result"
    }
   ],
   "source": [
    "glob('*')"
   ]
  },
  {
   "cell_type": "code",
   "execution_count": 10,
   "metadata": {},
   "outputs": [
    {
     "data": {
      "text/plain": [
       "['60.png',\n",
       " 'bimodal_sample.png',\n",
       " 'cos_sin_tan.png',\n",
       " 'crop_load_rgb.png',\n",
       " 'cropped_lenna.png',\n",
       " 'lenna.png',\n",
       " 'runtime_budget_scatter.png']"
      ]
     },
     "execution_count": 10,
     "metadata": {},
     "output_type": "execute_result"
    }
   ],
   "source": [
    "glob('*.png')"
   ]
  },
  {
   "cell_type": "code",
   "execution_count": 12,
   "metadata": {},
   "outputs": [
    {
     "data": {
      "text/plain": [
       "['public_covid_data/rp_im/1.nii.gz',\n",
       " 'public_covid_data/rp_im/2.nii.gz',\n",
       " 'public_covid_data/rp_im/3.nii.gz',\n",
       " 'public_covid_data/rp_im/4.nii.gz',\n",
       " 'public_covid_data/rp_im/5.nii.gz',\n",
       " 'public_covid_data/rp_im/6.nii.gz',\n",
       " 'public_covid_data/rp_im/7.nii.gz',\n",
       " 'public_covid_data/rp_im/8.nii.gz',\n",
       " 'public_covid_data/rp_im/9.nii.gz',\n",
       " 'public_covid_data/rp_msk/1.nii.gz',\n",
       " 'public_covid_data/rp_msk/2.nii.gz',\n",
       " 'public_covid_data/rp_msk/3.nii.gz',\n",
       " 'public_covid_data/rp_msk/4.nii.gz',\n",
       " 'public_covid_data/rp_msk/5.nii.gz',\n",
       " 'public_covid_data/rp_msk/6.nii.gz',\n",
       " 'public_covid_data/rp_msk/7.nii.gz',\n",
       " 'public_covid_data/rp_msk/8.nii.gz',\n",
       " 'public_covid_data/rp_msk/9.nii.gz']"
      ]
     },
     "execution_count": 12,
     "metadata": {},
     "output_type": "execute_result"
    }
   ],
   "source": [
    "glob('public_covid_data/*/*')"
   ]
  },
  {
   "cell_type": "code",
   "execution_count": 14,
   "metadata": {},
   "outputs": [
    {
     "data": {
      "text/plain": [
       "['public_covid_data/rp_msk/5.nii.gz',\n",
       " 'public_covid_data/rp_msk/6.nii.gz',\n",
       " 'public_covid_data/rp_msk/7.nii.gz',\n",
       " 'public_covid_data/rp_msk/8.nii.gz',\n",
       " 'public_covid_data/rp_msk/9.nii.gz']"
      ]
     },
     "execution_count": 14,
     "metadata": {},
     "output_type": "execute_result"
    }
   ],
   "source": [
    "glob('public_covid_data/rp_msk/[5-9]*')"
   ]
  },
  {
   "cell_type": "code",
   "execution_count": null,
   "metadata": {},
   "outputs": [],
   "source": []
  }
 ],
 "metadata": {
  "kernelspec": {
   "display_name": "Python 3",
   "language": "python",
   "name": "python3"
  },
  "language_info": {
   "codemirror_mode": {
    "name": "ipython",
    "version": 3
   },
   "file_extension": ".py",
   "mimetype": "text/x-python",
   "name": "python",
   "nbconvert_exporter": "python",
   "pygments_lexer": "ipython3",
   "version": "3.7.6"
  }
 },
 "nbformat": 4,
 "nbformat_minor": 4
}
