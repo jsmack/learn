{
 "cells": [
  {
   "cell_type": "code",
   "execution_count": 8,
   "metadata": {},
   "outputs": [],
   "source": [
    "def function_name(param1, param2='nyan'):\n",
    "    print('foo {} bar {}'.format(param1, param2))\n",
    "    return 'param1' + ' and ' + ' param2'\n"
   ]
  },
  {
   "cell_type": "code",
   "execution_count": 9,
   "metadata": {},
   "outputs": [
    {
     "name": "stdout",
     "output_type": "stream",
     "text": [
      "foo hoge bar fuga\n",
      "foo hoge bar nyan\n"
     ]
    }
   ],
   "source": [
    "param1 = 'hoge'\n",
    "param2 = 'fuga'\n",
    "output = function_name(param1, param2)\n",
    "output2 = function_name(param1)"
   ]
  },
  {
   "cell_type": "code",
   "execution_count": 10,
   "metadata": {},
   "outputs": [
    {
     "name": "stdout",
     "output_type": "stream",
     "text": [
      "param1 and  param2\n",
      "param1 and  param2\n"
     ]
    }
   ],
   "source": [
    "print(output)\n",
    "print(output2)"
   ]
  },
  {
   "cell_type": "code",
   "execution_count": 11,
   "metadata": {},
   "outputs": [],
   "source": [
    "def get_filename(path):\n",
    "    return path.split(\"/\")[-1]"
   ]
  },
  {
   "cell_type": "code",
   "execution_count": 12,
   "metadata": {},
   "outputs": [
    {
     "data": {
      "text/plain": [
       "'mya.jpg'"
      ]
     },
     "execution_count": 12,
     "metadata": {},
     "output_type": "execute_result"
    }
   ],
   "source": [
    "get_filename('/hoge/fuga/mya.jpg')"
   ]
  },
  {
   "cell_type": "code",
   "execution_count": 13,
   "metadata": {},
   "outputs": [],
   "source": [
    "x = lambda path: path.split('/')[-1]"
   ]
  },
  {
   "cell_type": "code",
   "execution_count": 14,
   "metadata": {},
   "outputs": [
    {
     "data": {
      "text/plain": [
       "'mya.jpg'"
      ]
     },
     "execution_count": 14,
     "metadata": {},
     "output_type": "execute_result"
    }
   ],
   "source": [
    "x('/hoge/fuga/mya.jpg')"
   ]
  },
  {
   "cell_type": "code",
   "execution_count": 15,
   "metadata": {},
   "outputs": [
    {
     "name": "stdout",
     "output_type": "stream",
     "text": [
      "java\n",
      "Rust\n",
      "python\n"
     ]
    }
   ],
   "source": [
    "def print_list(*args):\n",
    "    for elem in args:\n",
    "        print(elem)\n",
    "\n",
    "print_list('java', 'Rust', 'python')"
   ]
  },
  {
   "cell_type": "code",
   "execution_count": 19,
   "metadata": {},
   "outputs": [],
   "source": [
    "def print_dict(**kwargs):\n",
    "    param1 = str(kwargs.get('param1'))\n",
    "    param2 = str(kwargs.get('param2', 'default_value'))\n",
    "    param3 = str(kwargs.get('param3'))\n",
    "    print('param1 {}'.format(param1))\n",
    "    print('param2 {}'.format(param2))\n",
    "    print('param3 {}'.format(param3))"
   ]
  },
  {
   "cell_type": "code",
   "execution_count": 18,
   "metadata": {},
   "outputs": [
    {
     "name": "stdout",
     "output_type": "stream",
     "text": [
      "{'key': 'yhoge'}\n"
     ]
    }
   ],
   "source": [
    "print_dict(key='yhoge')"
   ]
  },
  {
   "cell_type": "code",
   "execution_count": 20,
   "metadata": {},
   "outputs": [
    {
     "name": "stdout",
     "output_type": "stream",
     "text": [
      "param1 myan\n",
      "param2 default_value\n",
      "param3 None\n"
     ]
    }
   ],
   "source": [
    "print_dict(param1='myan')"
   ]
  },
  {
   "cell_type": "code",
   "execution_count": null,
   "metadata": {},
   "outputs": [],
   "source": []
  }
 ],
 "metadata": {
  "kernelspec": {
   "display_name": "Python 3",
   "language": "python",
   "name": "python3"
  },
  "language_info": {
   "codemirror_mode": {
    "name": "ipython",
    "version": 3
   },
   "file_extension": ".py",
   "mimetype": "text/x-python",
   "name": "python",
   "nbconvert_exporter": "python",
   "pygments_lexer": "ipython3",
   "version": "3.7.4"
  }
 },
 "nbformat": 4,
 "nbformat_minor": 4
}
