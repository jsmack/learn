{
 "cells": [
  {
   "cell_type": "code",
   "execution_count": 1,
   "metadata": {},
   "outputs": [],
   "source": [
    "import random, string\n",
    "\n",
    "def randomname(n):\n",
    "   randlst = [random.choice(string.ascii_letters + string.digits) for i in range(n)]\n",
    "   print(randlst)\n",
    "   return ''.join(randlst)"
   ]
  },
  {
   "cell_type": "code",
   "execution_count": 2,
   "metadata": {},
   "outputs": [
    {
     "name": "stdout",
     "output_type": "stream",
     "text": [
      "['6', 'F', 'g', 'k', 'W', '4', 's', 'a', 'm', 'v', '9', 'o', '1', 'k', '0', 'U', 'y', 'Z', 'z', '3']\n"
     ]
    },
    {
     "data": {
      "text/plain": [
       "'6FgkW4samv9o1k0UyZz3'"
      ]
     },
     "execution_count": 2,
     "metadata": {},
     "output_type": "execute_result"
    }
   ],
   "source": [
    "randomname(20)"
   ]
  },
  {
   "cell_type": "code",
   "execution_count": 88,
   "metadata": {},
   "outputs": [],
   "source": [
    "list_file = []"
   ]
  },
  {
   "cell_type": "code",
   "execution_count": 93,
   "metadata": {},
   "outputs": [],
   "source": [
    "for i in range(20):\n",
    "    list_file.append(randomname(20))\n",
    "    "
   ]
  },
  {
   "cell_type": "code",
   "execution_count": 94,
   "metadata": {},
   "outputs": [
    {
     "data": {
      "text/plain": [
       "['CFDTL8NVSTKU84GEnYSc',\n",
       " '6ArOCgjmV6qket5fwts6',\n",
       " 'Jv1kMje6DpXYINXsE5mm',\n",
       " 'c3rzHwKrPtHLXHVJjkUf',\n",
       " '2LCSjx0vqGOYQ6q0W8FA',\n",
       " 'qbsfYTOxarvGaqAk5xmJ',\n",
       " 'GGC1VU8ABVwEjjdUOFaP',\n",
       " 'f9ZbYuW1iHHnRKIYSeh4',\n",
       " 'NCDuffDp88VMkCS1JkRU',\n",
       " '4nmUBib3csqbhKUgjApk',\n",
       " '919nSIej8zPZmLMfiNMT',\n",
       " 'vCREJnDSIItHPY8iwL5p',\n",
       " 'Ilwh7hiX2WBusdqbSCd5',\n",
       " 'NGMGXu4L2qOq3y64JwVC',\n",
       " 'CYHobuNHbF0F6z4wPuwK',\n",
       " 'kXp3QB67awS7lmOEMMUg',\n",
       " 'fhkwXIDyA7AbEBd02rp2',\n",
       " 'WR52AaNGvWrG4NyZBefA',\n",
       " 'MHUFuYv8Ud63uh7XV5XF',\n",
       " 'v71XECvKgPY0pjwPJ37z',\n",
       " 'vQtshPxuj5E9XUYTp4iO',\n",
       " 'JM0lXZs9BWTgrw5LLuab',\n",
       " 'F7ZtgtkpZrSnCoqZRpU8',\n",
       " 'pZTuB0oKWvvf6h0Sl3We',\n",
       " 'ErzeA8aycWtGhDM1wccw',\n",
       " '7VHHMiLZgVeYdbU8Szox',\n",
       " '8OvfXwyJEEHxUokWEh0G',\n",
       " 'UhI1ALa45fdsQr58wy2N',\n",
       " 'iLea0rIOVVmccAHFGkYs',\n",
       " 'fgd4n8cWa2exL1ywuRhL',\n",
       " 'WANnPtW94u6PlKwCH1b3',\n",
       " 'eLUhWifyJsYo6tRgWp8u',\n",
       " 'MCyjEwHw15iNjdwM1900',\n",
       " 'tnUoz0UgTeHXOq5TT31n',\n",
       " '56DazwRDFjuRiE2ShGbt',\n",
       " 'hyMN1KsYZ2BwgYOce6f7',\n",
       " 'QupCiKcLsBhue1X1ty92',\n",
       " 'ndplHE1VbWHHfpSuChMl',\n",
       " '6G6ANqG2Z0wcTxQDNKBo',\n",
       " 'mzgOeRtuHV8GYKVz9qoE']"
      ]
     },
     "execution_count": 94,
     "metadata": {},
     "output_type": "execute_result"
    }
   ],
   "source": [
    "list_file"
   ]
  },
  {
   "cell_type": "code",
   "execution_count": 91,
   "metadata": {},
   "outputs": [],
   "source": [
    "list_file_idx = []\n",
    "for idx, name in enumerate(list_file):\n",
    "    list_file_idx.append(f\"{name}_{idx:03}.png\")"
   ]
  },
  {
   "cell_type": "code",
   "execution_count": 92,
   "metadata": {},
   "outputs": [
    {
     "data": {
      "text/plain": [
       "['CFDTL8NVSTKU84GEnYSc_000.png',\n",
       " '6ArOCgjmV6qket5fwts6_001.png',\n",
       " 'Jv1kMje6DpXYINXsE5mm_002.png',\n",
       " 'c3rzHwKrPtHLXHVJjkUf_003.png',\n",
       " '2LCSjx0vqGOYQ6q0W8FA_004.png',\n",
       " 'qbsfYTOxarvGaqAk5xmJ_005.png',\n",
       " 'GGC1VU8ABVwEjjdUOFaP_006.png',\n",
       " 'f9ZbYuW1iHHnRKIYSeh4_007.png',\n",
       " 'NCDuffDp88VMkCS1JkRU_008.png',\n",
       " '4nmUBib3csqbhKUgjApk_009.png',\n",
       " '919nSIej8zPZmLMfiNMT_010.png',\n",
       " 'vCREJnDSIItHPY8iwL5p_011.png',\n",
       " 'Ilwh7hiX2WBusdqbSCd5_012.png',\n",
       " 'NGMGXu4L2qOq3y64JwVC_013.png',\n",
       " 'CYHobuNHbF0F6z4wPuwK_014.png',\n",
       " 'kXp3QB67awS7lmOEMMUg_015.png',\n",
       " 'fhkwXIDyA7AbEBd02rp2_016.png',\n",
       " 'WR52AaNGvWrG4NyZBefA_017.png',\n",
       " 'MHUFuYv8Ud63uh7XV5XF_018.png',\n",
       " 'v71XECvKgPY0pjwPJ37z_019.png']"
      ]
     },
     "execution_count": 92,
     "metadata": {},
     "output_type": "execute_result"
    }
   ],
   "source": [
    "list_file_idx"
   ]
  },
  {
   "cell_type": "code",
   "execution_count": 105,
   "metadata": {},
   "outputs": [],
   "source": [
    "def set_idx(list_param, ext='.png'):\n",
    "#     for idx, name in enumerate(list_param):\n",
    "#         list_param[idx] = (f\"{name}_{idx:03}.png\")\n",
    "    return [ f'{name}_{idx:03}{ext}' for idx, name in enumerate(list_file)]"
   ]
  },
  {
   "cell_type": "code",
   "execution_count": 106,
   "metadata": {},
   "outputs": [
    {
     "data": {
      "text/plain": [
       "['CFDTL8NVSTKU84GEnYSc',\n",
       " '6ArOCgjmV6qket5fwts6',\n",
       " 'Jv1kMje6DpXYINXsE5mm',\n",
       " 'c3rzHwKrPtHLXHVJjkUf',\n",
       " '2LCSjx0vqGOYQ6q0W8FA',\n",
       " 'qbsfYTOxarvGaqAk5xmJ',\n",
       " 'GGC1VU8ABVwEjjdUOFaP',\n",
       " 'f9ZbYuW1iHHnRKIYSeh4',\n",
       " 'NCDuffDp88VMkCS1JkRU',\n",
       " '4nmUBib3csqbhKUgjApk',\n",
       " '919nSIej8zPZmLMfiNMT',\n",
       " 'vCREJnDSIItHPY8iwL5p',\n",
       " 'Ilwh7hiX2WBusdqbSCd5',\n",
       " 'NGMGXu4L2qOq3y64JwVC',\n",
       " 'CYHobuNHbF0F6z4wPuwK',\n",
       " 'kXp3QB67awS7lmOEMMUg',\n",
       " 'fhkwXIDyA7AbEBd02rp2',\n",
       " 'WR52AaNGvWrG4NyZBefA',\n",
       " 'MHUFuYv8Ud63uh7XV5XF',\n",
       " 'v71XECvKgPY0pjwPJ37z',\n",
       " 'vQtshPxuj5E9XUYTp4iO',\n",
       " 'JM0lXZs9BWTgrw5LLuab',\n",
       " 'F7ZtgtkpZrSnCoqZRpU8',\n",
       " 'pZTuB0oKWvvf6h0Sl3We',\n",
       " 'ErzeA8aycWtGhDM1wccw',\n",
       " '7VHHMiLZgVeYdbU8Szox',\n",
       " '8OvfXwyJEEHxUokWEh0G',\n",
       " 'UhI1ALa45fdsQr58wy2N',\n",
       " 'iLea0rIOVVmccAHFGkYs',\n",
       " 'fgd4n8cWa2exL1ywuRhL',\n",
       " 'WANnPtW94u6PlKwCH1b3',\n",
       " 'eLUhWifyJsYo6tRgWp8u',\n",
       " 'MCyjEwHw15iNjdwM1900',\n",
       " 'tnUoz0UgTeHXOq5TT31n',\n",
       " '56DazwRDFjuRiE2ShGbt',\n",
       " 'hyMN1KsYZ2BwgYOce6f7',\n",
       " 'QupCiKcLsBhue1X1ty92',\n",
       " 'ndplHE1VbWHHfpSuChMl',\n",
       " '6G6ANqG2Z0wcTxQDNKBo',\n",
       " 'mzgOeRtuHV8GYKVz9qoE']"
      ]
     },
     "execution_count": 106,
     "metadata": {},
     "output_type": "execute_result"
    }
   ],
   "source": [
    "list_file"
   ]
  },
  {
   "cell_type": "code",
   "execution_count": 107,
   "metadata": {},
   "outputs": [
    {
     "data": {
      "text/plain": [
       "['CFDTL8NVSTKU84GEnYSc_000.png',\n",
       " '6ArOCgjmV6qket5fwts6_001.png',\n",
       " 'Jv1kMje6DpXYINXsE5mm_002.png',\n",
       " 'c3rzHwKrPtHLXHVJjkUf_003.png',\n",
       " '2LCSjx0vqGOYQ6q0W8FA_004.png',\n",
       " 'qbsfYTOxarvGaqAk5xmJ_005.png',\n",
       " 'GGC1VU8ABVwEjjdUOFaP_006.png',\n",
       " 'f9ZbYuW1iHHnRKIYSeh4_007.png',\n",
       " 'NCDuffDp88VMkCS1JkRU_008.png',\n",
       " '4nmUBib3csqbhKUgjApk_009.png',\n",
       " '919nSIej8zPZmLMfiNMT_010.png',\n",
       " 'vCREJnDSIItHPY8iwL5p_011.png',\n",
       " 'Ilwh7hiX2WBusdqbSCd5_012.png',\n",
       " 'NGMGXu4L2qOq3y64JwVC_013.png',\n",
       " 'CYHobuNHbF0F6z4wPuwK_014.png',\n",
       " 'kXp3QB67awS7lmOEMMUg_015.png',\n",
       " 'fhkwXIDyA7AbEBd02rp2_016.png',\n",
       " 'WR52AaNGvWrG4NyZBefA_017.png',\n",
       " 'MHUFuYv8Ud63uh7XV5XF_018.png',\n",
       " 'v71XECvKgPY0pjwPJ37z_019.png',\n",
       " 'vQtshPxuj5E9XUYTp4iO_020.png',\n",
       " 'JM0lXZs9BWTgrw5LLuab_021.png',\n",
       " 'F7ZtgtkpZrSnCoqZRpU8_022.png',\n",
       " 'pZTuB0oKWvvf6h0Sl3We_023.png',\n",
       " 'ErzeA8aycWtGhDM1wccw_024.png',\n",
       " '7VHHMiLZgVeYdbU8Szox_025.png',\n",
       " '8OvfXwyJEEHxUokWEh0G_026.png',\n",
       " 'UhI1ALa45fdsQr58wy2N_027.png',\n",
       " 'iLea0rIOVVmccAHFGkYs_028.png',\n",
       " 'fgd4n8cWa2exL1ywuRhL_029.png',\n",
       " 'WANnPtW94u6PlKwCH1b3_030.png',\n",
       " 'eLUhWifyJsYo6tRgWp8u_031.png',\n",
       " 'MCyjEwHw15iNjdwM1900_032.png',\n",
       " 'tnUoz0UgTeHXOq5TT31n_033.png',\n",
       " '56DazwRDFjuRiE2ShGbt_034.png',\n",
       " 'hyMN1KsYZ2BwgYOce6f7_035.png',\n",
       " 'QupCiKcLsBhue1X1ty92_036.png',\n",
       " 'ndplHE1VbWHHfpSuChMl_037.png',\n",
       " '6G6ANqG2Z0wcTxQDNKBo_038.png',\n",
       " 'mzgOeRtuHV8GYKVz9qoE_039.png']"
      ]
     },
     "execution_count": 107,
     "metadata": {},
     "output_type": "execute_result"
    }
   ],
   "source": [
    "set_idx(list_file)"
   ]
  },
  {
   "cell_type": "code",
   "execution_count": 108,
   "metadata": {},
   "outputs": [
    {
     "data": {
      "text/plain": [
       "['CFDTL8NVSTKU84GEnYSc',\n",
       " '6ArOCgjmV6qket5fwts6',\n",
       " 'Jv1kMje6DpXYINXsE5mm',\n",
       " 'c3rzHwKrPtHLXHVJjkUf',\n",
       " '2LCSjx0vqGOYQ6q0W8FA',\n",
       " 'qbsfYTOxarvGaqAk5xmJ',\n",
       " 'GGC1VU8ABVwEjjdUOFaP',\n",
       " 'f9ZbYuW1iHHnRKIYSeh4',\n",
       " 'NCDuffDp88VMkCS1JkRU',\n",
       " '4nmUBib3csqbhKUgjApk',\n",
       " '919nSIej8zPZmLMfiNMT',\n",
       " 'vCREJnDSIItHPY8iwL5p',\n",
       " 'Ilwh7hiX2WBusdqbSCd5',\n",
       " 'NGMGXu4L2qOq3y64JwVC',\n",
       " 'CYHobuNHbF0F6z4wPuwK',\n",
       " 'kXp3QB67awS7lmOEMMUg',\n",
       " 'fhkwXIDyA7AbEBd02rp2',\n",
       " 'WR52AaNGvWrG4NyZBefA',\n",
       " 'MHUFuYv8Ud63uh7XV5XF',\n",
       " 'v71XECvKgPY0pjwPJ37z',\n",
       " 'vQtshPxuj5E9XUYTp4iO',\n",
       " 'JM0lXZs9BWTgrw5LLuab',\n",
       " 'F7ZtgtkpZrSnCoqZRpU8',\n",
       " 'pZTuB0oKWvvf6h0Sl3We',\n",
       " 'ErzeA8aycWtGhDM1wccw',\n",
       " '7VHHMiLZgVeYdbU8Szox',\n",
       " '8OvfXwyJEEHxUokWEh0G',\n",
       " 'UhI1ALa45fdsQr58wy2N',\n",
       " 'iLea0rIOVVmccAHFGkYs',\n",
       " 'fgd4n8cWa2exL1ywuRhL',\n",
       " 'WANnPtW94u6PlKwCH1b3',\n",
       " 'eLUhWifyJsYo6tRgWp8u',\n",
       " 'MCyjEwHw15iNjdwM1900',\n",
       " 'tnUoz0UgTeHXOq5TT31n',\n",
       " '56DazwRDFjuRiE2ShGbt',\n",
       " 'hyMN1KsYZ2BwgYOce6f7',\n",
       " 'QupCiKcLsBhue1X1ty92',\n",
       " 'ndplHE1VbWHHfpSuChMl',\n",
       " '6G6ANqG2Z0wcTxQDNKBo',\n",
       " 'mzgOeRtuHV8GYKVz9qoE']"
      ]
     },
     "execution_count": 108,
     "metadata": {},
     "output_type": "execute_result"
    }
   ],
   "source": [
    "list_file"
   ]
  },
  {
   "cell_type": "code",
   "execution_count": 101,
   "metadata": {},
   "outputs": [],
   "source": [
    "set_list_l = lambda list_file : [ f'{name}_{idx:03}.png' for idx, name in enumerate(list_file)]"
   ]
  },
  {
   "cell_type": "code",
   "execution_count": 102,
   "metadata": {},
   "outputs": [
    {
     "data": {
      "text/plain": [
       "['CFDTL8NVSTKU84GEnYSc_000.png',\n",
       " '6ArOCgjmV6qket5fwts6_001.png',\n",
       " 'Jv1kMje6DpXYINXsE5mm_002.png',\n",
       " 'c3rzHwKrPtHLXHVJjkUf_003.png',\n",
       " '2LCSjx0vqGOYQ6q0W8FA_004.png',\n",
       " 'qbsfYTOxarvGaqAk5xmJ_005.png',\n",
       " 'GGC1VU8ABVwEjjdUOFaP_006.png',\n",
       " 'f9ZbYuW1iHHnRKIYSeh4_007.png',\n",
       " 'NCDuffDp88VMkCS1JkRU_008.png',\n",
       " '4nmUBib3csqbhKUgjApk_009.png',\n",
       " '919nSIej8zPZmLMfiNMT_010.png',\n",
       " 'vCREJnDSIItHPY8iwL5p_011.png',\n",
       " 'Ilwh7hiX2WBusdqbSCd5_012.png',\n",
       " 'NGMGXu4L2qOq3y64JwVC_013.png',\n",
       " 'CYHobuNHbF0F6z4wPuwK_014.png',\n",
       " 'kXp3QB67awS7lmOEMMUg_015.png',\n",
       " 'fhkwXIDyA7AbEBd02rp2_016.png',\n",
       " 'WR52AaNGvWrG4NyZBefA_017.png',\n",
       " 'MHUFuYv8Ud63uh7XV5XF_018.png',\n",
       " 'v71XECvKgPY0pjwPJ37z_019.png',\n",
       " 'vQtshPxuj5E9XUYTp4iO_020.png',\n",
       " 'JM0lXZs9BWTgrw5LLuab_021.png',\n",
       " 'F7ZtgtkpZrSnCoqZRpU8_022.png',\n",
       " 'pZTuB0oKWvvf6h0Sl3We_023.png',\n",
       " 'ErzeA8aycWtGhDM1wccw_024.png',\n",
       " '7VHHMiLZgVeYdbU8Szox_025.png',\n",
       " '8OvfXwyJEEHxUokWEh0G_026.png',\n",
       " 'UhI1ALa45fdsQr58wy2N_027.png',\n",
       " 'iLea0rIOVVmccAHFGkYs_028.png',\n",
       " 'fgd4n8cWa2exL1ywuRhL_029.png',\n",
       " 'WANnPtW94u6PlKwCH1b3_030.png',\n",
       " 'eLUhWifyJsYo6tRgWp8u_031.png',\n",
       " 'MCyjEwHw15iNjdwM1900_032.png',\n",
       " 'tnUoz0UgTeHXOq5TT31n_033.png',\n",
       " '56DazwRDFjuRiE2ShGbt_034.png',\n",
       " 'hyMN1KsYZ2BwgYOce6f7_035.png',\n",
       " 'QupCiKcLsBhue1X1ty92_036.png',\n",
       " 'ndplHE1VbWHHfpSuChMl_037.png',\n",
       " '6G6ANqG2Z0wcTxQDNKBo_038.png',\n",
       " 'mzgOeRtuHV8GYKVz9qoE_039.png']"
      ]
     },
     "execution_count": 102,
     "metadata": {},
     "output_type": "execute_result"
    }
   ],
   "source": [
    "set_list_l(list_file)"
   ]
  },
  {
   "cell_type": "code",
   "execution_count": 104,
   "metadata": {},
   "outputs": [
    {
     "data": {
      "text/plain": [
       "['CFDTL8NVSTKU84GEnYSc',\n",
       " '6ArOCgjmV6qket5fwts6',\n",
       " 'Jv1kMje6DpXYINXsE5mm',\n",
       " 'c3rzHwKrPtHLXHVJjkUf',\n",
       " '2LCSjx0vqGOYQ6q0W8FA',\n",
       " 'qbsfYTOxarvGaqAk5xmJ',\n",
       " 'GGC1VU8ABVwEjjdUOFaP',\n",
       " 'f9ZbYuW1iHHnRKIYSeh4',\n",
       " 'NCDuffDp88VMkCS1JkRU',\n",
       " '4nmUBib3csqbhKUgjApk',\n",
       " '919nSIej8zPZmLMfiNMT',\n",
       " 'vCREJnDSIItHPY8iwL5p',\n",
       " 'Ilwh7hiX2WBusdqbSCd5',\n",
       " 'NGMGXu4L2qOq3y64JwVC',\n",
       " 'CYHobuNHbF0F6z4wPuwK',\n",
       " 'kXp3QB67awS7lmOEMMUg',\n",
       " 'fhkwXIDyA7AbEBd02rp2',\n",
       " 'WR52AaNGvWrG4NyZBefA',\n",
       " 'MHUFuYv8Ud63uh7XV5XF',\n",
       " 'v71XECvKgPY0pjwPJ37z',\n",
       " 'vQtshPxuj5E9XUYTp4iO',\n",
       " 'JM0lXZs9BWTgrw5LLuab',\n",
       " 'F7ZtgtkpZrSnCoqZRpU8',\n",
       " 'pZTuB0oKWvvf6h0Sl3We',\n",
       " 'ErzeA8aycWtGhDM1wccw',\n",
       " '7VHHMiLZgVeYdbU8Szox',\n",
       " '8OvfXwyJEEHxUokWEh0G',\n",
       " 'UhI1ALa45fdsQr58wy2N',\n",
       " 'iLea0rIOVVmccAHFGkYs',\n",
       " 'fgd4n8cWa2exL1ywuRhL',\n",
       " 'WANnPtW94u6PlKwCH1b3',\n",
       " 'eLUhWifyJsYo6tRgWp8u',\n",
       " 'MCyjEwHw15iNjdwM1900',\n",
       " 'tnUoz0UgTeHXOq5TT31n',\n",
       " '56DazwRDFjuRiE2ShGbt',\n",
       " 'hyMN1KsYZ2BwgYOce6f7',\n",
       " 'QupCiKcLsBhue1X1ty92',\n",
       " 'ndplHE1VbWHHfpSuChMl',\n",
       " '6G6ANqG2Z0wcTxQDNKBo',\n",
       " 'mzgOeRtuHV8GYKVz9qoE']"
      ]
     },
     "execution_count": 104,
     "metadata": {},
     "output_type": "execute_result"
    }
   ],
   "source": [
    "list_file"
   ]
  },
  {
   "cell_type": "code",
   "execution_count": null,
   "metadata": {},
   "outputs": [],
   "source": []
  }
 ],
 "metadata": {
  "kernelspec": {
   "display_name": "Python 3",
   "language": "python",
   "name": "python3"
  },
  "language_info": {
   "codemirror_mode": {
    "name": "ipython",
    "version": 3
   },
   "file_extension": ".py",
   "mimetype": "text/x-python",
   "name": "python",
   "nbconvert_exporter": "python",
   "pygments_lexer": "ipython3",
   "version": "3.7.6"
  }
 },
 "nbformat": 4,
 "nbformat_minor": 4
}
