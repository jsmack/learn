{
 "metadata": {
  "language_info": {
   "codemirror_mode": {
    "name": "ipython",
    "version": 3
   },
   "file_extension": ".py",
   "mimetype": "text/x-python",
   "name": "python",
   "nbconvert_exporter": "python",
   "pygments_lexer": "ipython3",
   "version": "3.7.0-final"
  },
  "orig_nbformat": 2,
  "kernelspec": {
   "name": "python36064bitanaconda3431pyenv0f133c8de78f494f85ca502951b5398d",
   "display_name": "Python 3.6.0 64-bit ('anaconda3-4.3.1': pyenv)"
  }
 },
 "nbformat": 4,
 "nbformat_minor": 2,
 "cells": [
  {
   "cell_type": "code",
   "execution_count": 2,
   "metadata": {},
   "outputs": [],
   "source": [
    "import pandas as pd"
   ]
  },
  {
   "cell_type": "code",
   "execution_count": 3,
   "metadata": {},
   "outputs": [],
   "source": [
    "import numpy as np"
   ]
  },
  {
   "cell_type": "code",
   "execution_count": 3,
   "metadata": {},
   "outputs": [],
   "source": [
    "s = pd.Series([1,2,np.nan])"
   ]
  },
  {
   "cell_type": "code",
   "execution_count": 4,
   "metadata": {},
   "outputs": [
    {
     "output_type": "execute_result",
     "data": {
      "text/plain": [
       "0    1.0\n",
       "1    2.0\n",
       "2    NaN\n",
       "dtype: float64"
      ]
     },
     "metadata": {},
     "execution_count": 4
    }
   ],
   "source": [
    "s"
   ]
  },
  {
   "cell_type": "code",
   "execution_count": 5,
   "metadata": {},
   "outputs": [
    {
     "output_type": "execute_result",
     "data": {
      "text/plain": [
       "1.0"
      ]
     },
     "metadata": {},
     "execution_count": 5
    }
   ],
   "source": [
    "s[0]"
   ]
  },
  {
   "cell_type": "code",
   "execution_count": 6,
   "metadata": {},
   "outputs": [
    {
     "output_type": "execute_result",
     "data": {
      "text/plain": [
       "3.0"
      ]
     },
     "metadata": {},
     "execution_count": 6
    }
   ],
   "source": [
    "s.sum()"
   ]
  },
  {
   "cell_type": "code",
   "execution_count": 7,
   "metadata": {},
   "outputs": [
    {
     "output_type": "execute_result",
     "data": {
      "text/plain": [
       "<bound method Series.all of 0    1.0\n",
       "1    2.0\n",
       "2    NaN\n",
       "dtype: float64>"
      ]
     },
     "metadata": {},
     "execution_count": 7
    }
   ],
   "source": [
    "s.all"
   ]
  },
  {
   "cell_type": "code",
   "execution_count": 8,
   "metadata": {},
   "outputs": [
    {
     "output_type": "execute_result",
     "data": {
      "text/plain": [
       "0    1.0\n",
       "1    2.0\n",
       "2    NaN\n",
       "dtype: float64"
      ]
     },
     "metadata": {},
     "execution_count": 8
    }
   ],
   "source": [
    "s"
   ]
  },
  {
   "cell_type": "code",
   "execution_count": 9,
   "metadata": {},
   "outputs": [],
   "source": [
    "df = pd.DataFrame({'A': [1,2], 'B': [3,4]})"
   ]
  },
  {
   "cell_type": "code",
   "execution_count": 10,
   "metadata": {},
   "outputs": [
    {
     "output_type": "execute_result",
     "data": {
      "text/plain": [
       "   A  B\n",
       "0  1  3\n",
       "1  2  4"
      ],
      "text/html": "<div>\n<style scoped>\n    .dataframe tbody tr th:only-of-type {\n        vertical-align: middle;\n    }\n\n    .dataframe tbody tr th {\n        vertical-align: top;\n    }\n\n    .dataframe thead th {\n        text-align: right;\n    }\n</style>\n<table border=\"1\" class=\"dataframe\">\n  <thead>\n    <tr style=\"text-align: right;\">\n      <th></th>\n      <th>A</th>\n      <th>B</th>\n    </tr>\n  </thead>\n  <tbody>\n    <tr>\n      <th>0</th>\n      <td>1</td>\n      <td>3</td>\n    </tr>\n    <tr>\n      <th>1</th>\n      <td>2</td>\n      <td>4</td>\n    </tr>\n  </tbody>\n</table>\n</div>"
     },
     "metadata": {},
     "execution_count": 10
    }
   ],
   "source": [
    "df"
   ]
  },
  {
   "cell_type": "code",
   "execution_count": 11,
   "metadata": {},
   "outputs": [
    {
     "output_type": "execute_result",
     "data": {
      "text/plain": [
       "A    int64\n",
       "B    int64\n",
       "dtype: object"
      ]
     },
     "metadata": {},
     "execution_count": 11
    }
   ],
   "source": [
    "df.dtypes"
   ]
  },
  {
   "cell_type": "code",
   "execution_count": 15,
   "metadata": {},
   "outputs": [],
   "source": [
    "df = pd.DataFrame(np.random.randn(6,4))"
   ]
  },
  {
   "cell_type": "code",
   "execution_count": 16,
   "metadata": {},
   "outputs": [
    {
     "output_type": "execute_result",
     "data": {
      "text/plain": [
       "          0         1         2         3\n",
       "0  0.344197 -0.197718  0.592611  0.088324\n",
       "1 -0.371683 -0.217458  0.081767 -0.068569\n",
       "2  0.358952  0.528159 -0.517565 -0.915051\n",
       "3  0.695267 -1.659570 -0.619952 -0.655689\n",
       "4 -0.163771 -0.365464  1.239390  0.190689\n",
       "5  0.220863  2.169984 -0.557952 -1.443417"
      ],
      "text/html": "<div>\n<style scoped>\n    .dataframe tbody tr th:only-of-type {\n        vertical-align: middle;\n    }\n\n    .dataframe tbody tr th {\n        vertical-align: top;\n    }\n\n    .dataframe thead th {\n        text-align: right;\n    }\n</style>\n<table border=\"1\" class=\"dataframe\">\n  <thead>\n    <tr style=\"text-align: right;\">\n      <th></th>\n      <th>0</th>\n      <th>1</th>\n      <th>2</th>\n      <th>3</th>\n    </tr>\n  </thead>\n  <tbody>\n    <tr>\n      <th>0</th>\n      <td>0.344197</td>\n      <td>-0.197718</td>\n      <td>0.592611</td>\n      <td>0.088324</td>\n    </tr>\n    <tr>\n      <th>1</th>\n      <td>-0.371683</td>\n      <td>-0.217458</td>\n      <td>0.081767</td>\n      <td>-0.068569</td>\n    </tr>\n    <tr>\n      <th>2</th>\n      <td>0.358952</td>\n      <td>0.528159</td>\n      <td>-0.517565</td>\n      <td>-0.915051</td>\n    </tr>\n    <tr>\n      <th>3</th>\n      <td>0.695267</td>\n      <td>-1.659570</td>\n      <td>-0.619952</td>\n      <td>-0.655689</td>\n    </tr>\n    <tr>\n      <th>4</th>\n      <td>-0.163771</td>\n      <td>-0.365464</td>\n      <td>1.239390</td>\n      <td>0.190689</td>\n    </tr>\n    <tr>\n      <th>5</th>\n      <td>0.220863</td>\n      <td>2.169984</td>\n      <td>-0.557952</td>\n      <td>-1.443417</td>\n    </tr>\n  </tbody>\n</table>\n</div>"
     },
     "metadata": {},
     "execution_count": 16
    }
   ],
   "source": [
    "df"
   ]
  },
  {
   "cell_type": "code",
   "execution_count": 19,
   "metadata": {},
   "outputs": [
    {
     "output_type": "execute_result",
     "data": {
      "text/plain": [
       "                   0         1         2         3\n",
       "2020-01-01  1.293312 -0.436001  0.898822  0.423703\n",
       "2020-01-02 -0.834729 -0.840151 -1.381528 -0.720186\n",
       "2020-01-03  0.054106 -0.916242  0.583516  0.043223\n",
       "2020-01-04 -0.560647 -1.535631  0.203795 -1.479003\n",
       "2020-01-05 -0.537720 -0.847862  0.115842  0.728822\n",
       "2020-01-06 -0.111166 -0.021775  0.418189  1.944539"
      ],
      "text/html": "<div>\n<style scoped>\n    .dataframe tbody tr th:only-of-type {\n        vertical-align: middle;\n    }\n\n    .dataframe tbody tr th {\n        vertical-align: top;\n    }\n\n    .dataframe thead th {\n        text-align: right;\n    }\n</style>\n<table border=\"1\" class=\"dataframe\">\n  <thead>\n    <tr style=\"text-align: right;\">\n      <th></th>\n      <th>0</th>\n      <th>1</th>\n      <th>2</th>\n      <th>3</th>\n    </tr>\n  </thead>\n  <tbody>\n    <tr>\n      <th>2020-01-01</th>\n      <td>1.293312</td>\n      <td>-0.436001</td>\n      <td>0.898822</td>\n      <td>0.423703</td>\n    </tr>\n    <tr>\n      <th>2020-01-02</th>\n      <td>-0.834729</td>\n      <td>-0.840151</td>\n      <td>-1.381528</td>\n      <td>-0.720186</td>\n    </tr>\n    <tr>\n      <th>2020-01-03</th>\n      <td>0.054106</td>\n      <td>-0.916242</td>\n      <td>0.583516</td>\n      <td>0.043223</td>\n    </tr>\n    <tr>\n      <th>2020-01-04</th>\n      <td>-0.560647</td>\n      <td>-1.535631</td>\n      <td>0.203795</td>\n      <td>-1.479003</td>\n    </tr>\n    <tr>\n      <th>2020-01-05</th>\n      <td>-0.537720</td>\n      <td>-0.847862</td>\n      <td>0.115842</td>\n      <td>0.728822</td>\n    </tr>\n    <tr>\n      <th>2020-01-06</th>\n      <td>-0.111166</td>\n      <td>-0.021775</td>\n      <td>0.418189</td>\n      <td>1.944539</td>\n    </tr>\n  </tbody>\n</table>\n</div>"
     },
     "metadata": {},
     "execution_count": 19
    }
   ],
   "source": [
    "df = pd.DataFrame(np.random.randn(6,4), index=pd.date_range('20200101', periods=6))\n",
    "df"
   ]
  },
  {
   "cell_type": "code",
   "execution_count": 22,
   "metadata": {},
   "outputs": [
    {
     "output_type": "execute_result",
     "data": {
      "text/plain": [
       "                   A         B         C         D\n",
       "2020-01-01 -2.077417 -0.542460  1.089139  2.333203\n",
       "2020-01-02 -0.945321 -0.076810 -0.421923 -0.842443\n",
       "2020-01-03  0.522865  0.815038  1.024539 -1.039642\n",
       "2020-01-04  1.346739 -0.041617 -0.590214 -0.450035\n",
       "2020-01-05  0.004749  0.468859  2.485387  0.599805\n",
       "2020-01-06  0.603749  0.544703 -0.474016  0.696476"
      ],
      "text/html": "<div>\n<style scoped>\n    .dataframe tbody tr th:only-of-type {\n        vertical-align: middle;\n    }\n\n    .dataframe tbody tr th {\n        vertical-align: top;\n    }\n\n    .dataframe thead th {\n        text-align: right;\n    }\n</style>\n<table border=\"1\" class=\"dataframe\">\n  <thead>\n    <tr style=\"text-align: right;\">\n      <th></th>\n      <th>A</th>\n      <th>B</th>\n      <th>C</th>\n      <th>D</th>\n    </tr>\n  </thead>\n  <tbody>\n    <tr>\n      <th>2020-01-01</th>\n      <td>-2.077417</td>\n      <td>-0.542460</td>\n      <td>1.089139</td>\n      <td>2.333203</td>\n    </tr>\n    <tr>\n      <th>2020-01-02</th>\n      <td>-0.945321</td>\n      <td>-0.076810</td>\n      <td>-0.421923</td>\n      <td>-0.842443</td>\n    </tr>\n    <tr>\n      <th>2020-01-03</th>\n      <td>0.522865</td>\n      <td>0.815038</td>\n      <td>1.024539</td>\n      <td>-1.039642</td>\n    </tr>\n    <tr>\n      <th>2020-01-04</th>\n      <td>1.346739</td>\n      <td>-0.041617</td>\n      <td>-0.590214</td>\n      <td>-0.450035</td>\n    </tr>\n    <tr>\n      <th>2020-01-05</th>\n      <td>0.004749</td>\n      <td>0.468859</td>\n      <td>2.485387</td>\n      <td>0.599805</td>\n    </tr>\n    <tr>\n      <th>2020-01-06</th>\n      <td>0.603749</td>\n      <td>0.544703</td>\n      <td>-0.474016</td>\n      <td>0.696476</td>\n    </tr>\n  </tbody>\n</table>\n</div>"
     },
     "metadata": {},
     "execution_count": 22
    }
   ],
   "source": [
    "df = pd.DataFrame(np.random.randn(6,4), index=pd.date_range('20200101', periods=6), columns=['A','B','C','D'])\n",
    "df"
   ]
  },
  {
   "cell_type": "code",
   "execution_count": 24,
   "metadata": {},
   "outputs": [
    {
     "output_type": "execute_result",
     "data": {
      "text/plain": [
       "4"
      ]
     },
     "metadata": {},
     "execution_count": 24
    }
   ],
   "source": [
    "len(df.columns)"
   ]
  },
  {
   "cell_type": "code",
   "execution_count": 25,
   "metadata": {},
   "outputs": [
    {
     "output_type": "execute_result",
     "data": {
      "text/plain": [
       "Index(['A', 'B', 'C', 'D'], dtype='object')"
      ]
     },
     "metadata": {},
     "execution_count": 25
    }
   ],
   "source": [
    "df.columns"
   ]
  },
  {
   "cell_type": "code",
   "execution_count": 27,
   "metadata": {},
   "outputs": [
    {
     "output_type": "execute_result",
     "data": {
      "text/plain": [
       "6"
      ]
     },
     "metadata": {},
     "execution_count": 27
    }
   ],
   "source": [
    "len(df)"
   ]
  },
  {
   "cell_type": "code",
   "execution_count": 28,
   "metadata": {},
   "outputs": [
    {
     "output_type": "execute_result",
     "data": {
      "text/plain": [
       "                   A        B         C         D\n",
       "2020-01-01 -2.077417 -0.54246  1.089139  2.333203"
      ],
      "text/html": "<div>\n<style scoped>\n    .dataframe tbody tr th:only-of-type {\n        vertical-align: middle;\n    }\n\n    .dataframe tbody tr th {\n        vertical-align: top;\n    }\n\n    .dataframe thead th {\n        text-align: right;\n    }\n</style>\n<table border=\"1\" class=\"dataframe\">\n  <thead>\n    <tr style=\"text-align: right;\">\n      <th></th>\n      <th>A</th>\n      <th>B</th>\n      <th>C</th>\n      <th>D</th>\n    </tr>\n  </thead>\n  <tbody>\n    <tr>\n      <th>2020-01-01</th>\n      <td>-2.077417</td>\n      <td>-0.54246</td>\n      <td>1.089139</td>\n      <td>2.333203</td>\n    </tr>\n  </tbody>\n</table>\n</div>"
     },
     "metadata": {},
     "execution_count": 28
    }
   ],
   "source": [
    "df.head(1)"
   ]
  },
  {
   "cell_type": "code",
   "execution_count": 29,
   "metadata": {},
   "outputs": [
    {
     "output_type": "execute_result",
     "data": {
      "text/plain": [
       "                   A         B         C         D\n",
       "2020-01-06  0.603749  0.544703 -0.474016  0.696476"
      ],
      "text/html": "<div>\n<style scoped>\n    .dataframe tbody tr th:only-of-type {\n        vertical-align: middle;\n    }\n\n    .dataframe tbody tr th {\n        vertical-align: top;\n    }\n\n    .dataframe thead th {\n        text-align: right;\n    }\n</style>\n<table border=\"1\" class=\"dataframe\">\n  <thead>\n    <tr style=\"text-align: right;\">\n      <th></th>\n      <th>A</th>\n      <th>B</th>\n      <th>C</th>\n      <th>D</th>\n    </tr>\n  </thead>\n  <tbody>\n    <tr>\n      <th>2020-01-06</th>\n      <td>0.603749</td>\n      <td>0.544703</td>\n      <td>-0.474016</td>\n      <td>0.696476</td>\n    </tr>\n  </tbody>\n</table>\n</div>"
     },
     "metadata": {},
     "execution_count": 29
    }
   ],
   "source": [
    "df.tail(1)"
   ]
  },
  {
   "cell_type": "code",
   "execution_count": 30,
   "metadata": {},
   "outputs": [
    {
     "output_type": "execute_result",
     "data": {
      "text/plain": [
       "                   A         B         C         D\n",
       "2020-01-01 -2.077417 -0.542460  1.089139  2.333203\n",
       "2020-01-02 -0.945321 -0.076810 -0.421923 -0.842443\n",
       "2020-01-03  0.522865  0.815038  1.024539 -1.039642\n",
       "2020-01-04  1.346739 -0.041617 -0.590214 -0.450035\n",
       "2020-01-05  0.004749  0.468859  2.485387  0.599805"
      ],
      "text/html": "<div>\n<style scoped>\n    .dataframe tbody tr th:only-of-type {\n        vertical-align: middle;\n    }\n\n    .dataframe tbody tr th {\n        vertical-align: top;\n    }\n\n    .dataframe thead th {\n        text-align: right;\n    }\n</style>\n<table border=\"1\" class=\"dataframe\">\n  <thead>\n    <tr style=\"text-align: right;\">\n      <th></th>\n      <th>A</th>\n      <th>B</th>\n      <th>C</th>\n      <th>D</th>\n    </tr>\n  </thead>\n  <tbody>\n    <tr>\n      <th>2020-01-01</th>\n      <td>-2.077417</td>\n      <td>-0.542460</td>\n      <td>1.089139</td>\n      <td>2.333203</td>\n    </tr>\n    <tr>\n      <th>2020-01-02</th>\n      <td>-0.945321</td>\n      <td>-0.076810</td>\n      <td>-0.421923</td>\n      <td>-0.842443</td>\n    </tr>\n    <tr>\n      <th>2020-01-03</th>\n      <td>0.522865</td>\n      <td>0.815038</td>\n      <td>1.024539</td>\n      <td>-1.039642</td>\n    </tr>\n    <tr>\n      <th>2020-01-04</th>\n      <td>1.346739</td>\n      <td>-0.041617</td>\n      <td>-0.590214</td>\n      <td>-0.450035</td>\n    </tr>\n    <tr>\n      <th>2020-01-05</th>\n      <td>0.004749</td>\n      <td>0.468859</td>\n      <td>2.485387</td>\n      <td>0.599805</td>\n    </tr>\n  </tbody>\n</table>\n</div>"
     },
     "metadata": {},
     "execution_count": 30
    }
   ],
   "source": [
    "df.head(-1)"
   ]
  },
  {
   "cell_type": "code",
   "execution_count": 31,
   "metadata": {},
   "outputs": [
    {
     "output_type": "execute_result",
     "data": {
      "text/plain": [
       "DatetimeIndex(['2020-01-01', '2020-01-02', '2020-01-03', '2020-01-04',\n",
       "               '2020-01-05', '2020-01-06'],\n",
       "              dtype='datetime64[ns]', freq='D')"
      ]
     },
     "metadata": {},
     "execution_count": 31
    }
   ],
   "source": [
    "df.index"
   ]
  },
  {
   "cell_type": "code",
   "execution_count": 32,
   "metadata": {},
   "outputs": [
    {
     "output_type": "execute_result",
     "data": {
      "text/plain": [
       "array([[-2.07741707, -0.5424602 ,  1.08913895,  2.33320289],\n",
       "       [-0.94532071, -0.07681009, -0.42192263, -0.84244257],\n",
       "       [ 0.52286475,  0.81503776,  1.02453858, -1.03964244],\n",
       "       [ 1.34673899, -0.04161734, -0.59021429, -0.45003504],\n",
       "       [ 0.00474864,  0.46885925,  2.48538714,  0.59980459],\n",
       "       [ 0.6037491 ,  0.54470305, -0.47401553,  0.69647629]])"
      ]
     },
     "metadata": {},
     "execution_count": 32
    }
   ],
   "source": [
    "df.values"
   ]
  },
  {
   "cell_type": "code",
   "execution_count": 34,
   "metadata": {},
   "outputs": [
    {
     "output_type": "execute_result",
     "data": {
      "text/plain": [
       "              A         B         C         D\n",
       "count  6.000000  6.000000  6.000000  6.000000\n",
       "mean  -0.090773  0.194619  0.518819  0.216227\n",
       "std    1.233814  0.501089  1.228745  1.265010\n",
       "min   -2.077417 -0.542460 -0.590214 -1.039642\n",
       "25%   -0.707803 -0.068012 -0.460992 -0.744341\n",
       "50%    0.263807  0.213621  0.301308  0.074885\n",
       "75%    0.583528  0.525742  1.072989  0.672308\n",
       "max    1.346739  0.815038  2.485387  2.333203"
      ],
      "text/html": "<div>\n<style scoped>\n    .dataframe tbody tr th:only-of-type {\n        vertical-align: middle;\n    }\n\n    .dataframe tbody tr th {\n        vertical-align: top;\n    }\n\n    .dataframe thead th {\n        text-align: right;\n    }\n</style>\n<table border=\"1\" class=\"dataframe\">\n  <thead>\n    <tr style=\"text-align: right;\">\n      <th></th>\n      <th>A</th>\n      <th>B</th>\n      <th>C</th>\n      <th>D</th>\n    </tr>\n  </thead>\n  <tbody>\n    <tr>\n      <th>count</th>\n      <td>6.000000</td>\n      <td>6.000000</td>\n      <td>6.000000</td>\n      <td>6.000000</td>\n    </tr>\n    <tr>\n      <th>mean</th>\n      <td>-0.090773</td>\n      <td>0.194619</td>\n      <td>0.518819</td>\n      <td>0.216227</td>\n    </tr>\n    <tr>\n      <th>std</th>\n      <td>1.233814</td>\n      <td>0.501089</td>\n      <td>1.228745</td>\n      <td>1.265010</td>\n    </tr>\n    <tr>\n      <th>min</th>\n      <td>-2.077417</td>\n      <td>-0.542460</td>\n      <td>-0.590214</td>\n      <td>-1.039642</td>\n    </tr>\n    <tr>\n      <th>25%</th>\n      <td>-0.707803</td>\n      <td>-0.068012</td>\n      <td>-0.460992</td>\n      <td>-0.744341</td>\n    </tr>\n    <tr>\n      <th>50%</th>\n      <td>0.263807</td>\n      <td>0.213621</td>\n      <td>0.301308</td>\n      <td>0.074885</td>\n    </tr>\n    <tr>\n      <th>75%</th>\n      <td>0.583528</td>\n      <td>0.525742</td>\n      <td>1.072989</td>\n      <td>0.672308</td>\n    </tr>\n    <tr>\n      <th>max</th>\n      <td>1.346739</td>\n      <td>0.815038</td>\n      <td>2.485387</td>\n      <td>2.333203</td>\n    </tr>\n  </tbody>\n</table>\n</div>"
     },
     "metadata": {},
     "execution_count": 34
    }
   ],
   "source": [
    "df.describe()"
   ]
  },
  {
   "cell_type": "code",
   "execution_count": 35,
   "metadata": {},
   "outputs": [
    {
     "output_type": "execute_result",
     "data": {
      "text/plain": [
       "   2020-01-01  2020-01-02  2020-01-03  2020-01-04  2020-01-05  2020-01-06\n",
       "A   -2.077417   -0.945321    0.522865    1.346739    0.004749    0.603749\n",
       "B   -0.542460   -0.076810    0.815038   -0.041617    0.468859    0.544703\n",
       "C    1.089139   -0.421923    1.024539   -0.590214    2.485387   -0.474016\n",
       "D    2.333203   -0.842443   -1.039642   -0.450035    0.599805    0.696476"
      ],
      "text/html": "<div>\n<style scoped>\n    .dataframe tbody tr th:only-of-type {\n        vertical-align: middle;\n    }\n\n    .dataframe tbody tr th {\n        vertical-align: top;\n    }\n\n    .dataframe thead th {\n        text-align: right;\n    }\n</style>\n<table border=\"1\" class=\"dataframe\">\n  <thead>\n    <tr style=\"text-align: right;\">\n      <th></th>\n      <th>2020-01-01 00:00:00</th>\n      <th>2020-01-02 00:00:00</th>\n      <th>2020-01-03 00:00:00</th>\n      <th>2020-01-04 00:00:00</th>\n      <th>2020-01-05 00:00:00</th>\n      <th>2020-01-06 00:00:00</th>\n    </tr>\n  </thead>\n  <tbody>\n    <tr>\n      <th>A</th>\n      <td>-2.077417</td>\n      <td>-0.945321</td>\n      <td>0.522865</td>\n      <td>1.346739</td>\n      <td>0.004749</td>\n      <td>0.603749</td>\n    </tr>\n    <tr>\n      <th>B</th>\n      <td>-0.542460</td>\n      <td>-0.076810</td>\n      <td>0.815038</td>\n      <td>-0.041617</td>\n      <td>0.468859</td>\n      <td>0.544703</td>\n    </tr>\n    <tr>\n      <th>C</th>\n      <td>1.089139</td>\n      <td>-0.421923</td>\n      <td>1.024539</td>\n      <td>-0.590214</td>\n      <td>2.485387</td>\n      <td>-0.474016</td>\n    </tr>\n    <tr>\n      <th>D</th>\n      <td>2.333203</td>\n      <td>-0.842443</td>\n      <td>-1.039642</td>\n      <td>-0.450035</td>\n      <td>0.599805</td>\n      <td>0.696476</td>\n    </tr>\n  </tbody>\n</table>\n</div>"
     },
     "metadata": {},
     "execution_count": 35
    }
   ],
   "source": [
    "df.T"
   ]
  },
  {
   "cell_type": "code",
   "execution_count": 36,
   "metadata": {},
   "outputs": [
    {
     "output_type": "execute_result",
     "data": {
      "text/plain": [
       "                   A         B         C         D\n",
       "2020-01-01 -2.077417 -0.542460  1.089139  2.333203\n",
       "2020-01-02 -0.945321 -0.076810 -0.421923 -0.842443\n",
       "2020-01-04  1.346739 -0.041617 -0.590214 -0.450035\n",
       "2020-01-05  0.004749  0.468859  2.485387  0.599805\n",
       "2020-01-06  0.603749  0.544703 -0.474016  0.696476\n",
       "2020-01-03  0.522865  0.815038  1.024539 -1.039642"
      ],
      "text/html": "<div>\n<style scoped>\n    .dataframe tbody tr th:only-of-type {\n        vertical-align: middle;\n    }\n\n    .dataframe tbody tr th {\n        vertical-align: top;\n    }\n\n    .dataframe thead th {\n        text-align: right;\n    }\n</style>\n<table border=\"1\" class=\"dataframe\">\n  <thead>\n    <tr style=\"text-align: right;\">\n      <th></th>\n      <th>A</th>\n      <th>B</th>\n      <th>C</th>\n      <th>D</th>\n    </tr>\n  </thead>\n  <tbody>\n    <tr>\n      <th>2020-01-01</th>\n      <td>-2.077417</td>\n      <td>-0.542460</td>\n      <td>1.089139</td>\n      <td>2.333203</td>\n    </tr>\n    <tr>\n      <th>2020-01-02</th>\n      <td>-0.945321</td>\n      <td>-0.076810</td>\n      <td>-0.421923</td>\n      <td>-0.842443</td>\n    </tr>\n    <tr>\n      <th>2020-01-04</th>\n      <td>1.346739</td>\n      <td>-0.041617</td>\n      <td>-0.590214</td>\n      <td>-0.450035</td>\n    </tr>\n    <tr>\n      <th>2020-01-05</th>\n      <td>0.004749</td>\n      <td>0.468859</td>\n      <td>2.485387</td>\n      <td>0.599805</td>\n    </tr>\n    <tr>\n      <th>2020-01-06</th>\n      <td>0.603749</td>\n      <td>0.544703</td>\n      <td>-0.474016</td>\n      <td>0.696476</td>\n    </tr>\n    <tr>\n      <th>2020-01-03</th>\n      <td>0.522865</td>\n      <td>0.815038</td>\n      <td>1.024539</td>\n      <td>-1.039642</td>\n    </tr>\n  </tbody>\n</table>\n</div>"
     },
     "metadata": {},
     "execution_count": 36
    }
   ],
   "source": [
    "df.sort_values(by='B')"
   ]
  },
  {
   "cell_type": "code",
   "execution_count": 38,
   "metadata": {},
   "outputs": [
    {
     "output_type": "execute_result",
     "data": {
      "text/plain": [
       "                   A         B         C         D\n",
       "2020-01-01 -2.077417 -0.542460  1.089139  2.333203\n",
       "2020-01-02 -0.945321 -0.076810 -0.421923 -0.842443\n",
       "2020-01-04  1.346739 -0.041617 -0.590214 -0.450035\n",
       "2020-01-05  0.004749  0.468859  2.485387  0.599805\n",
       "2020-01-06  0.603749  0.544703 -0.474016  0.696476\n",
       "2020-01-03  0.522865  0.815038  1.024539 -1.039642"
      ],
      "text/html": "<div>\n<style scoped>\n    .dataframe tbody tr th:only-of-type {\n        vertical-align: middle;\n    }\n\n    .dataframe tbody tr th {\n        vertical-align: top;\n    }\n\n    .dataframe thead th {\n        text-align: right;\n    }\n</style>\n<table border=\"1\" class=\"dataframe\">\n  <thead>\n    <tr style=\"text-align: right;\">\n      <th></th>\n      <th>A</th>\n      <th>B</th>\n      <th>C</th>\n      <th>D</th>\n    </tr>\n  </thead>\n  <tbody>\n    <tr>\n      <th>2020-01-01</th>\n      <td>-2.077417</td>\n      <td>-0.542460</td>\n      <td>1.089139</td>\n      <td>2.333203</td>\n    </tr>\n    <tr>\n      <th>2020-01-02</th>\n      <td>-0.945321</td>\n      <td>-0.076810</td>\n      <td>-0.421923</td>\n      <td>-0.842443</td>\n    </tr>\n    <tr>\n      <th>2020-01-04</th>\n      <td>1.346739</td>\n      <td>-0.041617</td>\n      <td>-0.590214</td>\n      <td>-0.450035</td>\n    </tr>\n    <tr>\n      <th>2020-01-05</th>\n      <td>0.004749</td>\n      <td>0.468859</td>\n      <td>2.485387</td>\n      <td>0.599805</td>\n    </tr>\n    <tr>\n      <th>2020-01-06</th>\n      <td>0.603749</td>\n      <td>0.544703</td>\n      <td>-0.474016</td>\n      <td>0.696476</td>\n    </tr>\n    <tr>\n      <th>2020-01-03</th>\n      <td>0.522865</td>\n      <td>0.815038</td>\n      <td>1.024539</td>\n      <td>-1.039642</td>\n    </tr>\n  </tbody>\n</table>\n</div>"
     },
     "metadata": {},
     "execution_count": 38
    }
   ],
   "source": [
    "df.sort_values(by='B', ascending=True)"
   ]
  },
  {
   "cell_type": "code",
   "execution_count": 39,
   "metadata": {},
   "outputs": [
    {
     "output_type": "execute_result",
     "data": {
      "text/plain": [
       "                   A         B         C         D\n",
       "2020-01-03  0.522865  0.815038  1.024539 -1.039642\n",
       "2020-01-06  0.603749  0.544703 -0.474016  0.696476\n",
       "2020-01-05  0.004749  0.468859  2.485387  0.599805\n",
       "2020-01-04  1.346739 -0.041617 -0.590214 -0.450035\n",
       "2020-01-02 -0.945321 -0.076810 -0.421923 -0.842443\n",
       "2020-01-01 -2.077417 -0.542460  1.089139  2.333203"
      ],
      "text/html": "<div>\n<style scoped>\n    .dataframe tbody tr th:only-of-type {\n        vertical-align: middle;\n    }\n\n    .dataframe tbody tr th {\n        vertical-align: top;\n    }\n\n    .dataframe thead th {\n        text-align: right;\n    }\n</style>\n<table border=\"1\" class=\"dataframe\">\n  <thead>\n    <tr style=\"text-align: right;\">\n      <th></th>\n      <th>A</th>\n      <th>B</th>\n      <th>C</th>\n      <th>D</th>\n    </tr>\n  </thead>\n  <tbody>\n    <tr>\n      <th>2020-01-03</th>\n      <td>0.522865</td>\n      <td>0.815038</td>\n      <td>1.024539</td>\n      <td>-1.039642</td>\n    </tr>\n    <tr>\n      <th>2020-01-06</th>\n      <td>0.603749</td>\n      <td>0.544703</td>\n      <td>-0.474016</td>\n      <td>0.696476</td>\n    </tr>\n    <tr>\n      <th>2020-01-05</th>\n      <td>0.004749</td>\n      <td>0.468859</td>\n      <td>2.485387</td>\n      <td>0.599805</td>\n    </tr>\n    <tr>\n      <th>2020-01-04</th>\n      <td>1.346739</td>\n      <td>-0.041617</td>\n      <td>-0.590214</td>\n      <td>-0.450035</td>\n    </tr>\n    <tr>\n      <th>2020-01-02</th>\n      <td>-0.945321</td>\n      <td>-0.076810</td>\n      <td>-0.421923</td>\n      <td>-0.842443</td>\n    </tr>\n    <tr>\n      <th>2020-01-01</th>\n      <td>-2.077417</td>\n      <td>-0.542460</td>\n      <td>1.089139</td>\n      <td>2.333203</td>\n    </tr>\n  </tbody>\n</table>\n</div>"
     },
     "metadata": {},
     "execution_count": 39
    }
   ],
   "source": [
    "df.sort_values(by='B', ascending=False)"
   ]
  },
  {
   "cell_type": "code",
   "execution_count": 40,
   "metadata": {},
   "outputs": [
    {
     "output_type": "execute_result",
     "data": {
      "text/plain": [
       "                   A         B         C         D\n",
       "2020-01-01 -2.077417 -0.542460  1.089139  2.333203\n",
       "2020-01-02 -0.945321 -0.076810 -0.421923 -0.842443\n",
       "2020-01-03  0.522865  0.815038  1.024539 -1.039642"
      ],
      "text/html": "<div>\n<style scoped>\n    .dataframe tbody tr th:only-of-type {\n        vertical-align: middle;\n    }\n\n    .dataframe tbody tr th {\n        vertical-align: top;\n    }\n\n    .dataframe thead th {\n        text-align: right;\n    }\n</style>\n<table border=\"1\" class=\"dataframe\">\n  <thead>\n    <tr style=\"text-align: right;\">\n      <th></th>\n      <th>A</th>\n      <th>B</th>\n      <th>C</th>\n      <th>D</th>\n    </tr>\n  </thead>\n  <tbody>\n    <tr>\n      <th>2020-01-01</th>\n      <td>-2.077417</td>\n      <td>-0.542460</td>\n      <td>1.089139</td>\n      <td>2.333203</td>\n    </tr>\n    <tr>\n      <th>2020-01-02</th>\n      <td>-0.945321</td>\n      <td>-0.076810</td>\n      <td>-0.421923</td>\n      <td>-0.842443</td>\n    </tr>\n    <tr>\n      <th>2020-01-03</th>\n      <td>0.522865</td>\n      <td>0.815038</td>\n      <td>1.024539</td>\n      <td>-1.039642</td>\n    </tr>\n  </tbody>\n</table>\n</div>"
     },
     "metadata": {},
     "execution_count": 40
    }
   ],
   "source": [
    "df[0:3]"
   ]
  },
  {
   "cell_type": "code",
   "execution_count": 43,
   "metadata": {},
   "outputs": [
    {
     "output_type": "execute_result",
     "data": {
      "text/plain": [
       "                   A         B         C         D\n",
       "2020-01-02 -0.945321 -0.076810 -0.421923 -0.842443\n",
       "2020-01-03  0.522865  0.815038  1.024539 -1.039642\n",
       "2020-01-04  1.346739 -0.041617 -0.590214 -0.450035"
      ],
      "text/html": "<div>\n<style scoped>\n    .dataframe tbody tr th:only-of-type {\n        vertical-align: middle;\n    }\n\n    .dataframe tbody tr th {\n        vertical-align: top;\n    }\n\n    .dataframe thead th {\n        text-align: right;\n    }\n</style>\n<table border=\"1\" class=\"dataframe\">\n  <thead>\n    <tr style=\"text-align: right;\">\n      <th></th>\n      <th>A</th>\n      <th>B</th>\n      <th>C</th>\n      <th>D</th>\n    </tr>\n  </thead>\n  <tbody>\n    <tr>\n      <th>2020-01-02</th>\n      <td>-0.945321</td>\n      <td>-0.076810</td>\n      <td>-0.421923</td>\n      <td>-0.842443</td>\n    </tr>\n    <tr>\n      <th>2020-01-03</th>\n      <td>0.522865</td>\n      <td>0.815038</td>\n      <td>1.024539</td>\n      <td>-1.039642</td>\n    </tr>\n    <tr>\n      <th>2020-01-04</th>\n      <td>1.346739</td>\n      <td>-0.041617</td>\n      <td>-0.590214</td>\n      <td>-0.450035</td>\n    </tr>\n  </tbody>\n</table>\n</div>"
     },
     "metadata": {},
     "execution_count": 43
    }
   ],
   "source": [
    "df['20200102': '20200104']"
   ]
  },
  {
   "cell_type": "code",
   "execution_count": 44,
   "metadata": {},
   "outputs": [
    {
     "output_type": "execute_result",
     "data": {
      "text/plain": [
       "   2020-01-02  2020-01-03  2020-01-04\n",
       "A   -0.945321    0.522865    1.346739\n",
       "B   -0.076810    0.815038   -0.041617\n",
       "C   -0.421923    1.024539   -0.590214\n",
       "D   -0.842443   -1.039642   -0.450035"
      ],
      "text/html": "<div>\n<style scoped>\n    .dataframe tbody tr th:only-of-type {\n        vertical-align: middle;\n    }\n\n    .dataframe tbody tr th {\n        vertical-align: top;\n    }\n\n    .dataframe thead th {\n        text-align: right;\n    }\n</style>\n<table border=\"1\" class=\"dataframe\">\n  <thead>\n    <tr style=\"text-align: right;\">\n      <th></th>\n      <th>2020-01-02 00:00:00</th>\n      <th>2020-01-03 00:00:00</th>\n      <th>2020-01-04 00:00:00</th>\n    </tr>\n  </thead>\n  <tbody>\n    <tr>\n      <th>A</th>\n      <td>-0.945321</td>\n      <td>0.522865</td>\n      <td>1.346739</td>\n    </tr>\n    <tr>\n      <th>B</th>\n      <td>-0.076810</td>\n      <td>0.815038</td>\n      <td>-0.041617</td>\n    </tr>\n    <tr>\n      <th>C</th>\n      <td>-0.421923</td>\n      <td>1.024539</td>\n      <td>-0.590214</td>\n    </tr>\n    <tr>\n      <th>D</th>\n      <td>-0.842443</td>\n      <td>-1.039642</td>\n      <td>-0.450035</td>\n    </tr>\n  </tbody>\n</table>\n</div>"
     },
     "metadata": {},
     "execution_count": 44
    }
   ],
   "source": [
    "df['20200102': '20200104'].T\n"
   ]
  },
  {
   "cell_type": "code",
   "execution_count": 45,
   "metadata": {},
   "outputs": [
    {
     "output_type": "execute_result",
     "data": {
      "text/plain": [
       "A    1.346739\n",
       "B   -0.041617\n",
       "C   -0.590214\n",
       "D   -0.450035\n",
       "Name: 2020-01-04 00:00:00, dtype: float64"
      ]
     },
     "metadata": {},
     "execution_count": 45
    }
   ],
   "source": [
    "df.loc['20200104']"
   ]
  },
  {
   "cell_type": "code",
   "execution_count": 46,
   "metadata": {},
   "outputs": [
    {
     "output_type": "execute_result",
     "data": {
      "text/plain": [
       "A   -0.945321\n",
       "B   -0.076810\n",
       "Name: 2020-01-02 00:00:00, dtype: float64"
      ]
     },
     "metadata": {},
     "execution_count": 46
    }
   ],
   "source": [
    "df.loc['20200102', ['A','B']]"
   ]
  },
  {
   "cell_type": "code",
   "execution_count": 48,
   "metadata": {},
   "outputs": [
    {
     "output_type": "execute_result",
     "data": {
      "text/plain": [
       "-0.5110653968242503"
      ]
     },
     "metadata": {},
     "execution_count": 48
    }
   ],
   "source": [
    "df.loc['20200102', ['A','B']].mean()\n"
   ]
  },
  {
   "cell_type": "code",
   "execution_count": 49,
   "metadata": {},
   "outputs": [
    {
     "output_type": "execute_result",
     "data": {
      "text/plain": [
       "                   A         B\n",
       "2020-01-02 -0.945321 -0.076810\n",
       "2020-01-03  0.522865  0.815038\n",
       "2020-01-04  1.346739 -0.041617"
      ],
      "text/html": "<div>\n<style scoped>\n    .dataframe tbody tr th:only-of-type {\n        vertical-align: middle;\n    }\n\n    .dataframe tbody tr th {\n        vertical-align: top;\n    }\n\n    .dataframe thead th {\n        text-align: right;\n    }\n</style>\n<table border=\"1\" class=\"dataframe\">\n  <thead>\n    <tr style=\"text-align: right;\">\n      <th></th>\n      <th>A</th>\n      <th>B</th>\n    </tr>\n  </thead>\n  <tbody>\n    <tr>\n      <th>2020-01-02</th>\n      <td>-0.945321</td>\n      <td>-0.076810</td>\n    </tr>\n    <tr>\n      <th>2020-01-03</th>\n      <td>0.522865</td>\n      <td>0.815038</td>\n    </tr>\n    <tr>\n      <th>2020-01-04</th>\n      <td>1.346739</td>\n      <td>-0.041617</td>\n    </tr>\n  </tbody>\n</table>\n</div>"
     },
     "metadata": {},
     "execution_count": 49
    }
   ],
   "source": [
    "df.loc['20200102':'20200104', ['A','B']]"
   ]
  },
  {
   "cell_type": "code",
   "execution_count": 51,
   "metadata": {},
   "outputs": [
    {
     "output_type": "execute_result",
     "data": {
      "text/plain": [
       "                   A         B\n",
       "2020-01-01 -2.077417 -0.542460\n",
       "2020-01-02 -0.945321 -0.076810\n",
       "2020-01-03  0.522865  0.815038\n",
       "2020-01-04  1.346739 -0.041617\n",
       "2020-01-05  0.004749  0.468859\n",
       "2020-01-06  0.603749  0.544703"
      ],
      "text/html": "<div>\n<style scoped>\n    .dataframe tbody tr th:only-of-type {\n        vertical-align: middle;\n    }\n\n    .dataframe tbody tr th {\n        vertical-align: top;\n    }\n\n    .dataframe thead th {\n        text-align: right;\n    }\n</style>\n<table border=\"1\" class=\"dataframe\">\n  <thead>\n    <tr style=\"text-align: right;\">\n      <th></th>\n      <th>A</th>\n      <th>B</th>\n    </tr>\n  </thead>\n  <tbody>\n    <tr>\n      <th>2020-01-01</th>\n      <td>-2.077417</td>\n      <td>-0.542460</td>\n    </tr>\n    <tr>\n      <th>2020-01-02</th>\n      <td>-0.945321</td>\n      <td>-0.076810</td>\n    </tr>\n    <tr>\n      <th>2020-01-03</th>\n      <td>0.522865</td>\n      <td>0.815038</td>\n    </tr>\n    <tr>\n      <th>2020-01-04</th>\n      <td>1.346739</td>\n      <td>-0.041617</td>\n    </tr>\n    <tr>\n      <th>2020-01-05</th>\n      <td>0.004749</td>\n      <td>0.468859</td>\n    </tr>\n    <tr>\n      <th>2020-01-06</th>\n      <td>0.603749</td>\n      <td>0.544703</td>\n    </tr>\n  </tbody>\n</table>\n</div>"
     },
     "metadata": {},
     "execution_count": 51
    }
   ],
   "source": [
    "df.loc[:,['A','B']]"
   ]
  },
  {
   "cell_type": "code",
   "execution_count": 52,
   "metadata": {},
   "outputs": [
    {
     "output_type": "execute_result",
     "data": {
      "text/plain": [
       "A   -2.077417\n",
       "B   -0.542460\n",
       "C    1.089139\n",
       "D    2.333203\n",
       "Name: 2020-01-01 00:00:00, dtype: float64"
      ]
     },
     "metadata": {},
     "execution_count": 52
    }
   ],
   "source": [
    "df.iloc[0]"
   ]
  },
  {
   "cell_type": "code",
   "execution_count": 53,
   "metadata": {},
   "outputs": [
    {
     "output_type": "execute_result",
     "data": {
      "text/plain": [
       "                   A        B         C         D\n",
       "2020-01-01 -2.077417 -0.54246  1.089139  2.333203\n",
       "2020-01-02 -0.945321 -0.07681 -0.421923 -0.842443"
      ],
      "text/html": "<div>\n<style scoped>\n    .dataframe tbody tr th:only-of-type {\n        vertical-align: middle;\n    }\n\n    .dataframe tbody tr th {\n        vertical-align: top;\n    }\n\n    .dataframe thead th {\n        text-align: right;\n    }\n</style>\n<table border=\"1\" class=\"dataframe\">\n  <thead>\n    <tr style=\"text-align: right;\">\n      <th></th>\n      <th>A</th>\n      <th>B</th>\n      <th>C</th>\n      <th>D</th>\n    </tr>\n  </thead>\n  <tbody>\n    <tr>\n      <th>2020-01-01</th>\n      <td>-2.077417</td>\n      <td>-0.54246</td>\n      <td>1.089139</td>\n      <td>2.333203</td>\n    </tr>\n    <tr>\n      <th>2020-01-02</th>\n      <td>-0.945321</td>\n      <td>-0.07681</td>\n      <td>-0.421923</td>\n      <td>-0.842443</td>\n    </tr>\n  </tbody>\n</table>\n</div>"
     },
     "metadata": {},
     "execution_count": 53
    }
   ],
   "source": [
    "df.iloc[0:2]"
   ]
  },
  {
   "cell_type": "code",
   "execution_count": 54,
   "metadata": {},
   "outputs": [
    {
     "output_type": "execute_result",
     "data": {
      "text/plain": [
       "A    0.603749\n",
       "B    0.544703\n",
       "C   -0.474016\n",
       "D    0.696476\n",
       "Name: 2020-01-06 00:00:00, dtype: float64"
      ]
     },
     "metadata": {},
     "execution_count": 54
    }
   ],
   "source": [
    "df.iloc[-1]"
   ]
  },
  {
   "cell_type": "code",
   "execution_count": 55,
   "metadata": {},
   "outputs": [
    {
     "output_type": "execute_result",
     "data": {
      "text/plain": [
       "                   A         B         C         D\n",
       "2020-01-01 -2.077417 -0.542460  1.089139  2.333203\n",
       "2020-01-02 -0.945321 -0.076810 -0.421923 -0.842443\n",
       "2020-01-03  0.522865  0.815038  1.024539 -1.039642\n",
       "2020-01-04  1.346739 -0.041617 -0.590214 -0.450035\n",
       "2020-01-05  0.004749  0.468859  2.485387  0.599805\n",
       "2020-01-06  0.603749  0.544703 -0.474016  0.696476"
      ],
      "text/html": "<div>\n<style scoped>\n    .dataframe tbody tr th:only-of-type {\n        vertical-align: middle;\n    }\n\n    .dataframe tbody tr th {\n        vertical-align: top;\n    }\n\n    .dataframe thead th {\n        text-align: right;\n    }\n</style>\n<table border=\"1\" class=\"dataframe\">\n  <thead>\n    <tr style=\"text-align: right;\">\n      <th></th>\n      <th>A</th>\n      <th>B</th>\n      <th>C</th>\n      <th>D</th>\n    </tr>\n  </thead>\n  <tbody>\n    <tr>\n      <th>2020-01-01</th>\n      <td>-2.077417</td>\n      <td>-0.542460</td>\n      <td>1.089139</td>\n      <td>2.333203</td>\n    </tr>\n    <tr>\n      <th>2020-01-02</th>\n      <td>-0.945321</td>\n      <td>-0.076810</td>\n      <td>-0.421923</td>\n      <td>-0.842443</td>\n    </tr>\n    <tr>\n      <th>2020-01-03</th>\n      <td>0.522865</td>\n      <td>0.815038</td>\n      <td>1.024539</td>\n      <td>-1.039642</td>\n    </tr>\n    <tr>\n      <th>2020-01-04</th>\n      <td>1.346739</td>\n      <td>-0.041617</td>\n      <td>-0.590214</td>\n      <td>-0.450035</td>\n    </tr>\n    <tr>\n      <th>2020-01-05</th>\n      <td>0.004749</td>\n      <td>0.468859</td>\n      <td>2.485387</td>\n      <td>0.599805</td>\n    </tr>\n    <tr>\n      <th>2020-01-06</th>\n      <td>0.603749</td>\n      <td>0.544703</td>\n      <td>-0.474016</td>\n      <td>0.696476</td>\n    </tr>\n  </tbody>\n</table>\n</div>"
     },
     "metadata": {},
     "execution_count": 55
    }
   ],
   "source": [
    "df"
   ]
  },
  {
   "cell_type": "code",
   "execution_count": 56,
   "metadata": {},
   "outputs": [
    {
     "output_type": "execute_result",
     "data": {
      "text/plain": [
       "                  B\n",
       "2020-01-01 -0.54246\n",
       "2020-01-02 -0.07681"
      ],
      "text/html": "<div>\n<style scoped>\n    .dataframe tbody tr th:only-of-type {\n        vertical-align: middle;\n    }\n\n    .dataframe tbody tr th {\n        vertical-align: top;\n    }\n\n    .dataframe thead th {\n        text-align: right;\n    }\n</style>\n<table border=\"1\" class=\"dataframe\">\n  <thead>\n    <tr style=\"text-align: right;\">\n      <th></th>\n      <th>B</th>\n    </tr>\n  </thead>\n  <tbody>\n    <tr>\n      <th>2020-01-01</th>\n      <td>-0.54246</td>\n    </tr>\n    <tr>\n      <th>2020-01-02</th>\n      <td>-0.07681</td>\n    </tr>\n  </tbody>\n</table>\n</div>"
     },
     "metadata": {},
     "execution_count": 56
    }
   ],
   "source": [
    "df.iloc[0:2,1:2]"
   ]
  },
  {
   "cell_type": "code",
   "execution_count": 59,
   "metadata": {},
   "outputs": [
    {
     "output_type": "execute_result",
     "data": {
      "text/plain": [
       "                   A         B         C         D\n",
       "2020-01-03  0.522865  0.815038  1.024539 -1.039642\n",
       "2020-01-05  0.004749  0.468859  2.485387  0.599805\n",
       "2020-01-06  0.603749  0.544703 -0.474016  0.696476"
      ],
      "text/html": "<div>\n<style scoped>\n    .dataframe tbody tr th:only-of-type {\n        vertical-align: middle;\n    }\n\n    .dataframe tbody tr th {\n        vertical-align: top;\n    }\n\n    .dataframe thead th {\n        text-align: right;\n    }\n</style>\n<table border=\"1\" class=\"dataframe\">\n  <thead>\n    <tr style=\"text-align: right;\">\n      <th></th>\n      <th>A</th>\n      <th>B</th>\n      <th>C</th>\n      <th>D</th>\n    </tr>\n  </thead>\n  <tbody>\n    <tr>\n      <th>2020-01-03</th>\n      <td>0.522865</td>\n      <td>0.815038</td>\n      <td>1.024539</td>\n      <td>-1.039642</td>\n    </tr>\n    <tr>\n      <th>2020-01-05</th>\n      <td>0.004749</td>\n      <td>0.468859</td>\n      <td>2.485387</td>\n      <td>0.599805</td>\n    </tr>\n    <tr>\n      <th>2020-01-06</th>\n      <td>0.603749</td>\n      <td>0.544703</td>\n      <td>-0.474016</td>\n      <td>0.696476</td>\n    </tr>\n  </tbody>\n</table>\n</div>"
     },
     "metadata": {},
     "execution_count": 59
    }
   ],
   "source": [
    "df[df.B > 0]"
   ]
  },
  {
   "cell_type": "code",
   "execution_count": 60,
   "metadata": {},
   "outputs": [
    {
     "output_type": "execute_result",
     "data": {
      "text/plain": [
       "                   A         B         C         D\n",
       "2020-01-01 -2.077417 -0.542460  1.089139  2.333203\n",
       "2020-01-02 -0.945321 -0.076810 -0.421923 -0.842443\n",
       "2020-01-04  1.346739 -0.041617 -0.590214 -0.450035"
      ],
      "text/html": "<div>\n<style scoped>\n    .dataframe tbody tr th:only-of-type {\n        vertical-align: middle;\n    }\n\n    .dataframe tbody tr th {\n        vertical-align: top;\n    }\n\n    .dataframe thead th {\n        text-align: right;\n    }\n</style>\n<table border=\"1\" class=\"dataframe\">\n  <thead>\n    <tr style=\"text-align: right;\">\n      <th></th>\n      <th>A</th>\n      <th>B</th>\n      <th>C</th>\n      <th>D</th>\n    </tr>\n  </thead>\n  <tbody>\n    <tr>\n      <th>2020-01-01</th>\n      <td>-2.077417</td>\n      <td>-0.542460</td>\n      <td>1.089139</td>\n      <td>2.333203</td>\n    </tr>\n    <tr>\n      <th>2020-01-02</th>\n      <td>-0.945321</td>\n      <td>-0.076810</td>\n      <td>-0.421923</td>\n      <td>-0.842443</td>\n    </tr>\n    <tr>\n      <th>2020-01-04</th>\n      <td>1.346739</td>\n      <td>-0.041617</td>\n      <td>-0.590214</td>\n      <td>-0.450035</td>\n    </tr>\n  </tbody>\n</table>\n</div>"
     },
     "metadata": {},
     "execution_count": 60
    }
   ],
   "source": [
    "df[df.B < 0]"
   ]
  },
  {
   "cell_type": "code",
   "execution_count": 61,
   "metadata": {},
   "outputs": [
    {
     "output_type": "execute_result",
     "data": {
      "text/plain": [
       "2020-01-01   -0.542460\n",
       "2020-01-02   -0.076810\n",
       "2020-01-03    0.815038\n",
       "2020-01-04   -0.041617\n",
       "2020-01-05    0.468859\n",
       "2020-01-06    0.544703\n",
       "Freq: D, Name: B, dtype: float64"
      ]
     },
     "metadata": {},
     "execution_count": 61
    }
   ],
   "source": [
    "df['B']"
   ]
  },
  {
   "cell_type": "code",
   "execution_count": 62,
   "metadata": {},
   "outputs": [
    {
     "output_type": "execute_result",
     "data": {
      "text/plain": [
       "                   A         B         C         D\n",
       "2020-01-01 -2.077417 -0.542460  1.089139  2.333203\n",
       "2020-01-02 -0.945321 -0.076810 -0.421923 -0.842443\n",
       "2020-01-03  0.522865  0.815038  1.024539 -1.039642\n",
       "2020-01-04  1.346739 -0.041617 -0.590214 -0.450035\n",
       "2020-01-05  0.004749  0.468859  2.485387  0.599805\n",
       "2020-01-06  0.603749  0.544703 -0.474016  0.696476"
      ],
      "text/html": "<div>\n<style scoped>\n    .dataframe tbody tr th:only-of-type {\n        vertical-align: middle;\n    }\n\n    .dataframe tbody tr th {\n        vertical-align: top;\n    }\n\n    .dataframe thead th {\n        text-align: right;\n    }\n</style>\n<table border=\"1\" class=\"dataframe\">\n  <thead>\n    <tr style=\"text-align: right;\">\n      <th></th>\n      <th>A</th>\n      <th>B</th>\n      <th>C</th>\n      <th>D</th>\n    </tr>\n  </thead>\n  <tbody>\n    <tr>\n      <th>2020-01-01</th>\n      <td>-2.077417</td>\n      <td>-0.542460</td>\n      <td>1.089139</td>\n      <td>2.333203</td>\n    </tr>\n    <tr>\n      <th>2020-01-02</th>\n      <td>-0.945321</td>\n      <td>-0.076810</td>\n      <td>-0.421923</td>\n      <td>-0.842443</td>\n    </tr>\n    <tr>\n      <th>2020-01-03</th>\n      <td>0.522865</td>\n      <td>0.815038</td>\n      <td>1.024539</td>\n      <td>-1.039642</td>\n    </tr>\n    <tr>\n      <th>2020-01-04</th>\n      <td>1.346739</td>\n      <td>-0.041617</td>\n      <td>-0.590214</td>\n      <td>-0.450035</td>\n    </tr>\n    <tr>\n      <th>2020-01-05</th>\n      <td>0.004749</td>\n      <td>0.468859</td>\n      <td>2.485387</td>\n      <td>0.599805</td>\n    </tr>\n    <tr>\n      <th>2020-01-06</th>\n      <td>0.603749</td>\n      <td>0.544703</td>\n      <td>-0.474016</td>\n      <td>0.696476</td>\n    </tr>\n  </tbody>\n</table>\n</div>"
     },
     "metadata": {},
     "execution_count": 62
    }
   ],
   "source": [
    "df"
   ]
  },
  {
   "cell_type": "code",
   "execution_count": 64,
   "metadata": {},
   "outputs": [],
   "source": [
    "df2 = df.copy()\n",
    "df2['E'] = ['one', 'one', 'tow', 'three', 'foir', 'three']"
   ]
  },
  {
   "cell_type": "code",
   "execution_count": 65,
   "metadata": {},
   "outputs": [
    {
     "output_type": "execute_result",
     "data": {
      "text/plain": [
       "                   A         B         C         D      E\n",
       "2020-01-01 -2.077417 -0.542460  1.089139  2.333203    one\n",
       "2020-01-02 -0.945321 -0.076810 -0.421923 -0.842443    one\n",
       "2020-01-03  0.522865  0.815038  1.024539 -1.039642    tow\n",
       "2020-01-04  1.346739 -0.041617 -0.590214 -0.450035  three\n",
       "2020-01-05  0.004749  0.468859  2.485387  0.599805   foir\n",
       "2020-01-06  0.603749  0.544703 -0.474016  0.696476  three"
      ],
      "text/html": "<div>\n<style scoped>\n    .dataframe tbody tr th:only-of-type {\n        vertical-align: middle;\n    }\n\n    .dataframe tbody tr th {\n        vertical-align: top;\n    }\n\n    .dataframe thead th {\n        text-align: right;\n    }\n</style>\n<table border=\"1\" class=\"dataframe\">\n  <thead>\n    <tr style=\"text-align: right;\">\n      <th></th>\n      <th>A</th>\n      <th>B</th>\n      <th>C</th>\n      <th>D</th>\n      <th>E</th>\n    </tr>\n  </thead>\n  <tbody>\n    <tr>\n      <th>2020-01-01</th>\n      <td>-2.077417</td>\n      <td>-0.542460</td>\n      <td>1.089139</td>\n      <td>2.333203</td>\n      <td>one</td>\n    </tr>\n    <tr>\n      <th>2020-01-02</th>\n      <td>-0.945321</td>\n      <td>-0.076810</td>\n      <td>-0.421923</td>\n      <td>-0.842443</td>\n      <td>one</td>\n    </tr>\n    <tr>\n      <th>2020-01-03</th>\n      <td>0.522865</td>\n      <td>0.815038</td>\n      <td>1.024539</td>\n      <td>-1.039642</td>\n      <td>tow</td>\n    </tr>\n    <tr>\n      <th>2020-01-04</th>\n      <td>1.346739</td>\n      <td>-0.041617</td>\n      <td>-0.590214</td>\n      <td>-0.450035</td>\n      <td>three</td>\n    </tr>\n    <tr>\n      <th>2020-01-05</th>\n      <td>0.004749</td>\n      <td>0.468859</td>\n      <td>2.485387</td>\n      <td>0.599805</td>\n      <td>foir</td>\n    </tr>\n    <tr>\n      <th>2020-01-06</th>\n      <td>0.603749</td>\n      <td>0.544703</td>\n      <td>-0.474016</td>\n      <td>0.696476</td>\n      <td>three</td>\n    </tr>\n  </tbody>\n</table>\n</div>"
     },
     "metadata": {},
     "execution_count": 65
    }
   ],
   "source": [
    "df2"
   ]
  },
  {
   "cell_type": "code",
   "execution_count": 70,
   "metadata": {},
   "outputs": [],
   "source": [
    "df2['E'][2] = 'two'"
   ]
  },
  {
   "cell_type": "code",
   "execution_count": 71,
   "metadata": {},
   "outputs": [
    {
     "output_type": "execute_result",
     "data": {
      "text/plain": [
       "'two'"
      ]
     },
     "metadata": {},
     "execution_count": 71
    }
   ],
   "source": [
    "df2['E'][2]"
   ]
  },
  {
   "cell_type": "code",
   "execution_count": 74,
   "metadata": {},
   "outputs": [
    {
     "output_type": "execute_result",
     "data": {
      "text/plain": [
       "                   A        B         C         D    E\n",
       "2020-01-01 -2.077417 -0.54246  1.089139  2.333203  one\n",
       "2020-01-02 -0.945321 -0.07681 -0.421923 -0.842443  one"
      ],
      "text/html": "<div>\n<style scoped>\n    .dataframe tbody tr th:only-of-type {\n        vertical-align: middle;\n    }\n\n    .dataframe tbody tr th {\n        vertical-align: top;\n    }\n\n    .dataframe thead th {\n        text-align: right;\n    }\n</style>\n<table border=\"1\" class=\"dataframe\">\n  <thead>\n    <tr style=\"text-align: right;\">\n      <th></th>\n      <th>A</th>\n      <th>B</th>\n      <th>C</th>\n      <th>D</th>\n      <th>E</th>\n    </tr>\n  </thead>\n  <tbody>\n    <tr>\n      <th>2020-01-01</th>\n      <td>-2.077417</td>\n      <td>-0.54246</td>\n      <td>1.089139</td>\n      <td>2.333203</td>\n      <td>one</td>\n    </tr>\n    <tr>\n      <th>2020-01-02</th>\n      <td>-0.945321</td>\n      <td>-0.07681</td>\n      <td>-0.421923</td>\n      <td>-0.842443</td>\n      <td>one</td>\n    </tr>\n  </tbody>\n</table>\n</div>"
     },
     "metadata": {},
     "execution_count": 74
    }
   ],
   "source": [
    "df2[df2['E'].isin(['one'])]"
   ]
  },
  {
   "cell_type": "code",
   "execution_count": 77,
   "metadata": {},
   "outputs": [
    {
     "output_type": "execute_result",
     "data": {
      "text/plain": [
       "                   A         B         C         D    E\n",
       "2020-01-01 -2.077417 -0.542460  1.089139  2.333203  one\n",
       "2020-01-02 -0.945321 -0.076810 -0.421923 -0.842443  one\n",
       "2020-01-03  0.522865  0.815038  1.024539 -1.039642  two"
      ],
      "text/html": "<div>\n<style scoped>\n    .dataframe tbody tr th:only-of-type {\n        vertical-align: middle;\n    }\n\n    .dataframe tbody tr th {\n        vertical-align: top;\n    }\n\n    .dataframe thead th {\n        text-align: right;\n    }\n</style>\n<table border=\"1\" class=\"dataframe\">\n  <thead>\n    <tr style=\"text-align: right;\">\n      <th></th>\n      <th>A</th>\n      <th>B</th>\n      <th>C</th>\n      <th>D</th>\n      <th>E</th>\n    </tr>\n  </thead>\n  <tbody>\n    <tr>\n      <th>2020-01-01</th>\n      <td>-2.077417</td>\n      <td>-0.542460</td>\n      <td>1.089139</td>\n      <td>2.333203</td>\n      <td>one</td>\n    </tr>\n    <tr>\n      <th>2020-01-02</th>\n      <td>-0.945321</td>\n      <td>-0.076810</td>\n      <td>-0.421923</td>\n      <td>-0.842443</td>\n      <td>one</td>\n    </tr>\n    <tr>\n      <th>2020-01-03</th>\n      <td>0.522865</td>\n      <td>0.815038</td>\n      <td>1.024539</td>\n      <td>-1.039642</td>\n      <td>two</td>\n    </tr>\n  </tbody>\n</table>\n</div>"
     },
     "metadata": {},
     "execution_count": 77
    }
   ],
   "source": [
    "df2[df2['E'].isin(['one','two'])]"
   ]
  },
  {
   "cell_type": "code",
   "execution_count": 78,
   "metadata": {},
   "outputs": [
    {
     "output_type": "execute_result",
     "data": {
      "text/plain": [
       "2020-01-01     True\n",
       "2020-01-02     True\n",
       "2020-01-03     True\n",
       "2020-01-04    False\n",
       "2020-01-05    False\n",
       "2020-01-06    False\n",
       "Freq: D, Name: E, dtype: bool"
      ]
     },
     "metadata": {},
     "execution_count": 78
    }
   ],
   "source": [
    "df2['E'].isin(['one','two'])"
   ]
  },
  {
   "cell_type": "code",
   "execution_count": 79,
   "metadata": {},
   "outputs": [],
   "source": [
    "s = pd.Series([1,2,3,4,5,6], index=pd.date_range('20200101', periods=6))"
   ]
  },
  {
   "cell_type": "code",
   "execution_count": 80,
   "metadata": {},
   "outputs": [
    {
     "output_type": "execute_result",
     "data": {
      "text/plain": [
       "2020-01-01    1\n",
       "2020-01-02    2\n",
       "2020-01-03    3\n",
       "2020-01-04    4\n",
       "2020-01-05    5\n",
       "2020-01-06    6\n",
       "Freq: D, dtype: int64"
      ]
     },
     "metadata": {},
     "execution_count": 80
    }
   ],
   "source": [
    "s"
   ]
  },
  {
   "cell_type": "code",
   "execution_count": 83,
   "metadata": {},
   "outputs": [],
   "source": [
    "df['E'] = s"
   ]
  },
  {
   "cell_type": "code",
   "execution_count": 84,
   "metadata": {},
   "outputs": [
    {
     "output_type": "execute_result",
     "data": {
      "text/plain": [
       "                   A         B         C         D  E\n",
       "2020-01-01 -2.077417 -0.542460  1.089139  2.333203  1\n",
       "2020-01-02 -0.945321 -0.076810 -0.421923 -0.842443  2\n",
       "2020-01-03  0.522865  0.815038  1.024539 -1.039642  3\n",
       "2020-01-04  1.346739 -0.041617 -0.590214 -0.450035  4\n",
       "2020-01-05  0.004749  0.468859  2.485387  0.599805  5\n",
       "2020-01-06  0.603749  0.544703 -0.474016  0.696476  6"
      ],
      "text/html": "<div>\n<style scoped>\n    .dataframe tbody tr th:only-of-type {\n        vertical-align: middle;\n    }\n\n    .dataframe tbody tr th {\n        vertical-align: top;\n    }\n\n    .dataframe thead th {\n        text-align: right;\n    }\n</style>\n<table border=\"1\" class=\"dataframe\">\n  <thead>\n    <tr style=\"text-align: right;\">\n      <th></th>\n      <th>A</th>\n      <th>B</th>\n      <th>C</th>\n      <th>D</th>\n      <th>E</th>\n    </tr>\n  </thead>\n  <tbody>\n    <tr>\n      <th>2020-01-01</th>\n      <td>-2.077417</td>\n      <td>-0.542460</td>\n      <td>1.089139</td>\n      <td>2.333203</td>\n      <td>1</td>\n    </tr>\n    <tr>\n      <th>2020-01-02</th>\n      <td>-0.945321</td>\n      <td>-0.076810</td>\n      <td>-0.421923</td>\n      <td>-0.842443</td>\n      <td>2</td>\n    </tr>\n    <tr>\n      <th>2020-01-03</th>\n      <td>0.522865</td>\n      <td>0.815038</td>\n      <td>1.024539</td>\n      <td>-1.039642</td>\n      <td>3</td>\n    </tr>\n    <tr>\n      <th>2020-01-04</th>\n      <td>1.346739</td>\n      <td>-0.041617</td>\n      <td>-0.590214</td>\n      <td>-0.450035</td>\n      <td>4</td>\n    </tr>\n    <tr>\n      <th>2020-01-05</th>\n      <td>0.004749</td>\n      <td>0.468859</td>\n      <td>2.485387</td>\n      <td>0.599805</td>\n      <td>5</td>\n    </tr>\n    <tr>\n      <th>2020-01-06</th>\n      <td>0.603749</td>\n      <td>0.544703</td>\n      <td>-0.474016</td>\n      <td>0.696476</td>\n      <td>6</td>\n    </tr>\n  </tbody>\n</table>\n</div>"
     },
     "metadata": {},
     "execution_count": 84
    }
   ],
   "source": [
    "df"
   ]
  },
  {
   "cell_type": "code",
   "execution_count": 85,
   "metadata": {},
   "outputs": [
    {
     "output_type": "execute_result",
     "data": {
      "text/plain": [
       "                   A         B         C         D    E\n",
       "2020-01-01       NaN       NaN       NaN       NaN  NaN\n",
       "2020-01-02 -2.077417 -0.542460  1.089139  2.333203  1.0\n",
       "2020-01-03 -0.945321 -0.076810 -0.421923 -0.842443  2.0\n",
       "2020-01-04  0.522865  0.815038  1.024539 -1.039642  3.0\n",
       "2020-01-05  1.346739 -0.041617 -0.590214 -0.450035  4.0\n",
       "2020-01-06  0.004749  0.468859  2.485387  0.599805  5.0"
      ],
      "text/html": "<div>\n<style scoped>\n    .dataframe tbody tr th:only-of-type {\n        vertical-align: middle;\n    }\n\n    .dataframe tbody tr th {\n        vertical-align: top;\n    }\n\n    .dataframe thead th {\n        text-align: right;\n    }\n</style>\n<table border=\"1\" class=\"dataframe\">\n  <thead>\n    <tr style=\"text-align: right;\">\n      <th></th>\n      <th>A</th>\n      <th>B</th>\n      <th>C</th>\n      <th>D</th>\n      <th>E</th>\n    </tr>\n  </thead>\n  <tbody>\n    <tr>\n      <th>2020-01-01</th>\n      <td>NaN</td>\n      <td>NaN</td>\n      <td>NaN</td>\n      <td>NaN</td>\n      <td>NaN</td>\n    </tr>\n    <tr>\n      <th>2020-01-02</th>\n      <td>-2.077417</td>\n      <td>-0.542460</td>\n      <td>1.089139</td>\n      <td>2.333203</td>\n      <td>1.0</td>\n    </tr>\n    <tr>\n      <th>2020-01-03</th>\n      <td>-0.945321</td>\n      <td>-0.076810</td>\n      <td>-0.421923</td>\n      <td>-0.842443</td>\n      <td>2.0</td>\n    </tr>\n    <tr>\n      <th>2020-01-04</th>\n      <td>0.522865</td>\n      <td>0.815038</td>\n      <td>1.024539</td>\n      <td>-1.039642</td>\n      <td>3.0</td>\n    </tr>\n    <tr>\n      <th>2020-01-05</th>\n      <td>1.346739</td>\n      <td>-0.041617</td>\n      <td>-0.590214</td>\n      <td>-0.450035</td>\n      <td>4.0</td>\n    </tr>\n    <tr>\n      <th>2020-01-06</th>\n      <td>0.004749</td>\n      <td>0.468859</td>\n      <td>2.485387</td>\n      <td>0.599805</td>\n      <td>5.0</td>\n    </tr>\n  </tbody>\n</table>\n</div>"
     },
     "metadata": {},
     "execution_count": 85
    }
   ],
   "source": [
    "df.shift(1)"
   ]
  },
  {
   "cell_type": "code",
   "execution_count": 86,
   "metadata": {},
   "outputs": [],
   "source": [
    "df = pd.DataFrame(np.random.randn(2,2))"
   ]
  },
  {
   "cell_type": "code",
   "execution_count": 87,
   "metadata": {},
   "outputs": [
    {
     "output_type": "execute_result",
     "data": {
      "text/plain": [
       "          0         1\n",
       "0 -0.157526 -1.525802\n",
       "1  1.956940 -0.736937"
      ],
      "text/html": "<div>\n<style scoped>\n    .dataframe tbody tr th:only-of-type {\n        vertical-align: middle;\n    }\n\n    .dataframe tbody tr th {\n        vertical-align: top;\n    }\n\n    .dataframe thead th {\n        text-align: right;\n    }\n</style>\n<table border=\"1\" class=\"dataframe\">\n  <thead>\n    <tr style=\"text-align: right;\">\n      <th></th>\n      <th>0</th>\n      <th>1</th>\n    </tr>\n  </thead>\n  <tbody>\n    <tr>\n      <th>0</th>\n      <td>-0.157526</td>\n      <td>-1.525802</td>\n    </tr>\n    <tr>\n      <th>1</th>\n      <td>1.956940</td>\n      <td>-0.736937</td>\n    </tr>\n  </tbody>\n</table>\n</div>"
     },
     "metadata": {},
     "execution_count": 87
    }
   ],
   "source": [
    "df"
   ]
  },
  {
   "cell_type": "code",
   "execution_count": 88,
   "metadata": {},
   "outputs": [
    {
     "output_type": "execute_result",
     "data": {
      "text/plain": [
       "          0         1\n",
       "0 -0.157526 -1.525802\n",
       "1  1.956940 -0.736937\n",
       "0 -0.157526 -1.525802\n",
       "1  1.956940 -0.736937"
      ],
      "text/html": "<div>\n<style scoped>\n    .dataframe tbody tr th:only-of-type {\n        vertical-align: middle;\n    }\n\n    .dataframe tbody tr th {\n        vertical-align: top;\n    }\n\n    .dataframe thead th {\n        text-align: right;\n    }\n</style>\n<table border=\"1\" class=\"dataframe\">\n  <thead>\n    <tr style=\"text-align: right;\">\n      <th></th>\n      <th>0</th>\n      <th>1</th>\n    </tr>\n  </thead>\n  <tbody>\n    <tr>\n      <th>0</th>\n      <td>-0.157526</td>\n      <td>-1.525802</td>\n    </tr>\n    <tr>\n      <th>1</th>\n      <td>1.956940</td>\n      <td>-0.736937</td>\n    </tr>\n    <tr>\n      <th>0</th>\n      <td>-0.157526</td>\n      <td>-1.525802</td>\n    </tr>\n    <tr>\n      <th>1</th>\n      <td>1.956940</td>\n      <td>-0.736937</td>\n    </tr>\n  </tbody>\n</table>\n</div>"
     },
     "metadata": {},
     "execution_count": 88
    }
   ],
   "source": [
    "pd.concat([df,df])"
   ]
  },
  {
   "cell_type": "code",
   "execution_count": 89,
   "metadata": {},
   "outputs": [],
   "source": [
    "df = pd.DataFrame(np.random.randn(8,4), columns=['A','B','C','D'])"
   ]
  },
  {
   "cell_type": "code",
   "execution_count": 90,
   "metadata": {},
   "outputs": [
    {
     "output_type": "execute_result",
     "data": {
      "text/plain": [
       "          A         B         C         D\n",
       "0  0.868680 -1.566257 -0.166584  0.165355\n",
       "1  0.512929  0.821781  0.472510 -0.317623\n",
       "2  2.095500  1.676867 -0.712714  1.233066\n",
       "3  0.916344  1.467143 -0.570896  0.221685\n",
       "4 -0.554656  2.245104 -1.441053 -0.389300\n",
       "5 -0.498578 -1.286163 -0.060397  0.036459\n",
       "6  1.862995  3.240909  0.317966 -0.239520\n",
       "7 -0.686820 -0.672838  0.056219  1.470974"
      ],
      "text/html": "<div>\n<style scoped>\n    .dataframe tbody tr th:only-of-type {\n        vertical-align: middle;\n    }\n\n    .dataframe tbody tr th {\n        vertical-align: top;\n    }\n\n    .dataframe thead th {\n        text-align: right;\n    }\n</style>\n<table border=\"1\" class=\"dataframe\">\n  <thead>\n    <tr style=\"text-align: right;\">\n      <th></th>\n      <th>A</th>\n      <th>B</th>\n      <th>C</th>\n      <th>D</th>\n    </tr>\n  </thead>\n  <tbody>\n    <tr>\n      <th>0</th>\n      <td>0.868680</td>\n      <td>-1.566257</td>\n      <td>-0.166584</td>\n      <td>0.165355</td>\n    </tr>\n    <tr>\n      <th>1</th>\n      <td>0.512929</td>\n      <td>0.821781</td>\n      <td>0.472510</td>\n      <td>-0.317623</td>\n    </tr>\n    <tr>\n      <th>2</th>\n      <td>2.095500</td>\n      <td>1.676867</td>\n      <td>-0.712714</td>\n      <td>1.233066</td>\n    </tr>\n    <tr>\n      <th>3</th>\n      <td>0.916344</td>\n      <td>1.467143</td>\n      <td>-0.570896</td>\n      <td>0.221685</td>\n    </tr>\n    <tr>\n      <th>4</th>\n      <td>-0.554656</td>\n      <td>2.245104</td>\n      <td>-1.441053</td>\n      <td>-0.389300</td>\n    </tr>\n    <tr>\n      <th>5</th>\n      <td>-0.498578</td>\n      <td>-1.286163</td>\n      <td>-0.060397</td>\n      <td>0.036459</td>\n    </tr>\n    <tr>\n      <th>6</th>\n      <td>1.862995</td>\n      <td>3.240909</td>\n      <td>0.317966</td>\n      <td>-0.239520</td>\n    </tr>\n    <tr>\n      <th>7</th>\n      <td>-0.686820</td>\n      <td>-0.672838</td>\n      <td>0.056219</td>\n      <td>1.470974</td>\n    </tr>\n  </tbody>\n</table>\n</div>"
     },
     "metadata": {},
     "execution_count": 90
    }
   ],
   "source": [
    "df"
   ]
  },
  {
   "cell_type": "code",
   "execution_count": 91,
   "metadata": {},
   "outputs": [],
   "source": [
    "s = df.iloc[0]"
   ]
  },
  {
   "cell_type": "code",
   "execution_count": 92,
   "metadata": {},
   "outputs": [
    {
     "output_type": "execute_result",
     "data": {
      "text/plain": [
       "A    0.868680\n",
       "B   -1.566257\n",
       "C   -0.166584\n",
       "D    0.165355\n",
       "Name: 0, dtype: float64"
      ]
     },
     "metadata": {},
     "execution_count": 92
    }
   ],
   "source": [
    "s"
   ]
  },
  {
   "cell_type": "code",
   "execution_count": 93,
   "metadata": {},
   "outputs": [
    {
     "output_type": "execute_result",
     "data": {
      "text/plain": [
       "A    0.868680\n",
       "B   -1.566257\n",
       "C   -0.166584\n",
       "D    0.165355\n",
       "Name: 0, dtype: float64"
      ]
     },
     "metadata": {},
     "execution_count": 93
    }
   ],
   "source": [
    "s.T"
   ]
  },
  {
   "cell_type": "code",
   "execution_count": 94,
   "metadata": {},
   "outputs": [
    {
     "output_type": "execute_result",
     "data": {
      "text/plain": [
       "[Index(['A', 'B', 'C', 'D'], dtype='object')]"
      ]
     },
     "metadata": {},
     "execution_count": 94
    }
   ],
   "source": [
    "s.axes"
   ]
  },
  {
   "cell_type": "code",
   "execution_count": 95,
   "metadata": {},
   "outputs": [
    {
     "output_type": "execute_result",
     "data": {
      "text/plain": [
       "          A         B         C         D\n",
       "0  0.868680 -1.566257 -0.166584  0.165355\n",
       "1  0.512929  0.821781  0.472510 -0.317623\n",
       "2  2.095500  1.676867 -0.712714  1.233066\n",
       "3  0.916344  1.467143 -0.570896  0.221685\n",
       "4 -0.554656  2.245104 -1.441053 -0.389300\n",
       "5 -0.498578 -1.286163 -0.060397  0.036459\n",
       "6  1.862995  3.240909  0.317966 -0.239520\n",
       "7 -0.686820 -0.672838  0.056219  1.470974\n",
       "0  0.868680 -1.566257 -0.166584  0.165355"
      ],
      "text/html": "<div>\n<style scoped>\n    .dataframe tbody tr th:only-of-type {\n        vertical-align: middle;\n    }\n\n    .dataframe tbody tr th {\n        vertical-align: top;\n    }\n\n    .dataframe thead th {\n        text-align: right;\n    }\n</style>\n<table border=\"1\" class=\"dataframe\">\n  <thead>\n    <tr style=\"text-align: right;\">\n      <th></th>\n      <th>A</th>\n      <th>B</th>\n      <th>C</th>\n      <th>D</th>\n    </tr>\n  </thead>\n  <tbody>\n    <tr>\n      <th>0</th>\n      <td>0.868680</td>\n      <td>-1.566257</td>\n      <td>-0.166584</td>\n      <td>0.165355</td>\n    </tr>\n    <tr>\n      <th>1</th>\n      <td>0.512929</td>\n      <td>0.821781</td>\n      <td>0.472510</td>\n      <td>-0.317623</td>\n    </tr>\n    <tr>\n      <th>2</th>\n      <td>2.095500</td>\n      <td>1.676867</td>\n      <td>-0.712714</td>\n      <td>1.233066</td>\n    </tr>\n    <tr>\n      <th>3</th>\n      <td>0.916344</td>\n      <td>1.467143</td>\n      <td>-0.570896</td>\n      <td>0.221685</td>\n    </tr>\n    <tr>\n      <th>4</th>\n      <td>-0.554656</td>\n      <td>2.245104</td>\n      <td>-1.441053</td>\n      <td>-0.389300</td>\n    </tr>\n    <tr>\n      <th>5</th>\n      <td>-0.498578</td>\n      <td>-1.286163</td>\n      <td>-0.060397</td>\n      <td>0.036459</td>\n    </tr>\n    <tr>\n      <th>6</th>\n      <td>1.862995</td>\n      <td>3.240909</td>\n      <td>0.317966</td>\n      <td>-0.239520</td>\n    </tr>\n    <tr>\n      <th>7</th>\n      <td>-0.686820</td>\n      <td>-0.672838</td>\n      <td>0.056219</td>\n      <td>1.470974</td>\n    </tr>\n    <tr>\n      <th>0</th>\n      <td>0.868680</td>\n      <td>-1.566257</td>\n      <td>-0.166584</td>\n      <td>0.165355</td>\n    </tr>\n  </tbody>\n</table>\n</div>"
     },
     "metadata": {},
     "execution_count": 95
    }
   ],
   "source": [
    "df.append(s)"
   ]
  },
  {
   "cell_type": "code",
   "execution_count": 96,
   "metadata": {},
   "outputs": [
    {
     "output_type": "execute_result",
     "data": {
      "text/plain": [
       "          A         B         C         D\n",
       "0  0.868680 -1.566257 -0.166584  0.165355\n",
       "1  0.512929  0.821781  0.472510 -0.317623\n",
       "2  2.095500  1.676867 -0.712714  1.233066\n",
       "3  0.916344  1.467143 -0.570896  0.221685\n",
       "4 -0.554656  2.245104 -1.441053 -0.389300\n",
       "5 -0.498578 -1.286163 -0.060397  0.036459\n",
       "6  1.862995  3.240909  0.317966 -0.239520\n",
       "7 -0.686820 -0.672838  0.056219  1.470974\n",
       "2  2.095500  1.676867 -0.712714  1.233066"
      ],
      "text/html": "<div>\n<style scoped>\n    .dataframe tbody tr th:only-of-type {\n        vertical-align: middle;\n    }\n\n    .dataframe tbody tr th {\n        vertical-align: top;\n    }\n\n    .dataframe thead th {\n        text-align: right;\n    }\n</style>\n<table border=\"1\" class=\"dataframe\">\n  <thead>\n    <tr style=\"text-align: right;\">\n      <th></th>\n      <th>A</th>\n      <th>B</th>\n      <th>C</th>\n      <th>D</th>\n    </tr>\n  </thead>\n  <tbody>\n    <tr>\n      <th>0</th>\n      <td>0.868680</td>\n      <td>-1.566257</td>\n      <td>-0.166584</td>\n      <td>0.165355</td>\n    </tr>\n    <tr>\n      <th>1</th>\n      <td>0.512929</td>\n      <td>0.821781</td>\n      <td>0.472510</td>\n      <td>-0.317623</td>\n    </tr>\n    <tr>\n      <th>2</th>\n      <td>2.095500</td>\n      <td>1.676867</td>\n      <td>-0.712714</td>\n      <td>1.233066</td>\n    </tr>\n    <tr>\n      <th>3</th>\n      <td>0.916344</td>\n      <td>1.467143</td>\n      <td>-0.570896</td>\n      <td>0.221685</td>\n    </tr>\n    <tr>\n      <th>4</th>\n      <td>-0.554656</td>\n      <td>2.245104</td>\n      <td>-1.441053</td>\n      <td>-0.389300</td>\n    </tr>\n    <tr>\n      <th>5</th>\n      <td>-0.498578</td>\n      <td>-1.286163</td>\n      <td>-0.060397</td>\n      <td>0.036459</td>\n    </tr>\n    <tr>\n      <th>6</th>\n      <td>1.862995</td>\n      <td>3.240909</td>\n      <td>0.317966</td>\n      <td>-0.239520</td>\n    </tr>\n    <tr>\n      <th>7</th>\n      <td>-0.686820</td>\n      <td>-0.672838</td>\n      <td>0.056219</td>\n      <td>1.470974</td>\n    </tr>\n    <tr>\n      <th>2</th>\n      <td>2.095500</td>\n      <td>1.676867</td>\n      <td>-0.712714</td>\n      <td>1.233066</td>\n    </tr>\n  </tbody>\n</table>\n</div>"
     },
     "metadata": {},
     "execution_count": 96
    }
   ],
   "source": [
    "df.append(df.iloc[2])"
   ]
  },
  {
   "cell_type": "code",
   "execution_count": 97,
   "metadata": {},
   "outputs": [
    {
     "output_type": "execute_result",
     "data": {
      "text/plain": [
       "          A         B         C         D\n",
       "0  0.868680 -1.566257 -0.166584  0.165355\n",
       "1  0.512929  0.821781  0.472510 -0.317623\n",
       "2  2.095500  1.676867 -0.712714  1.233066\n",
       "3  0.916344  1.467143 -0.570896  0.221685\n",
       "4 -0.554656  2.245104 -1.441053 -0.389300\n",
       "5 -0.498578 -1.286163 -0.060397  0.036459\n",
       "6  1.862995  3.240909  0.317966 -0.239520\n",
       "7 -0.686820 -0.672838  0.056219  1.470974\n",
       "8  0.868680 -1.566257 -0.166584  0.165355"
      ],
      "text/html": "<div>\n<style scoped>\n    .dataframe tbody tr th:only-of-type {\n        vertical-align: middle;\n    }\n\n    .dataframe tbody tr th {\n        vertical-align: top;\n    }\n\n    .dataframe thead th {\n        text-align: right;\n    }\n</style>\n<table border=\"1\" class=\"dataframe\">\n  <thead>\n    <tr style=\"text-align: right;\">\n      <th></th>\n      <th>A</th>\n      <th>B</th>\n      <th>C</th>\n      <th>D</th>\n    </tr>\n  </thead>\n  <tbody>\n    <tr>\n      <th>0</th>\n      <td>0.868680</td>\n      <td>-1.566257</td>\n      <td>-0.166584</td>\n      <td>0.165355</td>\n    </tr>\n    <tr>\n      <th>1</th>\n      <td>0.512929</td>\n      <td>0.821781</td>\n      <td>0.472510</td>\n      <td>-0.317623</td>\n    </tr>\n    <tr>\n      <th>2</th>\n      <td>2.095500</td>\n      <td>1.676867</td>\n      <td>-0.712714</td>\n      <td>1.233066</td>\n    </tr>\n    <tr>\n      <th>3</th>\n      <td>0.916344</td>\n      <td>1.467143</td>\n      <td>-0.570896</td>\n      <td>0.221685</td>\n    </tr>\n    <tr>\n      <th>4</th>\n      <td>-0.554656</td>\n      <td>2.245104</td>\n      <td>-1.441053</td>\n      <td>-0.389300</td>\n    </tr>\n    <tr>\n      <th>5</th>\n      <td>-0.498578</td>\n      <td>-1.286163</td>\n      <td>-0.060397</td>\n      <td>0.036459</td>\n    </tr>\n    <tr>\n      <th>6</th>\n      <td>1.862995</td>\n      <td>3.240909</td>\n      <td>0.317966</td>\n      <td>-0.239520</td>\n    </tr>\n    <tr>\n      <th>7</th>\n      <td>-0.686820</td>\n      <td>-0.672838</td>\n      <td>0.056219</td>\n      <td>1.470974</td>\n    </tr>\n    <tr>\n      <th>8</th>\n      <td>0.868680</td>\n      <td>-1.566257</td>\n      <td>-0.166584</td>\n      <td>0.165355</td>\n    </tr>\n  </tbody>\n</table>\n</div>"
     },
     "metadata": {},
     "execution_count": 97
    }
   ],
   "source": [
    "df.append(s, ignore_index=True)"
   ]
  },
  {
   "cell_type": "code",
   "execution_count": 4,
   "metadata": {},
   "outputs": [],
   "source": [
    "df = pd.DataFrame({'A': ['foo', 'bar', 'foo', 'bar'], 'B': np.random.randn(4)})"
   ]
  },
  {
   "cell_type": "code",
   "execution_count": 5,
   "metadata": {},
   "outputs": [
    {
     "output_type": "execute_result",
     "data": {
      "text/plain": [
       "     A         B\n",
       "0  foo -2.874832\n",
       "1  bar -0.885438\n",
       "2  foo -2.151053\n",
       "3  bar  0.873407"
      ],
      "text/html": "<div>\n<style scoped>\n    .dataframe tbody tr th:only-of-type {\n        vertical-align: middle;\n    }\n\n    .dataframe tbody tr th {\n        vertical-align: top;\n    }\n\n    .dataframe thead th {\n        text-align: right;\n    }\n</style>\n<table border=\"1\" class=\"dataframe\">\n  <thead>\n    <tr style=\"text-align: right;\">\n      <th></th>\n      <th>A</th>\n      <th>B</th>\n    </tr>\n  </thead>\n  <tbody>\n    <tr>\n      <th>0</th>\n      <td>foo</td>\n      <td>-2.874832</td>\n    </tr>\n    <tr>\n      <th>1</th>\n      <td>bar</td>\n      <td>-0.885438</td>\n    </tr>\n    <tr>\n      <th>2</th>\n      <td>foo</td>\n      <td>-2.151053</td>\n    </tr>\n    <tr>\n      <th>3</th>\n      <td>bar</td>\n      <td>0.873407</td>\n    </tr>\n  </tbody>\n</table>\n</div>"
     },
     "metadata": {},
     "execution_count": 5
    }
   ],
   "source": [
    "df"
   ]
  },
  {
   "cell_type": "code",
   "execution_count": 6,
   "metadata": {},
   "outputs": [
    {
     "output_type": "execute_result",
     "data": {
      "text/plain": [
       "            B\n",
       "A            \n",
       "bar -0.012031\n",
       "foo -5.025885"
      ],
      "text/html": "<div>\n<style scoped>\n    .dataframe tbody tr th:only-of-type {\n        vertical-align: middle;\n    }\n\n    .dataframe tbody tr th {\n        vertical-align: top;\n    }\n\n    .dataframe thead th {\n        text-align: right;\n    }\n</style>\n<table border=\"1\" class=\"dataframe\">\n  <thead>\n    <tr style=\"text-align: right;\">\n      <th></th>\n      <th>B</th>\n    </tr>\n    <tr>\n      <th>A</th>\n      <th></th>\n    </tr>\n  </thead>\n  <tbody>\n    <tr>\n      <th>bar</th>\n      <td>-0.012031</td>\n    </tr>\n    <tr>\n      <th>foo</th>\n      <td>-5.025885</td>\n    </tr>\n  </tbody>\n</table>\n</div>"
     },
     "metadata": {},
     "execution_count": 6
    }
   ],
   "source": [
    "df.groupby('A').sum()"
   ]
  },
  {
   "cell_type": "code",
   "execution_count": 101,
   "metadata": {},
   "outputs": [
    {
     "output_type": "execute_result",
     "data": {
      "text/plain": [
       "B    1.750192\n",
       "dtype: float64"
      ]
     },
     "metadata": {},
     "execution_count": 101
    }
   ],
   "source": [
    "df.groupby('A').sum().max()"
   ]
  },
  {
   "cell_type": "code",
   "execution_count": 7,
   "metadata": {},
   "outputs": [
    {
     "output_type": "execute_result",
     "data": {
      "text/plain": [
       "B   -5.025885\n",
       "dtype: float64"
      ]
     },
     "metadata": {},
     "execution_count": 7
    }
   ],
   "source": [
    "df.groupby('A').sum().min()"
   ]
  },
  {
   "cell_type": "code",
   "execution_count": 9,
   "metadata": {},
   "outputs": [
    {
     "output_type": "error",
     "ename": "ModuleNotFoundError",
     "evalue": "No module named 'pandas_datareader'",
     "traceback": [
      "\u001b[0;31m---------------------------------------------------------------------------\u001b[0m",
      "\u001b[0;31mModuleNotFoundError\u001b[0m                       Traceback (most recent call last)",
      "\u001b[0;32m<ipython-input-9-a918617b42da>\u001b[0m in \u001b[0;36m<module>\u001b[0;34m()\u001b[0m\n\u001b[0;32m----> 1\u001b[0;31m \u001b[0;32mimport\u001b[0m \u001b[0mpandas_datareader\u001b[0m\u001b[0;34m\u001b[0m\u001b[0m\n\u001b[0m",
      "\u001b[0;31mModuleNotFoundError\u001b[0m: No module named 'pandas_datareader'"
     ]
    }
   ],
   "source": [
    "import pandas_datareader"
   ]
  },
  {
   "cell_type": "code",
   "execution_count": null,
   "metadata": {},
   "outputs": [],
   "source": []
  }
 ]
}